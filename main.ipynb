{
 "cells": [
  {
   "cell_type": "code",
   "execution_count": 30,
   "metadata": {},
   "outputs": [],
   "source": [
    "#!pip install -q numpy==1.26.4"
   ]
  },
  {
   "cell_type": "code",
   "execution_count": 103,
   "metadata": {},
   "outputs": [],
   "source": [
    "import warnings\n",
    "import pandas as pd\n",
    "import numpy as np\n",
    "import matplotlib.pyplot as plt\n",
    "import seaborn as sns\n",
    "import sweetviz as sv\n",
    "import torch\n",
    "import torch.nn as nn\n",
    "import torch.nn.functional as F\n",
    "import optuna\n",
    "import lightgbm as lgb\n",
    "import shap\n",
    "import gc\n",
    "\n",
    "from typing import Optional, List, Callable, Union\n",
    "from sqlalchemy.engine import Engine\n",
    "from torch.utils.data import DataLoader, TensorDataset\n",
    "from sklearn.model_selection import train_test_split, cross_val_score\n",
    "from sklearn.preprocessing import MinMaxScaler, OrdinalEncoder\n",
    "from sklearn.compose import ColumnTransformer\n",
    "from sklearn.metrics import f1_score, ConfusionMatrixDisplay, confusion_matrix\n",
    "from sklearn.ensemble import RandomForestClassifier\n",
    "from phik import phik_matrix\n",
    "from sqlalchemy import create_engine"
   ]
  },
  {
   "cell_type": "code",
   "execution_count": 32,
   "metadata": {},
   "outputs": [],
   "source": [
    "warnings.filterwarnings('ignore')"
   ]
  },
  {
   "cell_type": "code",
   "execution_count": 33,
   "metadata": {},
   "outputs": [
    {
     "name": "stdout",
     "output_type": "stream",
     "text": [
      "cuda\n"
     ]
    }
   ],
   "source": [
    "RANDOM_STATE = 0\n",
    "TEST_SIZE = 0.2\n",
    "torch.manual_seed(RANDOM_STATE)\n",
    "device = torch.device('cuda' if torch.cuda.is_available() else 'cpu')\n",
    "print(device)"
   ]
  },
  {
   "cell_type": "code",
   "execution_count": 34,
   "metadata": {},
   "outputs": [
    {
     "name": "stdout",
     "output_type": "stream",
     "text": [
      "True\n"
     ]
    }
   ],
   "source": [
    "print(torch.cuda.is_available())"
   ]
  },
  {
   "cell_type": "code",
   "execution_count": 35,
   "metadata": {},
   "outputs": [],
   "source": [
    "def connect_to_db() -> Optional[Engine]:\n",
    "    try:\n",
    "        db_config = {\n",
    "            'user': 'praktikum_student',\n",
    "            'pwd': 'Sdf4$2;d-d30pp', \n",
    "            'host': 'rc1b-wcoijxj3yxfsf3fs.mdb.yandexcloud.net',\n",
    "            'port': 6432,\n",
    "            'db': 'data-science-vehicle-db'\n",
    "        } \n",
    "        connection_string = 'postgresql://{}:{}@{}:{}/{}'.format(\n",
    "            db_config['user'],\n",
    "            db_config['pwd'],\n",
    "            db_config['host'],\n",
    "            db_config['port'],\n",
    "            db_config['db']\n",
    "        )\n",
    "        return create_engine(connection_string)\n",
    "    \n",
    "    except Exception as e:\n",
    "        print(f'Error: {e}')\n",
    "        return None\n"
   ]
  },
  {
   "cell_type": "code",
   "execution_count": 36,
   "metadata": {},
   "outputs": [],
   "source": [
    "def get_any_data(query: str) -> Optional[pd.DataFrame]:\n",
    "    try:\n",
    "        engine = connect_to_db()\n",
    "        \n",
    "        get_query = query\n",
    "        return pd.read_sql_query(get_query, con=engine)\n",
    "    \n",
    "    except Exception as e:\n",
    "        print(f'Error: {e}')\n",
    "        return None"
   ]
  },
  {
   "cell_type": "code",
   "execution_count": 37,
   "metadata": {},
   "outputs": [],
   "source": [
    "def get_main_data() -> Optional[pd.DataFrame]:\n",
    "    try:\n",
    "        engine = connect_to_db()\n",
    "        \n",
    "        query = '''\n",
    "            SELECT\n",
    "                c.*,\n",
    "                p.party_number, p.at_fault, p.insurance_premium, p.party_sobriety, p.party_drug_physical, p.cellphone_in_use,\n",
    "                v.vehicle_type, v.vehicle_transmission, v.vehicle_age\n",
    "            FROM\n",
    "                collisions c\n",
    "            INNER JOIN\n",
    "                parties p ON c.case_id = p.case_id\n",
    "            INNER JOIN\n",
    "                vehicles v ON c.case_id = v.case_id\n",
    "            WHERE\n",
    "                c.collision_date BETWEEN '2012-01-01' AND '2012-12-31'\n",
    "                AND c.collision_damage != 'scratch'\n",
    "                AND p.party_type = 'car';\n",
    "        '''\n",
    "        return pd.read_sql_query(query, con=engine)\n",
    "    except Exception as e:\n",
    "        print(f'Error: {e}')\n",
    "        return None"
   ]
  },
  {
   "cell_type": "code",
   "execution_count": 38,
   "metadata": {},
   "outputs": [],
   "source": [
    "def get_data() -> Optional[pd.DataFrame]:\n",
    "    try:\n",
    "        engine = connect_to_db()\n",
    "\n",
    "        query = '''\n",
    "            SELECT \n",
    "                v.party_number, v.vehicle_type, v.vehicle_transmission, v.vehicle_age,\n",
    "                c.collision_date, c.case_id\n",
    "            FROM vehicles v\n",
    "            JOIN collisions c ON v.case_id = c.case_id\n",
    "            JOIN parties p ON v.case_id = p.case_id\n",
    "            WHERE \n",
    "                c.collision_date BETWEEN '2012-01-01' AND '2012-12-31'\n",
    "                AND c.collision_damage != 'scratch'\n",
    "                AND p.party_type = 'car';\n",
    "\n",
    "        '''\n",
    "        data = pd.read_sql_query(query, con=engine)\n",
    "        data.collision_date = pd.to_datetime(data.collision_date)\n",
    "        data['month'] = data.collision_date.dt.month\n",
    "        data.vehicle_age = data.vehicle_age.fillna(-1).astype('int')\n",
    "        return data\n",
    "    except Exception as e:\n",
    "        print(f'Error: {e}')\n",
    "        return None"
   ]
  },
  {
   "cell_type": "code",
   "execution_count": 39,
   "metadata": {},
   "outputs": [],
   "source": [
    "def pie_chart(data: pd.DataFrame, \n",
    "              column: str, \n",
    "              **kwargs) -> None:\n",
    "    data[column].value_counts().plot(\n",
    "        kind='pie',\n",
    "        figsize=(10,10),\n",
    "        autopct='%1.1f%%',\n",
    "        wedgeprops={'width':0.5},\n",
    "        ylabel='',\n",
    "        **kwargs\n",
    "    )\n",
    "    plt.tight_layout()\n",
    "    plt.legend(bbox_to_anchor=(1.3, 1), loc='upper right', fontsize=11)\n",
    "    plt.show()"
   ]
  },
  {
   "cell_type": "code",
   "execution_count": 40,
   "metadata": {},
   "outputs": [],
   "source": [
    "def line_chart(data: pd.DataFrame, \n",
    "               index: Union[str, List[str]], \n",
    "               values: Union[str, List[str]], \n",
    "               aggfunc: Union[str, Callable], \n",
    "               **kwargs) -> None:\n",
    "    data.pivot_table(\n",
    "        index=index,\n",
    "        values=values,\n",
    "        aggfunc=aggfunc).plot(     \n",
    "            style='o-',\n",
    "            figsize=(15, 6),\n",
    "            markerfacecolor='blue',\n",
    "            markeredgecolor='black',\n",
    "            markersize=8,\n",
    "            linewidth=2,\n",
    "            fontsize=14,\n",
    "            **kwargs\n",
    "        )\n",
    "    \n",
    "    plt.legend(loc='upper left')\n",
    "    plt.xticks(rotation=45)\n",
    "    plt.tight_layout()\n",
    "    plt.show()"
   ]
  },
  {
   "cell_type": "code",
   "execution_count": 41,
   "metadata": {},
   "outputs": [],
   "source": [
    "def bar_chart(data, column, **kwargs) -> None:\n",
    "    data[column].value_counts().plot(\n",
    "        kind='bar',\n",
    "        figsize=(11,7),\n",
    "        color='#BA55D3',\n",
    "        **kwargs\n",
    "    )\n",
    "    plt.legend()\n",
    "    plt.show()"
   ]
  },
  {
   "cell_type": "code",
   "execution_count": 42,
   "metadata": {},
   "outputs": [],
   "source": [
    "data = get_main_data()\n",
    "analyze_data = get_data()"
   ]
  },
  {
   "cell_type": "code",
   "execution_count": 43,
   "metadata": {},
   "outputs": [
    {
     "data": {
      "image/png": "[encoded data removed]",
      "text/plain": [
       "<Figure size 1500x600 with 1 Axes>"
      ]
     },
     "metadata": {},
     "output_type": "display_data"
    }
   ],
   "source": [
    "line_chart(analyze_data, 'month', 'case_id', 'count')"
   ]
  },
  {
   "cell_type": "markdown",
   "metadata": {},
   "source": [
    "## ШАГ 3 ЗАДАНИЕ 2"
   ]
  },
  {
   "cell_type": "markdown",
   "metadata": {},
   "source": [
    "Задачи для коллег \n",
    "\n",
    "    Аналитические задачи для коллег:\n",
    "\n",
    "        Проанализировать использование телефона за рулем и погодные условия\n",
    "        Цель: определить, при каких условиях чаще происходят аварии\n",
    "\n",
    "        Исследовать связь времени суток с тяжестью повреждений\n",
    "        Цель: выявить периоды с наиболее серьёзными последствиями\n",
    "\n",
    "        Определить, как возраст водителя влияет на вероятность ДТП\n",
    "        Цель: найти возрастные группы с повышенным риском\n",
    "\n",
    "        Изучить распределение ДТП по типам дорожного покрытия\n",
    "        Цель: выявить опасные типы дорог\n",
    "\n",
    "        Проанализировать связь между скоростным режимом на участке и количеством ДТП\n",
    "        Цель: определить, как скорость влияет на аварийность\n",
    "\n",
    "        Оценить влияние освещения дороги на частоту ДТП в ночное время\n",
    "        Цель: проверить, снижает ли освещение риски"
   ]
  },
  {
   "cell_type": "markdown",
   "metadata": {},
   "source": [
    "Решение задачи 1 - 'Проанализировать влияние погодных условий на частоту ДТП'"
   ]
  },
  {
   "cell_type": "markdown",
   "metadata": {},
   "source": [
    "### Решение первой задачи"
   ]
  },
  {
   "cell_type": "code",
   "execution_count": 44,
   "metadata": {},
   "outputs": [],
   "source": [
    "query_task1 = '''\n",
    "    SELECT \n",
    "        c.weather_1,\n",
    "        p.cellphone_in_use\n",
    "    FROM collisions c\n",
    "    JOIN parties p ON c.case_id = p.case_id\n",
    "    WHERE \n",
    "        c.collision_date BETWEEN '2012-01-01' AND '2012-12-31'\n",
    "        AND c.collision_damage != 'scratch'\n",
    "        AND p.party_type = 'car'\n",
    "        AND p.at_fault = 1\n",
    "        AND c.weather_1 IS NOT NULL\n",
    "        AND p.cellphone_in_use IS NOT NULL\n",
    "        AND p.cellphone_in_use = 1;\n",
    "'''\n",
    "task1 = get_any_data(query_task1)"
   ]
  },
  {
   "cell_type": "code",
   "execution_count": 45,
   "metadata": {},
   "outputs": [
    {
     "data": {
      "image/png": "[encoded data removed]",
      "text/plain": [
       "<Figure size 1100x700 with 1 Axes>"
      ]
     },
     "metadata": {},
     "output_type": "display_data"
    }
   ],
   "source": [
    "bar_chart(task1, 'weather_1')"
   ]
  },
  {
   "cell_type": "markdown",
   "metadata": {},
   "source": [
    "### Решение второй задачи"
   ]
  },
  {
   "cell_type": "code",
   "execution_count": 46,
   "metadata": {},
   "outputs": [],
   "source": [
    "# query_task2 = '''\n",
    "#     SELECT \n",
    "#         c.weather_1,\n",
    "#         p.cellphone_in_use\n",
    "#     FROM collisions c\n",
    "#     JOIN parties p ON c.case_id = p.case_id\n",
    "#     WHERE \n",
    "#         c.collision_date BETWEEN '2012-01-01' AND '2012-12-31'\n",
    "#         AND c.collision_damage != 'scratch'\n",
    "#         AND p.party_type = 'car'\n",
    "#         AND p.at_fault = 1\n",
    "#         AND c.weather_1 IS NOT NULL\n",
    "#         AND p.cellphone_in_use IS NOT NULL\n",
    "#         AND p.cellphone_in_use = 1;\n",
    "# '''\n",
    "# task2 = get_any_data(query_task2)"
   ]
  },
  {
   "cell_type": "code",
   "execution_count": 47,
   "metadata": {},
   "outputs": [],
   "source": [
    "# bar_chart(task1, 'weather_1')"
   ]
  },
  {
   "cell_type": "markdown",
   "metadata": {},
   "source": [
    "## Предобработка"
   ]
  },
  {
   "cell_type": "code",
   "execution_count": 48,
   "metadata": {},
   "outputs": [],
   "source": [
    "data = data.drop_duplicates()\n",
    "data.case_id = data.case_id.astype('int')\n",
    "data = data[data['distance'] < 4000.0]\n",
    "data.direction = data.direction.fillna('unknown').astype('category')\n",
    "data.intersection = data.intersection.apply(lambda x: 'Y' if x == 1. else \n",
    "                                                      'N' if x == 0 else x).fillna('unknown').astype('category')\n",
    "data.weather_1 = data.weather_1.fillna('unknown').astype('category')\n",
    "data.location_type = data.location_type.fillna('unknown').astype('category')\n",
    "data.collision_damage = data.collision_damage.astype('category')\n",
    "data.party_count = data.party_count.apply(lambda x: '5+' if x > 4 else x).apply(\n",
    "    lambda x: 'one' if x == 1 else\n",
    "              'two' if x == 2 else\n",
    "              'three' if x == 3 else\n",
    "              'four' if x == 4 else\n",
    "              'five_plus' if str(x) == '5+' else x).astype('category')\n",
    "data.primary_collision_factor = data.primary_collision_factor.fillna('unknown').astype('category')\n",
    "data.pcf_violation_category = data.pcf_violation_category.fillna('unknown').astype('category')\n",
    "data.type_of_collision = data.type_of_collision.fillna('other').astype('category')\n",
    "data.motor_vehicle_involved_with = data.motor_vehicle_involved_with.fillna('unknown').astype('category')\n",
    "data.road_surface = data.road_surface.fillna('unknown').astype('category')\n",
    "data.road_condition_1 = data.road_condition_1.fillna('other').astype('category')\n",
    "data.lighting = data.lighting.fillna('unknown').astype('category')\n",
    "data.control_device = data.control_device.fillna('unknown').astype('category')\n",
    "data.collision_date = pd.to_datetime(data.collision_date)\n",
    "data['collision_month'] = data.collision_date.dt.month\n",
    "data['collision_day'] = data.collision_date.dt.day\n",
    "data.collision_time = pd.to_datetime(data.collision_time, format='%H:%M:%S')\n",
    "data['collision_hour'] = data.collision_time.dt.hour\n",
    "data.party_number = data.party_number.apply(lambda x: '5+' if x > 4 else x).apply(\n",
    "    lambda x: 'one' if x == 1 else\n",
    "              'two' if x == 2 else\n",
    "              'three' if x == 3 else\n",
    "              'four' if x == 4 else\n",
    "              'five_plus' if str(x) == '5+' else x).astype('category')\n",
    "data.at_fault = data.at_fault.astype('category')\n",
    "data.party_sobriety = data.party_sobriety.fillna('unknown').astype('category')\n",
    "data.party_drug_physical = data.party_drug_physical.fillna('unknown').astype('category')\n",
    "data.cellphone_in_use = data.cellphone_in_use.fillna('3.0').apply(\n",
    "    lambda x: 'no' if x == 0 else\n",
    "              'yes' if x == 1 else\n",
    "              'unknown' if x == 3 else x).astype('category')\n",
    "data.vehicle_type = data.vehicle_type.astype('category')\n",
    "data.vehicle_transmission = data.vehicle_transmission.fillna('unknown').astype('category')\n",
    "data = data[data['vehicle_age'] < 161.0]\n",
    "data['insurance_premium'] = data['insurance_premium'].fillna(-1)\n",
    "data['collision_hour'] = data['collision_hour'].interpolate()\n",
    "data.at_fault = data.at_fault.astype('int')\n"
   ]
  },
  {
   "cell_type": "code",
   "execution_count": 49,
   "metadata": {},
   "outputs": [],
   "source": [
    "# report = sv.analyze(data)\n",
    "# report.show_notebook()"
   ]
  },
  {
   "cell_type": "markdown",
   "metadata": {},
   "source": [
    "## Шаг 4. Создание моделей для оценки водительского риска"
   ]
  },
  {
   "cell_type": "markdown",
   "metadata": {},
   "source": [
    "### Подготовка данных для моделей"
   ]
  },
  {
   "cell_type": "code",
   "execution_count": 50,
   "metadata": {},
   "outputs": [],
   "source": [
    "# plt.figure(figsize=(15, 13))\n",
    "# sns.heatmap(phik_matrix(data[[\n",
    "#     'county_location',\n",
    "#     'intersection',\n",
    "#     'weather_1',\n",
    "#     'location_type',\n",
    "#     'collision_damage',\n",
    "#     'party_count',\n",
    "#     'primary_collision_factor',\n",
    "#     'pcf_violation_category',\n",
    "#     'type_of_collision',\n",
    "#     'motor_vehicle_involved_with',\n",
    "#     'road_surface',\n",
    "#     'road_condition_1',\n",
    "#     'lighting',\n",
    "#     'control_device',\n",
    "#     'party_number',\n",
    "#     'at_fault',\n",
    "#     'party_sobriety',\n",
    "#     'party_drug_physical',\n",
    "#     'cellphone_in_use',\n",
    "#     'vehicle_transmission',\n",
    "# ]], interval_cols=['distance', 'insurance_premium', 'vehicle_age', 'collision_month', 'collision_day', 'collision_hour']), annot=True, cmap='coolwarm')\n",
    "# plt.show()"
   ]
  },
  {
   "cell_type": "code",
   "execution_count": 101,
   "metadata": {},
   "outputs": [],
   "source": [
    "num_cols = [\n",
    "    'distance', \n",
    "    'insurance_premium', \n",
    "    'vehicle_age', \n",
    "    'collision_month', \n",
    "    'collision_day', \n",
    "    'collision_hour'\n",
    "]\n",
    "cat_cols = [\n",
    "    'county_location',\n",
    "    'intersection',\n",
    "    'weather_1',\n",
    "    'location_type',\n",
    "    'collision_damage',\n",
    "    'party_count',\n",
    "    'primary_collision_factor',\n",
    "    'pcf_violation_category',\n",
    "    'type_of_collision',\n",
    "    'motor_vehicle_involved_with',\n",
    "    'road_surface',\n",
    "    'road_condition_1',\n",
    "    'lighting',\n",
    "    'control_device',\n",
    "    'party_number',\n",
    "    'party_sobriety',\n",
    "    'party_drug_physical',\n",
    "    'cellphone_in_use',\n",
    "    'vehicle_transmission'\n",
    "]\n",
    "all_cols = num_cols + cat_cols"
   ]
  },
  {
   "cell_type": "code",
   "execution_count": null,
   "metadata": {},
   "outputs": [],
   "source": [
    "X = data[all_cols]\n",
    "y = data.at_fault\n",
    "\n",
    "X_train, X_test, y_train, y_test = train_test_split(\n",
    "    X,\n",
    "    y,\n",
    "    test_size=TEST_SIZE,\n",
    "    random_state=RANDOM_STATE,\n",
    "    shuffle=True,\n",
    "    stratify=y)"
   ]
  },
  {
   "cell_type": "code",
   "execution_count": 53,
   "metadata": {},
   "outputs": [],
   "source": [
    "def data_preporation(\n",
    "        numeric_cols: List[str] = num_cols,\n",
    "        category_cols: List[str] = cat_cols,\n",
    "        X_train: pd.DataFrame = X_train,\n",
    "        X_test: pd.DataFrame = X_test\n",
    ") -> tuple[pd.DataFrame, pd.DataFrame]:\n",
    "    \n",
    "    preprocessor = ColumnTransformer(\n",
    "    transformers=[\n",
    "        ('num', MinMaxScaler(), numeric_cols),\n",
    "        ('cat', OrdinalEncoder(\n",
    "            handle_unknown='use_encoded_value', \n",
    "            unknown_value=np.nan                     \n",
    "        ), category_cols)\n",
    "    ], remainder='passthrough')\n",
    "\n",
    "    X_train_processed = preprocessor.fit_transform(X_train)\n",
    "    X_test_processed = preprocessor.transform(X_test)\n",
    "\n",
    "    feature_names = preprocessor.get_feature_names_out()\n",
    "    X_train = pd.DataFrame(X_train_processed, columns=feature_names)\n",
    "    X_test = pd.DataFrame(X_test_processed, columns=feature_names)\n",
    "    return X_train, X_test\n",
    "\n",
    "X_train, X_test = data_preporation()"
   ]
  },
  {
   "cell_type": "code",
   "execution_count": 54,
   "metadata": {},
   "outputs": [],
   "source": [
    "X_train_torch = torch.FloatTensor(X_train.values).to(device)\n",
    "X_test_torch = torch.FloatTensor(X_test.values).to(device)\n",
    "y_train_torch = torch.FloatTensor(y_train.values).to(device)\n",
    "y_test_torch = torch.FloatTensor(y_test.values).to(device)\n",
    "\n",
    "train_dataset_torch = TensorDataset(X_train_torch, y_train_torch)\n",
    "test_dataset_torch = TensorDataset(X_test_torch, y_test_torch)"
   ]
  },
  {
   "cell_type": "markdown",
   "metadata": {},
   "source": [
    "### Написание нейронной сети с помощью pytorch"
   ]
  },
  {
   "cell_type": "markdown",
   "metadata": {},
   "source": [
    "#### Написание архитектуры"
   ]
  },
  {
   "cell_type": "code",
   "execution_count": 55,
   "metadata": {},
   "outputs": [],
   "source": [
    "class Net(nn.Module):\n",
    "    def __init__(self, input_size, hidden_units, dropout_rate):\n",
    "        super(Net, self).__init__()\n",
    "\n",
    "        self.layers = nn.Sequential(\n",
    "            nn.Linear(input_size, hidden_units),\n",
    "            nn.BatchNorm1d(hidden_units),\n",
    "            nn.ReLU(),\n",
    "            nn.Dropout(dropout_rate),\n",
    "\n",
    "            nn.Linear(hidden_units, hidden_units//2),\n",
    "            nn.BatchNorm1d(hidden_units//2),\n",
    "            nn.ReLU(),\n",
    "            nn.Dropout(dropout_rate),\n",
    "\n",
    "            nn.Linear(hidden_units//2, hidden_units//4),\n",
    "            nn.BatchNorm1d(hidden_units//4),\n",
    "            nn.ReLU(),\n",
    "            nn.Dropout(dropout_rate),\n",
    "\n",
    "            nn.Linear(hidden_units//4, hidden_units//8),\n",
    "            nn.BatchNorm1d(hidden_units//8),\n",
    "            nn.ReLU(),\n",
    "            nn.Dropout(dropout_rate),\n",
    "\n",
    "            nn.Linear(hidden_units//8, 1),\n",
    "            #nn.Sigmoid()\n",
    "        )\n",
    "\n",
    "    def forward(self, x):\n",
    "        return self.layers(x)"
   ]
  },
  {
   "cell_type": "markdown",
   "metadata": {},
   "source": [
    "#### Перебор гиперпараметров с помощью оптуны"
   ]
  },
  {
   "cell_type": "code",
   "execution_count": 56,
   "metadata": {},
   "outputs": [],
   "source": [
    "def objective(trial):\n",
    "    params = {\n",
    "        'hidden_units': trial.suggest_categorical('hidden_units', [256, 512, 1024, 2048]),\n",
    "        'dropout_rate': trial.suggest_float('dropout_rate', 0.1, 0.5),\n",
    "        'lr': trial.suggest_float('lr', 1e-4, 1e-2, log=True),\n",
    "        'batch_size': trial.suggest_categorical('batch_size', [64, 128, 256, 512, 1024, 2048])\n",
    "    }\n",
    "\n",
    "    print(f\"\\n=== Starting Trial {trial.number} ===\")\n",
    "    print(f\"Parameters: {params}\")\n",
    "\n",
    "    train_loader = DataLoader(train_dataset_torch,\n",
    "                              batch_size=params['batch_size'],\n",
    "                              shuffle=True)\n",
    "    \n",
    "    net = Net(\n",
    "        input_size=X_train.shape[1],\n",
    "        hidden_units=params['hidden_units'],\n",
    "        dropout_rate=params['dropout_rate']\n",
    "    ).to(device)\n",
    "\n",
    "    optimizer = torch.optim.Adam(net.parameters(), lr=params['lr'])\n",
    "    loss_fn = nn.BCEWithLogitsLoss()\n",
    "\n",
    "    best_f1 = 0\n",
    "    patience = 20\n",
    "    no_improve = 0\n",
    "    num_epoch = 500\n",
    "\n",
    "    for epoch in range(num_epoch):\n",
    "        net.train()\n",
    "        for inputs, labels in train_loader:\n",
    "            inputs, labels = inputs.to(device), labels.to(device)\n",
    "\n",
    "            optimizer.zero_grad()\n",
    "            train_preds = net(inputs)\n",
    "            train_loss = loss_fn(train_preds, labels.unsqueeze(1)) \n",
    "            train_loss.backward()\n",
    "            optimizer.step()\n",
    "        \n",
    "        if epoch % 5 == 0 or epoch == num_epoch -1:\n",
    "            net.eval()\n",
    "            with torch.no_grad():\n",
    "                test_inputs, test_labels = X_test_torch.to(device), y_test_torch.to(device)\n",
    "                outputs = net(test_inputs)\n",
    "                test_preds = (outputs > 0.5).float()\n",
    "                test_f1 = f1_score(test_labels.cpu(), test_preds.cpu())\n",
    "                \n",
    "                if test_f1 > best_f1:\n",
    "                    best_f1 = test_f1\n",
    "                    no_improve = 0\n",
    "                    best_epoch = epoch\n",
    "                else:\n",
    "                    no_improve += 1\n",
    "\n",
    "                print(f\"Trial {trial.number} | Epoch {epoch:3d} | \"\n",
    "                      f\"Val F1: {test_f1:.4f} | Best F1: {best_f1:.4f} @ Epoch {best_epoch}\")\n",
    "\n",
    "                if no_improve >= patience:\n",
    "                    print(f\"Early stopping at epoch {epoch}\")\n",
    "                    break\n",
    "\n",
    "            trial.report(test_f1, epoch)\n",
    "            if trial.should_prune():\n",
    "                print(f\"Pruned trial {trial.number} at epoch {epoch}\")\n",
    "                raise optuna.exceptions.TrialPruned()\n",
    "            \n",
    "    print(f\"=== Completed Trial {trial.number} | Best F1: {best_f1:.4f} ===\")\n",
    "    return best_f1"
   ]
  },
  {
   "cell_type": "code",
   "execution_count": 57,
   "metadata": {},
   "outputs": [
    {
     "name": "stderr",
     "output_type": "stream",
     "text": [
      "[I 2025-02-24 19:11:27,153] A new study created in memory with name: no-name-cc2d9665-5c59-4255-afd8-92f58c9f7773\n"
     ]
    },
    {
     "name": "stdout",
     "output_type": "stream",
     "text": [
      "\n",
      "=== Starting Trial 0 ===\n",
      "Parameters: {'hidden_units': 1024, 'dropout_rate': 0.19286397590071594, 'lr': 0.006865064440630252, 'batch_size': 64}\n",
      "Trial 0 | Epoch   0 | Val F1: 0.9017 | Best F1: 0.9017 @ Epoch 0\n",
      "Trial 0 | Epoch   5 | Val F1: 0.8974 | Best F1: 0.9017 @ Epoch 0\n",
      "Trial 0 | Epoch  10 | Val F1: 0.9062 | Best F1: 0.9062 @ Epoch 10\n",
      "Trial 0 | Epoch  15 | Val F1: 0.9060 | Best F1: 0.9062 @ Epoch 10\n",
      "Trial 0 | Epoch  20 | Val F1: 0.9063 | Best F1: 0.9063 @ Epoch 20\n",
      "Trial 0 | Epoch  25 | Val F1: 0.9062 | Best F1: 0.9063 @ Epoch 20\n",
      "Trial 0 | Epoch  30 | Val F1: 0.9033 | Best F1: 0.9063 @ Epoch 20\n",
      "Trial 0 | Epoch  35 | Val F1: 0.9022 | Best F1: 0.9063 @ Epoch 20\n",
      "Trial 0 | Epoch  40 | Val F1: 0.9039 | Best F1: 0.9063 @ Epoch 20\n",
      "Trial 0 | Epoch  45 | Val F1: 0.9041 | Best F1: 0.9063 @ Epoch 20\n",
      "Trial 0 | Epoch  50 | Val F1: 0.9046 | Best F1: 0.9063 @ Epoch 20\n",
      "Trial 0 | Epoch  55 | Val F1: 0.9018 | Best F1: 0.9063 @ Epoch 20\n",
      "Trial 0 | Epoch  60 | Val F1: 0.9070 | Best F1: 0.9070 @ Epoch 60\n",
      "Trial 0 | Epoch  65 | Val F1: 0.9011 | Best F1: 0.9070 @ Epoch 60\n",
      "Trial 0 | Epoch  70 | Val F1: 0.9036 | Best F1: 0.9070 @ Epoch 60\n",
      "Trial 0 | Epoch  75 | Val F1: 0.9045 | Best F1: 0.9070 @ Epoch 60\n",
      "Trial 0 | Epoch  80 | Val F1: 0.9056 | Best F1: 0.9070 @ Epoch 60\n",
      "Trial 0 | Epoch  85 | Val F1: 0.9037 | Best F1: 0.9070 @ Epoch 60\n",
      "Trial 0 | Epoch  90 | Val F1: 0.9055 | Best F1: 0.9070 @ Epoch 60\n",
      "Trial 0 | Epoch  95 | Val F1: 0.9014 | Best F1: 0.9070 @ Epoch 60\n",
      "Trial 0 | Epoch 100 | Val F1: 0.9050 | Best F1: 0.9070 @ Epoch 60\n",
      "Trial 0 | Epoch 105 | Val F1: 0.9038 | Best F1: 0.9070 @ Epoch 60\n",
      "Trial 0 | Epoch 110 | Val F1: 0.9043 | Best F1: 0.9070 @ Epoch 60\n",
      "Trial 0 | Epoch 115 | Val F1: 0.9072 | Best F1: 0.9072 @ Epoch 115\n",
      "Trial 0 | Epoch 120 | Val F1: 0.9019 | Best F1: 0.9072 @ Epoch 115\n",
      "Trial 0 | Epoch 125 | Val F1: 0.9049 | Best F1: 0.9072 @ Epoch 115\n",
      "Trial 0 | Epoch 130 | Val F1: 0.8999 | Best F1: 0.9072 @ Epoch 115\n",
      "Trial 0 | Epoch 135 | Val F1: 0.9071 | Best F1: 0.9072 @ Epoch 115\n",
      "Trial 0 | Epoch 140 | Val F1: 0.9102 | Best F1: 0.9102 @ Epoch 140\n",
      "Trial 0 | Epoch 145 | Val F1: 0.9076 | Best F1: 0.9102 @ Epoch 140\n",
      "Trial 0 | Epoch 150 | Val F1: 0.9062 | Best F1: 0.9102 @ Epoch 140\n",
      "Trial 0 | Epoch 155 | Val F1: 0.9050 | Best F1: 0.9102 @ Epoch 140\n",
      "Trial 0 | Epoch 160 | Val F1: 0.9060 | Best F1: 0.9102 @ Epoch 140\n",
      "Trial 0 | Epoch 165 | Val F1: 0.9078 | Best F1: 0.9102 @ Epoch 140\n",
      "Trial 0 | Epoch 170 | Val F1: 0.9056 | Best F1: 0.9102 @ Epoch 140\n",
      "Trial 0 | Epoch 175 | Val F1: 0.9083 | Best F1: 0.9102 @ Epoch 140\n",
      "Trial 0 | Epoch 180 | Val F1: 0.9043 | Best F1: 0.9102 @ Epoch 140\n",
      "Trial 0 | Epoch 185 | Val F1: 0.9049 | Best F1: 0.9102 @ Epoch 140\n",
      "Trial 0 | Epoch 190 | Val F1: 0.9071 | Best F1: 0.9102 @ Epoch 140\n",
      "Trial 0 | Epoch 195 | Val F1: 0.9052 | Best F1: 0.9102 @ Epoch 140\n",
      "Trial 0 | Epoch 200 | Val F1: 0.9095 | Best F1: 0.9102 @ Epoch 140\n",
      "Trial 0 | Epoch 205 | Val F1: 0.9100 | Best F1: 0.9102 @ Epoch 140\n",
      "Trial 0 | Epoch 210 | Val F1: 0.9082 | Best F1: 0.9102 @ Epoch 140\n",
      "Trial 0 | Epoch 215 | Val F1: 0.9070 | Best F1: 0.9102 @ Epoch 140\n",
      "Trial 0 | Epoch 220 | Val F1: 0.9070 | Best F1: 0.9102 @ Epoch 140\n",
      "Trial 0 | Epoch 225 | Val F1: 0.9057 | Best F1: 0.9102 @ Epoch 140\n",
      "Trial 0 | Epoch 230 | Val F1: 0.9073 | Best F1: 0.9102 @ Epoch 140\n",
      "Trial 0 | Epoch 235 | Val F1: 0.9067 | Best F1: 0.9102 @ Epoch 140\n"
     ]
    },
    {
     "name": "stderr",
     "output_type": "stream",
     "text": [
      "[I 2025-02-24 19:20:47,900] Trial 0 finished with value: 0.9102425611312973 and parameters: {'hidden_units': 1024, 'dropout_rate': 0.19286397590071594, 'lr': 0.006865064440630252, 'batch_size': 64}. Best is trial 0 with value: 0.9102425611312973.\n"
     ]
    },
    {
     "name": "stdout",
     "output_type": "stream",
     "text": [
      "Trial 0 | Epoch 240 | Val F1: 0.9054 | Best F1: 0.9102 @ Epoch 140\n",
      "Early stopping at epoch 240\n",
      "=== Completed Trial 0 | Best F1: 0.9102 ===\n",
      "\n",
      "=== Starting Trial 1 ===\n",
      "Parameters: {'hidden_units': 512, 'dropout_rate': 0.3692859280880132, 'lr': 0.00029476959024603755, 'batch_size': 64}\n",
      "Trial 1 | Epoch   0 | Val F1: 0.8894 | Best F1: 0.8894 @ Epoch 0\n",
      "Trial 1 | Epoch   5 | Val F1: 0.9053 | Best F1: 0.9053 @ Epoch 5\n",
      "Trial 1 | Epoch  10 | Val F1: 0.9041 | Best F1: 0.9053 @ Epoch 5\n",
      "Trial 1 | Epoch  15 | Val F1: 0.9057 | Best F1: 0.9057 @ Epoch 15\n",
      "Trial 1 | Epoch  20 | Val F1: 0.9063 | Best F1: 0.9063 @ Epoch 20\n",
      "Trial 1 | Epoch  25 | Val F1: 0.9049 | Best F1: 0.9063 @ Epoch 20\n",
      "Trial 1 | Epoch  30 | Val F1: 0.9054 | Best F1: 0.9063 @ Epoch 20\n",
      "Trial 1 | Epoch  35 | Val F1: 0.9063 | Best F1: 0.9063 @ Epoch 35\n",
      "Trial 1 | Epoch  40 | Val F1: 0.9041 | Best F1: 0.9063 @ Epoch 35\n",
      "Trial 1 | Epoch  45 | Val F1: 0.9057 | Best F1: 0.9063 @ Epoch 35\n",
      "Trial 1 | Epoch  50 | Val F1: 0.9051 | Best F1: 0.9063 @ Epoch 35\n",
      "Trial 1 | Epoch  55 | Val F1: 0.9042 | Best F1: 0.9063 @ Epoch 35\n",
      "Trial 1 | Epoch  60 | Val F1: 0.9057 | Best F1: 0.9063 @ Epoch 35\n",
      "Trial 1 | Epoch  65 | Val F1: 0.9072 | Best F1: 0.9072 @ Epoch 65\n",
      "Trial 1 | Epoch  70 | Val F1: 0.9045 | Best F1: 0.9072 @ Epoch 65\n",
      "Trial 1 | Epoch  75 | Val F1: 0.9074 | Best F1: 0.9074 @ Epoch 75\n",
      "Trial 1 | Epoch  80 | Val F1: 0.9070 | Best F1: 0.9074 @ Epoch 75\n",
      "Trial 1 | Epoch  85 | Val F1: 0.9053 | Best F1: 0.9074 @ Epoch 75\n",
      "Trial 1 | Epoch  90 | Val F1: 0.9083 | Best F1: 0.9083 @ Epoch 90\n",
      "Trial 1 | Epoch  95 | Val F1: 0.9060 | Best F1: 0.9083 @ Epoch 90\n",
      "Trial 1 | Epoch 100 | Val F1: 0.9070 | Best F1: 0.9083 @ Epoch 90\n",
      "Trial 1 | Epoch 105 | Val F1: 0.9067 | Best F1: 0.9083 @ Epoch 90\n",
      "Trial 1 | Epoch 110 | Val F1: 0.9028 | Best F1: 0.9083 @ Epoch 90\n",
      "Trial 1 | Epoch 115 | Val F1: 0.9058 | Best F1: 0.9083 @ Epoch 90\n",
      "Trial 1 | Epoch 120 | Val F1: 0.9074 | Best F1: 0.9083 @ Epoch 90\n",
      "Trial 1 | Epoch 125 | Val F1: 0.9058 | Best F1: 0.9083 @ Epoch 90\n",
      "Trial 1 | Epoch 130 | Val F1: 0.9062 | Best F1: 0.9083 @ Epoch 90\n",
      "Trial 1 | Epoch 135 | Val F1: 0.9053 | Best F1: 0.9083 @ Epoch 90\n",
      "Trial 1 | Epoch 140 | Val F1: 0.9038 | Best F1: 0.9083 @ Epoch 90\n",
      "Trial 1 | Epoch 145 | Val F1: 0.9056 | Best F1: 0.9083 @ Epoch 90\n",
      "Trial 1 | Epoch 150 | Val F1: 0.9062 | Best F1: 0.9083 @ Epoch 90\n",
      "Trial 1 | Epoch 155 | Val F1: 0.9047 | Best F1: 0.9083 @ Epoch 90\n",
      "Trial 1 | Epoch 160 | Val F1: 0.9067 | Best F1: 0.9083 @ Epoch 90\n",
      "Trial 1 | Epoch 165 | Val F1: 0.9039 | Best F1: 0.9083 @ Epoch 90\n",
      "Trial 1 | Epoch 170 | Val F1: 0.9074 | Best F1: 0.9083 @ Epoch 90\n",
      "Trial 1 | Epoch 175 | Val F1: 0.9057 | Best F1: 0.9083 @ Epoch 90\n",
      "Trial 1 | Epoch 180 | Val F1: 0.9058 | Best F1: 0.9083 @ Epoch 90\n",
      "Trial 1 | Epoch 185 | Val F1: 0.9061 | Best F1: 0.9083 @ Epoch 90\n"
     ]
    },
    {
     "name": "stderr",
     "output_type": "stream",
     "text": [
      "[I 2025-02-24 19:28:15,234] Trial 1 finished with value: 0.9082550860719875 and parameters: {'hidden_units': 512, 'dropout_rate': 0.3692859280880132, 'lr': 0.00029476959024603755, 'batch_size': 64}. Best is trial 0 with value: 0.9102425611312973.\n"
     ]
    },
    {
     "name": "stdout",
     "output_type": "stream",
     "text": [
      "Trial 1 | Epoch 190 | Val F1: 0.9063 | Best F1: 0.9083 @ Epoch 90\n",
      "Early stopping at epoch 190\n",
      "=== Completed Trial 1 | Best F1: 0.9083 ===\n",
      "\n",
      "=== Starting Trial 2 ===\n",
      "Parameters: {'hidden_units': 1024, 'dropout_rate': 0.2635853285588634, 'lr': 0.00029029593790855777, 'batch_size': 64}\n",
      "Trial 2 | Epoch   0 | Val F1: 0.9030 | Best F1: 0.9030 @ Epoch 0\n",
      "Trial 2 | Epoch   5 | Val F1: 0.9067 | Best F1: 0.9067 @ Epoch 5\n",
      "Trial 2 | Epoch  10 | Val F1: 0.9066 | Best F1: 0.9067 @ Epoch 5\n",
      "Trial 2 | Epoch  15 | Val F1: 0.9074 | Best F1: 0.9074 @ Epoch 15\n",
      "Trial 2 | Epoch  20 | Val F1: 0.9066 | Best F1: 0.9074 @ Epoch 15\n",
      "Trial 2 | Epoch  25 | Val F1: 0.9065 | Best F1: 0.9074 @ Epoch 15\n",
      "Trial 2 | Epoch  30 | Val F1: 0.9056 | Best F1: 0.9074 @ Epoch 15\n",
      "Trial 2 | Epoch  35 | Val F1: 0.9062 | Best F1: 0.9074 @ Epoch 15\n",
      "Trial 2 | Epoch  40 | Val F1: 0.9071 | Best F1: 0.9074 @ Epoch 15\n",
      "Trial 2 | Epoch  45 | Val F1: 0.9071 | Best F1: 0.9074 @ Epoch 15\n",
      "Trial 2 | Epoch  50 | Val F1: 0.9041 | Best F1: 0.9074 @ Epoch 15\n",
      "Trial 2 | Epoch  55 | Val F1: 0.9063 | Best F1: 0.9074 @ Epoch 15\n",
      "Trial 2 | Epoch  60 | Val F1: 0.9048 | Best F1: 0.9074 @ Epoch 15\n",
      "Trial 2 | Epoch  65 | Val F1: 0.9039 | Best F1: 0.9074 @ Epoch 15\n",
      "Trial 2 | Epoch  70 | Val F1: 0.9050 | Best F1: 0.9074 @ Epoch 15\n",
      "Trial 2 | Epoch  75 | Val F1: 0.9053 | Best F1: 0.9074 @ Epoch 15\n",
      "Trial 2 | Epoch  80 | Val F1: 0.9040 | Best F1: 0.9074 @ Epoch 15\n",
      "Trial 2 | Epoch  85 | Val F1: 0.9063 | Best F1: 0.9074 @ Epoch 15\n",
      "Trial 2 | Epoch  90 | Val F1: 0.9046 | Best F1: 0.9074 @ Epoch 15\n",
      "Trial 2 | Epoch  95 | Val F1: 0.9048 | Best F1: 0.9074 @ Epoch 15\n",
      "Trial 2 | Epoch 100 | Val F1: 0.9059 | Best F1: 0.9074 @ Epoch 15\n",
      "Trial 2 | Epoch 105 | Val F1: 0.9056 | Best F1: 0.9074 @ Epoch 15\n",
      "Trial 2 | Epoch 110 | Val F1: 0.9014 | Best F1: 0.9074 @ Epoch 15\n"
     ]
    },
    {
     "name": "stderr",
     "output_type": "stream",
     "text": [
      "[I 2025-02-24 19:32:52,445] Trial 2 finished with value: 0.9074459335236345 and parameters: {'hidden_units': 1024, 'dropout_rate': 0.2635853285588634, 'lr': 0.00029029593790855777, 'batch_size': 64}. Best is trial 0 with value: 0.9102425611312973.\n"
     ]
    },
    {
     "name": "stdout",
     "output_type": "stream",
     "text": [
      "Trial 2 | Epoch 115 | Val F1: 0.9057 | Best F1: 0.9074 @ Epoch 15\n",
      "Early stopping at epoch 115\n",
      "=== Completed Trial 2 | Best F1: 0.9074 ===\n",
      "\n",
      "=== Starting Trial 3 ===\n",
      "Parameters: {'hidden_units': 512, 'dropout_rate': 0.19707614751215902, 'lr': 0.0004876805327606452, 'batch_size': 512}\n",
      "Trial 3 | Epoch   0 | Val F1: 0.8785 | Best F1: 0.8785 @ Epoch 0\n",
      "Trial 3 | Epoch   5 | Val F1: 0.9060 | Best F1: 0.9060 @ Epoch 5\n",
      "Trial 3 | Epoch  10 | Val F1: 0.9067 | Best F1: 0.9067 @ Epoch 10\n",
      "Trial 3 | Epoch  15 | Val F1: 0.9050 | Best F1: 0.9067 @ Epoch 10\n",
      "Trial 3 | Epoch  20 | Val F1: 0.9065 | Best F1: 0.9067 @ Epoch 10\n",
      "Trial 3 | Epoch  25 | Val F1: 0.9061 | Best F1: 0.9067 @ Epoch 10\n",
      "Trial 3 | Epoch  30 | Val F1: 0.9056 | Best F1: 0.9067 @ Epoch 10\n",
      "Trial 3 | Epoch  35 | Val F1: 0.9065 | Best F1: 0.9067 @ Epoch 10\n",
      "Trial 3 | Epoch  40 | Val F1: 0.9077 | Best F1: 0.9077 @ Epoch 40\n",
      "Trial 3 | Epoch  45 | Val F1: 0.9065 | Best F1: 0.9077 @ Epoch 40\n",
      "Trial 3 | Epoch  50 | Val F1: 0.9069 | Best F1: 0.9077 @ Epoch 40\n",
      "Trial 3 | Epoch  55 | Val F1: 0.9028 | Best F1: 0.9077 @ Epoch 40\n",
      "Trial 3 | Epoch  60 | Val F1: 0.9047 | Best F1: 0.9077 @ Epoch 40\n",
      "Trial 3 | Epoch  65 | Val F1: 0.9049 | Best F1: 0.9077 @ Epoch 40\n",
      "Trial 3 | Epoch  70 | Val F1: 0.9029 | Best F1: 0.9077 @ Epoch 40\n",
      "Trial 3 | Epoch  75 | Val F1: 0.9038 | Best F1: 0.9077 @ Epoch 40\n",
      "Trial 3 | Epoch  80 | Val F1: 0.9055 | Best F1: 0.9077 @ Epoch 40\n",
      "Trial 3 | Epoch  85 | Val F1: 0.9051 | Best F1: 0.9077 @ Epoch 40\n",
      "Trial 3 | Epoch  90 | Val F1: 0.9043 | Best F1: 0.9077 @ Epoch 40\n",
      "Trial 3 | Epoch  95 | Val F1: 0.9061 | Best F1: 0.9077 @ Epoch 40\n",
      "Trial 3 | Epoch 100 | Val F1: 0.9050 | Best F1: 0.9077 @ Epoch 40\n",
      "Trial 3 | Epoch 105 | Val F1: 0.9050 | Best F1: 0.9077 @ Epoch 40\n",
      "Trial 3 | Epoch 110 | Val F1: 0.9037 | Best F1: 0.9077 @ Epoch 40\n",
      "Trial 3 | Epoch 115 | Val F1: 0.9070 | Best F1: 0.9077 @ Epoch 40\n",
      "Trial 3 | Epoch 120 | Val F1: 0.9076 | Best F1: 0.9077 @ Epoch 40\n",
      "Trial 3 | Epoch 125 | Val F1: 0.9068 | Best F1: 0.9077 @ Epoch 40\n",
      "Trial 3 | Epoch 130 | Val F1: 0.9081 | Best F1: 0.9081 @ Epoch 130\n",
      "Trial 3 | Epoch 135 | Val F1: 0.9072 | Best F1: 0.9081 @ Epoch 130\n",
      "Trial 3 | Epoch 140 | Val F1: 0.9085 | Best F1: 0.9085 @ Epoch 140\n",
      "Trial 3 | Epoch 145 | Val F1: 0.9072 | Best F1: 0.9085 @ Epoch 140\n",
      "Trial 3 | Epoch 150 | Val F1: 0.9083 | Best F1: 0.9085 @ Epoch 140\n",
      "Trial 3 | Epoch 155 | Val F1: 0.9065 | Best F1: 0.9085 @ Epoch 140\n",
      "Trial 3 | Epoch 160 | Val F1: 0.9061 | Best F1: 0.9085 @ Epoch 140\n",
      "Trial 3 | Epoch 165 | Val F1: 0.9070 | Best F1: 0.9085 @ Epoch 140\n",
      "Trial 3 | Epoch 170 | Val F1: 0.9043 | Best F1: 0.9085 @ Epoch 140\n",
      "Trial 3 | Epoch 175 | Val F1: 0.9078 | Best F1: 0.9085 @ Epoch 140\n",
      "Trial 3 | Epoch 180 | Val F1: 0.9061 | Best F1: 0.9085 @ Epoch 140\n",
      "Trial 3 | Epoch 185 | Val F1: 0.9079 | Best F1: 0.9085 @ Epoch 140\n",
      "Trial 3 | Epoch 190 | Val F1: 0.9076 | Best F1: 0.9085 @ Epoch 140\n",
      "Trial 3 | Epoch 195 | Val F1: 0.9075 | Best F1: 0.9085 @ Epoch 140\n",
      "Trial 3 | Epoch 200 | Val F1: 0.9053 | Best F1: 0.9085 @ Epoch 140\n",
      "Trial 3 | Epoch 205 | Val F1: 0.9064 | Best F1: 0.9085 @ Epoch 140\n",
      "Trial 3 | Epoch 210 | Val F1: 0.9078 | Best F1: 0.9085 @ Epoch 140\n",
      "Trial 3 | Epoch 215 | Val F1: 0.9080 | Best F1: 0.9085 @ Epoch 140\n",
      "Trial 3 | Epoch 220 | Val F1: 0.9058 | Best F1: 0.9085 @ Epoch 140\n",
      "Trial 3 | Epoch 225 | Val F1: 0.9045 | Best F1: 0.9085 @ Epoch 140\n",
      "Trial 3 | Epoch 230 | Val F1: 0.9069 | Best F1: 0.9085 @ Epoch 140\n",
      "Trial 3 | Epoch 235 | Val F1: 0.9087 | Best F1: 0.9087 @ Epoch 235\n",
      "Trial 3 | Epoch 240 | Val F1: 0.9071 | Best F1: 0.9087 @ Epoch 235\n",
      "Trial 3 | Epoch 245 | Val F1: 0.9082 | Best F1: 0.9087 @ Epoch 235\n",
      "Trial 3 | Epoch 250 | Val F1: 0.9093 | Best F1: 0.9093 @ Epoch 250\n",
      "Trial 3 | Epoch 255 | Val F1: 0.9082 | Best F1: 0.9093 @ Epoch 250\n",
      "Trial 3 | Epoch 260 | Val F1: 0.9100 | Best F1: 0.9100 @ Epoch 260\n",
      "Trial 3 | Epoch 265 | Val F1: 0.9096 | Best F1: 0.9100 @ Epoch 260\n",
      "Trial 3 | Epoch 270 | Val F1: 0.9083 | Best F1: 0.9100 @ Epoch 260\n",
      "Trial 3 | Epoch 275 | Val F1: 0.9106 | Best F1: 0.9106 @ Epoch 275\n",
      "Trial 3 | Epoch 280 | Val F1: 0.9087 | Best F1: 0.9106 @ Epoch 275\n",
      "Trial 3 | Epoch 285 | Val F1: 0.9093 | Best F1: 0.9106 @ Epoch 275\n",
      "Trial 3 | Epoch 290 | Val F1: 0.9109 | Best F1: 0.9109 @ Epoch 290\n",
      "Trial 3 | Epoch 295 | Val F1: 0.9121 | Best F1: 0.9121 @ Epoch 295\n",
      "Trial 3 | Epoch 300 | Val F1: 0.9084 | Best F1: 0.9121 @ Epoch 295\n",
      "Trial 3 | Epoch 305 | Val F1: 0.9107 | Best F1: 0.9121 @ Epoch 295\n",
      "Trial 3 | Epoch 310 | Val F1: 0.9093 | Best F1: 0.9121 @ Epoch 295\n",
      "Trial 3 | Epoch 315 | Val F1: 0.9108 | Best F1: 0.9121 @ Epoch 295\n",
      "Trial 3 | Epoch 320 | Val F1: 0.9098 | Best F1: 0.9121 @ Epoch 295\n",
      "Trial 3 | Epoch 325 | Val F1: 0.9110 | Best F1: 0.9121 @ Epoch 295\n",
      "Trial 3 | Epoch 330 | Val F1: 0.9120 | Best F1: 0.9121 @ Epoch 295\n",
      "Trial 3 | Epoch 335 | Val F1: 0.9093 | Best F1: 0.9121 @ Epoch 295\n",
      "Trial 3 | Epoch 340 | Val F1: 0.9105 | Best F1: 0.9121 @ Epoch 295\n",
      "Trial 3 | Epoch 345 | Val F1: 0.9102 | Best F1: 0.9121 @ Epoch 295\n",
      "Trial 3 | Epoch 350 | Val F1: 0.9104 | Best F1: 0.9121 @ Epoch 295\n",
      "Trial 3 | Epoch 355 | Val F1: 0.9097 | Best F1: 0.9121 @ Epoch 295\n",
      "Trial 3 | Epoch 360 | Val F1: 0.9088 | Best F1: 0.9121 @ Epoch 295\n",
      "Trial 3 | Epoch 365 | Val F1: 0.9104 | Best F1: 0.9121 @ Epoch 295\n",
      "Trial 3 | Epoch 370 | Val F1: 0.9103 | Best F1: 0.9121 @ Epoch 295\n",
      "Trial 3 | Epoch 375 | Val F1: 0.9114 | Best F1: 0.9121 @ Epoch 295\n",
      "Trial 3 | Epoch 380 | Val F1: 0.9109 | Best F1: 0.9121 @ Epoch 295\n",
      "Trial 3 | Epoch 385 | Val F1: 0.9110 | Best F1: 0.9121 @ Epoch 295\n",
      "Trial 3 | Epoch 390 | Val F1: 0.9126 | Best F1: 0.9126 @ Epoch 390\n",
      "Trial 3 | Epoch 395 | Val F1: 0.9113 | Best F1: 0.9126 @ Epoch 390\n",
      "Trial 3 | Epoch 400 | Val F1: 0.9122 | Best F1: 0.9126 @ Epoch 390\n",
      "Trial 3 | Epoch 405 | Val F1: 0.9101 | Best F1: 0.9126 @ Epoch 390\n",
      "Trial 3 | Epoch 410 | Val F1: 0.9086 | Best F1: 0.9126 @ Epoch 390\n",
      "Trial 3 | Epoch 415 | Val F1: 0.9117 | Best F1: 0.9126 @ Epoch 390\n",
      "Trial 3 | Epoch 420 | Val F1: 0.9120 | Best F1: 0.9126 @ Epoch 390\n",
      "Trial 3 | Epoch 425 | Val F1: 0.9102 | Best F1: 0.9126 @ Epoch 390\n",
      "Trial 3 | Epoch 430 | Val F1: 0.9121 | Best F1: 0.9126 @ Epoch 390\n",
      "Trial 3 | Epoch 435 | Val F1: 0.9129 | Best F1: 0.9129 @ Epoch 435\n",
      "Trial 3 | Epoch 440 | Val F1: 0.9118 | Best F1: 0.9129 @ Epoch 435\n",
      "Trial 3 | Epoch 445 | Val F1: 0.9131 | Best F1: 0.9131 @ Epoch 445\n",
      "Trial 3 | Epoch 450 | Val F1: 0.9119 | Best F1: 0.9131 @ Epoch 445\n",
      "Trial 3 | Epoch 455 | Val F1: 0.9130 | Best F1: 0.9131 @ Epoch 445\n",
      "Trial 3 | Epoch 460 | Val F1: 0.9118 | Best F1: 0.9131 @ Epoch 445\n",
      "Trial 3 | Epoch 465 | Val F1: 0.9130 | Best F1: 0.9131 @ Epoch 445\n",
      "Trial 3 | Epoch 470 | Val F1: 0.9114 | Best F1: 0.9131 @ Epoch 445\n",
      "Trial 3 | Epoch 475 | Val F1: 0.9131 | Best F1: 0.9131 @ Epoch 475\n",
      "Trial 3 | Epoch 480 | Val F1: 0.9121 | Best F1: 0.9131 @ Epoch 475\n",
      "Trial 3 | Epoch 485 | Val F1: 0.9128 | Best F1: 0.9131 @ Epoch 475\n",
      "Trial 3 | Epoch 490 | Val F1: 0.9127 | Best F1: 0.9131 @ Epoch 475\n",
      "Trial 3 | Epoch 495 | Val F1: 0.9142 | Best F1: 0.9142 @ Epoch 495\n"
     ]
    },
    {
     "name": "stderr",
     "output_type": "stream",
     "text": [
      "[I 2025-02-24 19:38:00,227] Trial 3 finished with value: 0.9141730342617698 and parameters: {'hidden_units': 512, 'dropout_rate': 0.19707614751215902, 'lr': 0.0004876805327606452, 'batch_size': 512}. Best is trial 3 with value: 0.9141730342617698.\n"
     ]
    },
    {
     "name": "stdout",
     "output_type": "stream",
     "text": [
      "Trial 3 | Epoch 499 | Val F1: 0.9127 | Best F1: 0.9142 @ Epoch 495\n",
      "=== Completed Trial 3 | Best F1: 0.9142 ===\n",
      "\n",
      "=== Starting Trial 4 ===\n",
      "Parameters: {'hidden_units': 2048, 'dropout_rate': 0.1167279824782212, 'lr': 0.004820841433925783, 'batch_size': 2048}\n",
      "Trial 4 | Epoch   0 | Val F1: 0.8606 | Best F1: 0.8606 @ Epoch 0\n",
      "Trial 4 | Epoch   5 | Val F1: 0.9046 | Best F1: 0.9046 @ Epoch 5\n",
      "Trial 4 | Epoch  10 | Val F1: 0.9067 | Best F1: 0.9067 @ Epoch 10\n",
      "Trial 4 | Epoch  15 | Val F1: 0.8990 | Best F1: 0.9067 @ Epoch 10\n",
      "Trial 4 | Epoch  20 | Val F1: 0.8965 | Best F1: 0.9067 @ Epoch 10\n",
      "Trial 4 | Epoch  25 | Val F1: 0.9081 | Best F1: 0.9081 @ Epoch 25\n",
      "Trial 4 | Epoch  30 | Val F1: 0.9043 | Best F1: 0.9081 @ Epoch 25\n",
      "Trial 4 | Epoch  35 | Val F1: 0.9066 | Best F1: 0.9081 @ Epoch 25\n",
      "Trial 4 | Epoch  40 | Val F1: 0.9070 | Best F1: 0.9081 @ Epoch 25\n",
      "Trial 4 | Epoch  45 | Val F1: 0.9052 | Best F1: 0.9081 @ Epoch 25\n",
      "Trial 4 | Epoch  50 | Val F1: 0.8957 | Best F1: 0.9081 @ Epoch 25\n",
      "Trial 4 | Epoch  55 | Val F1: 0.9040 | Best F1: 0.9081 @ Epoch 25\n",
      "Trial 4 | Epoch  60 | Val F1: 0.9059 | Best F1: 0.9081 @ Epoch 25\n",
      "Trial 4 | Epoch  65 | Val F1: 0.9033 | Best F1: 0.9081 @ Epoch 25\n",
      "Trial 4 | Epoch  70 | Val F1: 0.9098 | Best F1: 0.9098 @ Epoch 70\n",
      "Trial 4 | Epoch  75 | Val F1: 0.9068 | Best F1: 0.9098 @ Epoch 70\n",
      "Trial 4 | Epoch  80 | Val F1: 0.9084 | Best F1: 0.9098 @ Epoch 70\n",
      "Trial 4 | Epoch  85 | Val F1: 0.9041 | Best F1: 0.9098 @ Epoch 70\n",
      "Trial 4 | Epoch  90 | Val F1: 0.9074 | Best F1: 0.9098 @ Epoch 70\n",
      "Trial 4 | Epoch  95 | Val F1: 0.9047 | Best F1: 0.9098 @ Epoch 70\n",
      "Trial 4 | Epoch 100 | Val F1: 0.9082 | Best F1: 0.9098 @ Epoch 70\n",
      "Trial 4 | Epoch 105 | Val F1: 0.9108 | Best F1: 0.9108 @ Epoch 105\n",
      "Trial 4 | Epoch 110 | Val F1: 0.9076 | Best F1: 0.9108 @ Epoch 105\n",
      "Trial 4 | Epoch 115 | Val F1: 0.9081 | Best F1: 0.9108 @ Epoch 105\n",
      "Trial 4 | Epoch 120 | Val F1: 0.9074 | Best F1: 0.9108 @ Epoch 105\n",
      "Trial 4 | Epoch 125 | Val F1: 0.9133 | Best F1: 0.9133 @ Epoch 125\n",
      "Trial 4 | Epoch 130 | Val F1: 0.9112 | Best F1: 0.9133 @ Epoch 125\n",
      "Trial 4 | Epoch 135 | Val F1: 0.9138 | Best F1: 0.9138 @ Epoch 135\n",
      "Trial 4 | Epoch 140 | Val F1: 0.9135 | Best F1: 0.9138 @ Epoch 135\n",
      "Trial 4 | Epoch 145 | Val F1: 0.9104 | Best F1: 0.9138 @ Epoch 135\n",
      "Trial 4 | Epoch 150 | Val F1: 0.9141 | Best F1: 0.9141 @ Epoch 150\n",
      "Trial 4 | Epoch 155 | Val F1: 0.9102 | Best F1: 0.9141 @ Epoch 150\n",
      "Trial 4 | Epoch 160 | Val F1: 0.9129 | Best F1: 0.9141 @ Epoch 150\n",
      "Trial 4 | Epoch 165 | Val F1: 0.9134 | Best F1: 0.9141 @ Epoch 150\n",
      "Trial 4 | Epoch 170 | Val F1: 0.9128 | Best F1: 0.9141 @ Epoch 150\n",
      "Trial 4 | Epoch 175 | Val F1: 0.9163 | Best F1: 0.9163 @ Epoch 175\n",
      "Trial 4 | Epoch 180 | Val F1: 0.9120 | Best F1: 0.9163 @ Epoch 175\n",
      "Trial 4 | Epoch 185 | Val F1: 0.9157 | Best F1: 0.9163 @ Epoch 175\n",
      "Trial 4 | Epoch 190 | Val F1: 0.9170 | Best F1: 0.9170 @ Epoch 190\n",
      "Trial 4 | Epoch 195 | Val F1: 0.9163 | Best F1: 0.9170 @ Epoch 190\n",
      "Trial 4 | Epoch 200 | Val F1: 0.9169 | Best F1: 0.9170 @ Epoch 190\n",
      "Trial 4 | Epoch 205 | Val F1: 0.9153 | Best F1: 0.9170 @ Epoch 190\n",
      "Trial 4 | Epoch 210 | Val F1: 0.9167 | Best F1: 0.9170 @ Epoch 190\n",
      "Trial 4 | Epoch 215 | Val F1: 0.9151 | Best F1: 0.9170 @ Epoch 190\n",
      "Trial 4 | Epoch 220 | Val F1: 0.9130 | Best F1: 0.9170 @ Epoch 190\n",
      "Trial 4 | Epoch 225 | Val F1: 0.9150 | Best F1: 0.9170 @ Epoch 190\n",
      "Trial 4 | Epoch 230 | Val F1: 0.9164 | Best F1: 0.9170 @ Epoch 190\n",
      "Trial 4 | Epoch 235 | Val F1: 0.9160 | Best F1: 0.9170 @ Epoch 190\n",
      "Trial 4 | Epoch 240 | Val F1: 0.9150 | Best F1: 0.9170 @ Epoch 190\n",
      "Trial 4 | Epoch 245 | Val F1: 0.9186 | Best F1: 0.9186 @ Epoch 245\n",
      "Trial 4 | Epoch 250 | Val F1: 0.9167 | Best F1: 0.9186 @ Epoch 245\n",
      "Trial 4 | Epoch 255 | Val F1: 0.9167 | Best F1: 0.9186 @ Epoch 245\n",
      "Trial 4 | Epoch 260 | Val F1: 0.9145 | Best F1: 0.9186 @ Epoch 245\n",
      "Trial 4 | Epoch 265 | Val F1: 0.9171 | Best F1: 0.9186 @ Epoch 245\n",
      "Trial 4 | Epoch 270 | Val F1: 0.9161 | Best F1: 0.9186 @ Epoch 245\n",
      "Trial 4 | Epoch 275 | Val F1: 0.9159 | Best F1: 0.9186 @ Epoch 245\n",
      "Trial 4 | Epoch 280 | Val F1: 0.9151 | Best F1: 0.9186 @ Epoch 245\n",
      "Trial 4 | Epoch 285 | Val F1: 0.9181 | Best F1: 0.9186 @ Epoch 245\n",
      "Trial 4 | Epoch 290 | Val F1: 0.9165 | Best F1: 0.9186 @ Epoch 245\n",
      "Trial 4 | Epoch 295 | Val F1: 0.9104 | Best F1: 0.9186 @ Epoch 245\n",
      "Trial 4 | Epoch 300 | Val F1: 0.9150 | Best F1: 0.9186 @ Epoch 245\n",
      "Trial 4 | Epoch 305 | Val F1: 0.9156 | Best F1: 0.9186 @ Epoch 245\n",
      "Trial 4 | Epoch 310 | Val F1: 0.9171 | Best F1: 0.9186 @ Epoch 245\n",
      "Trial 4 | Epoch 315 | Val F1: 0.9182 | Best F1: 0.9186 @ Epoch 245\n",
      "Trial 4 | Epoch 320 | Val F1: 0.9164 | Best F1: 0.9186 @ Epoch 245\n",
      "Trial 4 | Epoch 325 | Val F1: 0.9165 | Best F1: 0.9186 @ Epoch 245\n",
      "Trial 4 | Epoch 330 | Val F1: 0.9152 | Best F1: 0.9186 @ Epoch 245\n",
      "Trial 4 | Epoch 335 | Val F1: 0.9179 | Best F1: 0.9186 @ Epoch 245\n",
      "Trial 4 | Epoch 340 | Val F1: 0.9182 | Best F1: 0.9186 @ Epoch 245\n"
     ]
    },
    {
     "name": "stderr",
     "output_type": "stream",
     "text": [
      "[I 2025-02-24 19:41:17,978] Trial 4 finished with value: 0.9185887412040656 and parameters: {'hidden_units': 2048, 'dropout_rate': 0.1167279824782212, 'lr': 0.004820841433925783, 'batch_size': 2048}. Best is trial 4 with value: 0.9185887412040656.\n"
     ]
    },
    {
     "name": "stdout",
     "output_type": "stream",
     "text": [
      "Trial 4 | Epoch 345 | Val F1: 0.9172 | Best F1: 0.9186 @ Epoch 245\n",
      "Early stopping at epoch 345\n",
      "=== Completed Trial 4 | Best F1: 0.9186 ===\n",
      "best params: {'hidden_units': 2048, 'dropout_rate': 0.1167279824782212, 'lr': 0.004820841433925783, 'batch_size': 2048}\n",
      "best f1: 0.9185887412040656\n"
     ]
    }
   ],
   "source": [
    "study = optuna.create_study(direction='maximize')\n",
    "study.optimize(objective, n_trials=5)\n",
    "\n",
    "print(f'best params: {study.best_params}')\n",
    "print(f'best f1: {study.best_value}')"
   ]
  },
  {
   "cell_type": "markdown",
   "metadata": {},
   "source": [
    "#### Обучение на лучших гиперпараметрах модели нейронной сети"
   ]
  },
  {
   "cell_type": "code",
   "execution_count": 58,
   "metadata": {},
   "outputs": [
    {
     "name": "stdout",
     "output_type": "stream",
     "text": [
      "Final Test F1: 0.9159\n"
     ]
    }
   ],
   "source": [
    "best_params = study.best_params\n",
    "final_model = Net(\n",
    "    input_size=X_train.shape[1],\n",
    "    hidden_units=best_params['hidden_units'],\n",
    "    dropout_rate=best_params['dropout_rate']\n",
    ").to(device)\n",
    "\n",
    "optimizer = torch.optim.Adam(final_model.parameters(), lr=best_params['lr'])\n",
    "train_loader = DataLoader(train_dataset_torch, \n",
    "                         batch_size=best_params['batch_size'], \n",
    "                         shuffle=True)\n",
    "loss_fn = nn.BCEWithLogitsLoss()\n",
    "\n",
    "for epoch in range(200):\n",
    "    for inputs, labels in train_loader:\n",
    "        inputs, labels = inputs.to(device), labels.to(device)\n",
    "        \n",
    "        optimizer.zero_grad()\n",
    "        outputs = final_model(inputs)\n",
    "        loss = loss_fn(outputs, labels.unsqueeze(1))\n",
    "        loss.backward()\n",
    "        optimizer.step()\n",
    "\n",
    "final_model.eval()\n",
    "with torch.no_grad():\n",
    "    test_outputs = final_model(X_test_torch.to(device))\n",
    "    predicted = (test_outputs > 0.5).float()\n",
    "    final_f1 = f1_score(\n",
    "        y_test_torch.cpu().numpy(), \n",
    "        predicted.cpu().numpy(),\n",
    "        average='binary'\n",
    "    )\n",
    "    print(f\"Final Test F1: {final_f1:.4f}\")"
   ]
  },
  {
   "cell_type": "code",
   "execution_count": 80,
   "metadata": {},
   "outputs": [],
   "source": [
    "gc.collect()\n",
    "torch.cuda.empty_cache()"
   ]
  },
  {
   "cell_type": "markdown",
   "metadata": {},
   "source": [
    "#### Вывод по результату нейронной сети"
   ]
  },
  {
   "cell_type": "code",
   "execution_count": 59,
   "metadata": {},
   "outputs": [
    {
     "data": {
      "image/png": "[encoded data removed]",
      "text/plain": [
       "<Figure size 640x480 with 2 Axes>"
      ]
     },
     "metadata": {},
     "output_type": "display_data"
    }
   ],
   "source": [
    "cm_pytorch = confusion_matrix(y_test_torch.cpu().numpy(), predicted.cpu().numpy())\n",
    "disp = ConfusionMatrixDisplay(confusion_matrix=cm_pytorch)\n",
    "disp.plot()\n",
    "plt.show()"
   ]
  },
  {
   "cell_type": "code",
   "execution_count": 105,
   "metadata": {},
   "outputs": [
    {
     "data": {
      "image/png": "[encoded data removed]",
      "text/plain": [
       "<Figure size 1000x600 with 1 Axes>"
      ]
     },
     "metadata": {},
     "output_type": "display_data"
    }
   ],
   "source": [
    "# Предположим, что final_model - это ваша обученная модель\n",
    "# X_test_torch - это ваш тестовый набор данных\n",
    "\n",
    "# Убедитесь, что модель находится в режиме оценки\n",
    "final_model.eval()\n",
    "\n",
    "# Включите автоградиент для входных данных\n",
    "X_test_torch.requires_grad = True\n",
    "\n",
    "# Прогоните данные через модель\n",
    "outputs = final_model(X_test_torch.to(device))\n",
    "\n",
    "# Предположим, что это задача бинарной классификации, и мы берем первый выход\n",
    "# Если это многоклассовая классификация, выберите соответствующий выход\n",
    "target_class = 0\n",
    "target = outputs[:, target_class]\n",
    "\n",
    "# Вычислите градиенты\n",
    "target.backward(torch.ones_like(target))\n",
    "\n",
    "# Получите абсолютные значения градиентов\n",
    "feature_importance = X_test_torch.grad.abs().mean(dim=0).cpu().numpy()\n",
    "\n",
    "# Отсортируем признаки по важности\n",
    "sorted_idx = np.argsort(feature_importance)\n",
    "sorted_feature_importance = feature_importance[sorted_idx]\n",
    "sorted_feature_names = np.array(all_cols)[sorted_idx]\n",
    "\n",
    "# Постройте перевернутый график важности признаков\n",
    "plt.figure(figsize=(10, 6))\n",
    "plt.barh(range(len(sorted_feature_importance)), sorted_feature_importance, tick_label=sorted_feature_names)\n",
    "plt.xlabel('Importance')\n",
    "plt.ylabel('Feature')\n",
    "plt.title('Feature Importance by Gradient')\n",
    "plt.show()"
   ]
  },
  {
   "cell_type": "markdown",
   "metadata": {},
   "source": [
    "### Написание градиентного бустинга с помощью LightGBM"
   ]
  },
  {
   "cell_type": "markdown",
   "metadata": {},
   "source": [
    "#### Перебор гиперпараметров с помощью оптуны"
   ]
  },
  {
   "cell_type": "code",
   "execution_count": 60,
   "metadata": {},
   "outputs": [],
   "source": [
    "def objective(trial):\n",
    "    params = {\n",
    "        'objective': 'binary',\n",
    "        'metric': 'binary_logloss',\n",
    "        'boosting_type': 'gbdt',\n",
    "        'verbosity': -1,\n",
    "        'n_jobs': -1,\n",
    "        'feature_pre_filter': False,\n",
    "        'num_leaves': trial.suggest_int('num_leaves', 20, 300),\n",
    "        'learning_rate': trial.suggest_float('learning_rate', 0.001, 0.3, log=True),\n",
    "        'max_depth': trial.suggest_int('max_depth', 3, 12),\n",
    "        'min_child_samples': trial.suggest_int('min_child_samples', 10, 200),\n",
    "        'subsample': trial.suggest_float('subsample', 0.5, 1.0),\n",
    "        'colsample_bytree': trial.suggest_float('colsample_bytree', 0.5, 1.0),\n",
    "        'reg_alpha': trial.suggest_float('reg_alpha', 1e-9, 10.0, log=True),\n",
    "        'reg_lambda': trial.suggest_float('reg_lambda', 1e-9, 10.0, log=True),\n",
    "    }\n",
    "\n",
    "    train_data = lgb.Dataset(X_train, label=y_train)\n",
    "    test_data = lgb.Dataset(X_test, label=y_test, reference=train_data)\n",
    "\n",
    "    callbacks = [\n",
    "        lgb.log_evaluation(100),\n",
    "        lgb.callback.early_stopping(500, verbose=False)\n",
    "    ]\n",
    "\n",
    "    model = lgb.train(\n",
    "        params,\n",
    "        train_data,\n",
    "        valid_sets=[train_data, test_data],\n",
    "        num_boost_round=5000,\n",
    "        callbacks=callbacks,\n",
    "    )\n",
    "\n",
    "    preds = model.predict(X_test)\n",
    "    preds_binary = np.where(preds > 0.5, 1, 0)\n",
    "    f1 = f1_score(y_test, preds_binary)\n",
    "\n",
    "    print(f\"\\nTrial {trial.number} finished | Best F1: {f1:.4f}\")\n",
    "    print(f\"Params: {params}\\n\")\n",
    "    return f1\n"
   ]
  },
  {
   "cell_type": "code",
   "execution_count": 61,
   "metadata": {},
   "outputs": [
    {
     "name": "stderr",
     "output_type": "stream",
     "text": [
      "[I 2025-02-24 19:43:06,004] A new study created in memory with name: no-name-897a75d8-c476-4d71-b385-8cff95e60b39\n"
     ]
    },
    {
     "name": "stdout",
     "output_type": "stream",
     "text": [
      "[100]\ttraining's binary_logloss: 0.214165\tvalid_1's binary_logloss: 0.242468\n",
      "[200]\ttraining's binary_logloss: 0.189116\tvalid_1's binary_logloss: 0.236359\n",
      "[300]\ttraining's binary_logloss: 0.173897\tvalid_1's binary_logloss: 0.235637\n",
      "[400]\ttraining's binary_logloss: 0.159699\tvalid_1's binary_logloss: 0.235141\n",
      "[500]\ttraining's binary_logloss: 0.147136\tvalid_1's binary_logloss: 0.235666\n",
      "[600]\ttraining's binary_logloss: 0.136151\tvalid_1's binary_logloss: 0.235612\n",
      "[700]\ttraining's binary_logloss: 0.126849\tvalid_1's binary_logloss: 0.23657\n",
      "[800]\ttraining's binary_logloss: 0.11777\tvalid_1's binary_logloss: 0.236727\n",
      "[900]\ttraining's binary_logloss: 0.109258\tvalid_1's binary_logloss: 0.237301\n"
     ]
    },
    {
     "name": "stderr",
     "output_type": "stream",
     "text": [
      "[I 2025-02-24 19:43:09,111] Trial 0 finished with value: 0.9144159433642051 and parameters: {'num_leaves': 197, 'learning_rate': 0.08856698305527859, 'max_depth': 11, 'min_child_samples': 113, 'subsample': 0.5833439091482706, 'colsample_bytree': 0.5077839220281302, 'reg_alpha': 8.100810417106573e-08, 'reg_lambda': 8.509847892198136}. Best is trial 0 with value: 0.9144159433642051.\n"
     ]
    },
    {
     "name": "stdout",
     "output_type": "stream",
     "text": [
      "\n",
      "Trial 0 finished | Best F1: 0.9144\n",
      "Params: {'objective': 'binary', 'metric': 'binary_logloss', 'boosting_type': 'gbdt', 'verbosity': -1, 'n_jobs': -1, 'feature_pre_filter': False, 'num_leaves': 197, 'learning_rate': 0.08856698305527859, 'max_depth': 11, 'min_child_samples': 113, 'subsample': 0.5833439091482706, 'colsample_bytree': 0.5077839220281302, 'reg_alpha': 8.100810417106573e-08, 'reg_lambda': 8.509847892198136}\n",
      "\n",
      "[100]\ttraining's binary_logloss: 0.194786\tvalid_1's binary_logloss: 0.239692\n",
      "[200]\ttraining's binary_logloss: 0.164286\tvalid_1's binary_logloss: 0.237991\n",
      "[300]\ttraining's binary_logloss: 0.141364\tvalid_1's binary_logloss: 0.238016\n",
      "[400]\ttraining's binary_logloss: 0.122917\tvalid_1's binary_logloss: 0.238615\n",
      "[500]\ttraining's binary_logloss: 0.107842\tvalid_1's binary_logloss: 0.239309\n",
      "[600]\ttraining's binary_logloss: 0.0946217\tvalid_1's binary_logloss: 0.242025\n"
     ]
    },
    {
     "name": "stderr",
     "output_type": "stream",
     "text": [
      "[I 2025-02-24 19:43:10,498] Trial 1 finished with value: 0.9135958107059736 and parameters: {'num_leaves': 56, 'learning_rate': 0.19658163291850092, 'max_depth': 11, 'min_child_samples': 171, 'subsample': 0.783016075412464, 'colsample_bytree': 0.7967287989756537, 'reg_alpha': 0.035438102572643536, 'reg_lambda': 1.2196354401815e-05}. Best is trial 0 with value: 0.9144159433642051.\n"
     ]
    },
    {
     "name": "stdout",
     "output_type": "stream",
     "text": [
      "[700]\ttraining's binary_logloss: 0.0835286\tvalid_1's binary_logloss: 0.244375\n",
      "\n",
      "Trial 1 finished | Best F1: 0.9136\n",
      "Params: {'objective': 'binary', 'metric': 'binary_logloss', 'boosting_type': 'gbdt', 'verbosity': -1, 'n_jobs': -1, 'feature_pre_filter': False, 'num_leaves': 56, 'learning_rate': 0.19658163291850092, 'max_depth': 11, 'min_child_samples': 171, 'subsample': 0.783016075412464, 'colsample_bytree': 0.7967287989756537, 'reg_alpha': 0.035438102572643536, 'reg_lambda': 1.2196354401815e-05}\n",
      "\n",
      "[100]\ttraining's binary_logloss: 0.49035\tvalid_1's binary_logloss: 0.492524\n",
      "[200]\ttraining's binary_logloss: 0.376672\tvalid_1's binary_logloss: 0.380631\n",
      "[300]\ttraining's binary_logloss: 0.319175\tvalid_1's binary_logloss: 0.324633\n",
      "[400]\ttraining's binary_logloss: 0.286585\tvalid_1's binary_logloss: 0.293408\n",
      "[500]\ttraining's binary_logloss: 0.267391\tvalid_1's binary_logloss: 0.275434\n",
      "[600]\ttraining's binary_logloss: 0.254282\tvalid_1's binary_logloss: 0.263592\n",
      "[700]\ttraining's binary_logloss: 0.245715\tvalid_1's binary_logloss: 0.256275\n",
      "[800]\ttraining's binary_logloss: 0.240073\tvalid_1's binary_logloss: 0.251913\n",
      "[900]\ttraining's binary_logloss: 0.235809\tvalid_1's binary_logloss: 0.248913\n"
     ]
    },
    {
     "name": "stderr",
     "output_type": "stream",
     "text": [
      "[W 2025-02-24 19:43:12,851] Trial 2 failed with parameters: {'num_leaves': 51, 'learning_rate': 0.00645636193001719, 'max_depth': 9, 'min_child_samples': 144, 'subsample': 0.8627671532735677, 'colsample_bytree': 0.5482056715886954, 'reg_alpha': 6.115370085962932e-07, 'reg_lambda': 1.3519127360956209e-06} because of the following error: KeyboardInterrupt().\n",
      "Traceback (most recent call last):\n",
      "  File \"/mnt/9ff244f6-7fea-487a-935b-91d4a4dbc13f/python_projects/carsharing-project/.venv/lib/python3.12/site-packages/optuna/study/_optimize.py\", line 197, in _run_trial\n",
      "    value_or_values = func(trial)\n",
      "                      ^^^^^^^^^^^\n",
      "  File \"/tmp/ipykernel_24315/1030533462.py\", line 27, in objective\n",
      "    model = lgb.train(\n",
      "            ^^^^^^^^^^\n",
      "  File \"/mnt/9ff244f6-7fea-487a-935b-91d4a4dbc13f/python_projects/carsharing-project/.venv/lib/python3.12/site-packages/lightgbm/engine.py\", line 322, in train\n",
      "    booster.update(fobj=fobj)\n",
      "  File \"/mnt/9ff244f6-7fea-487a-935b-91d4a4dbc13f/python_projects/carsharing-project/.venv/lib/python3.12/site-packages/lightgbm/basic.py\", line 4155, in update\n",
      "    _LIB.LGBM_BoosterUpdateOneIter(\n",
      "KeyboardInterrupt\n",
      "[W 2025-02-24 19:43:12,853] Trial 2 failed with value None.\n"
     ]
    },
    {
     "ename": "KeyboardInterrupt",
     "evalue": "",
     "output_type": "error",
     "traceback": [
      "\u001b[0;31m---------------------------------------------------------------------------\u001b[0m",
      "\u001b[0;31mKeyboardInterrupt\u001b[0m                         Traceback (most recent call last)",
      "Cell \u001b[0;32mIn[61], line 2\u001b[0m\n\u001b[1;32m      1\u001b[0m study \u001b[38;5;241m=\u001b[39m optuna\u001b[38;5;241m.\u001b[39mcreate_study(direction\u001b[38;5;241m=\u001b[39m\u001b[38;5;124m'\u001b[39m\u001b[38;5;124mmaximize\u001b[39m\u001b[38;5;124m'\u001b[39m)\n\u001b[0;32m----> 2\u001b[0m \u001b[43mstudy\u001b[49m\u001b[38;5;241;43m.\u001b[39;49m\u001b[43moptimize\u001b[49m\u001b[43m(\u001b[49m\u001b[43mobjective\u001b[49m\u001b[43m,\u001b[49m\u001b[43m \u001b[49m\u001b[43mn_trials\u001b[49m\u001b[38;5;241;43m=\u001b[39;49m\u001b[38;5;241;43m10\u001b[39;49m\u001b[43m)\u001b[49m\n\u001b[1;32m      4\u001b[0m \u001b[38;5;28mprint\u001b[39m(\u001b[38;5;124m\"\u001b[39m\u001b[38;5;124mBest trial:\u001b[39m\u001b[38;5;124m\"\u001b[39m)\n\u001b[1;32m      5\u001b[0m trial \u001b[38;5;241m=\u001b[39m study\u001b[38;5;241m.\u001b[39mbest_trial\n",
      "File \u001b[0;32m/mnt/9ff244f6-7fea-487a-935b-91d4a4dbc13f/python_projects/carsharing-project/.venv/lib/python3.12/site-packages/optuna/study/study.py:475\u001b[0m, in \u001b[0;36mStudy.optimize\u001b[0;34m(self, func, n_trials, timeout, n_jobs, catch, callbacks, gc_after_trial, show_progress_bar)\u001b[0m\n\u001b[1;32m    373\u001b[0m \u001b[38;5;28;01mdef\u001b[39;00m\u001b[38;5;250m \u001b[39m\u001b[38;5;21moptimize\u001b[39m(\n\u001b[1;32m    374\u001b[0m     \u001b[38;5;28mself\u001b[39m,\n\u001b[1;32m    375\u001b[0m     func: ObjectiveFuncType,\n\u001b[0;32m   (...)\u001b[0m\n\u001b[1;32m    382\u001b[0m     show_progress_bar: \u001b[38;5;28mbool\u001b[39m \u001b[38;5;241m=\u001b[39m \u001b[38;5;28;01mFalse\u001b[39;00m,\n\u001b[1;32m    383\u001b[0m ) \u001b[38;5;241m-\u001b[39m\u001b[38;5;241m>\u001b[39m \u001b[38;5;28;01mNone\u001b[39;00m:\n\u001b[1;32m    384\u001b[0m \u001b[38;5;250m    \u001b[39m\u001b[38;5;124;03m\"\"\"Optimize an objective function.\u001b[39;00m\n\u001b[1;32m    385\u001b[0m \n\u001b[1;32m    386\u001b[0m \u001b[38;5;124;03m    Optimization is done by choosing a suitable set of hyperparameter values from a given\u001b[39;00m\n\u001b[0;32m   (...)\u001b[0m\n\u001b[1;32m    473\u001b[0m \u001b[38;5;124;03m            If nested invocation of this method occurs.\u001b[39;00m\n\u001b[1;32m    474\u001b[0m \u001b[38;5;124;03m    \"\"\"\u001b[39;00m\n\u001b[0;32m--> 475\u001b[0m     \u001b[43m_optimize\u001b[49m\u001b[43m(\u001b[49m\n\u001b[1;32m    476\u001b[0m \u001b[43m        \u001b[49m\u001b[43mstudy\u001b[49m\u001b[38;5;241;43m=\u001b[39;49m\u001b[38;5;28;43mself\u001b[39;49m\u001b[43m,\u001b[49m\n\u001b[1;32m    477\u001b[0m \u001b[43m        \u001b[49m\u001b[43mfunc\u001b[49m\u001b[38;5;241;43m=\u001b[39;49m\u001b[43mfunc\u001b[49m\u001b[43m,\u001b[49m\n\u001b[1;32m    478\u001b[0m \u001b[43m        \u001b[49m\u001b[43mn_trials\u001b[49m\u001b[38;5;241;43m=\u001b[39;49m\u001b[43mn_trials\u001b[49m\u001b[43m,\u001b[49m\n\u001b[1;32m    479\u001b[0m \u001b[43m        \u001b[49m\u001b[43mtimeout\u001b[49m\u001b[38;5;241;43m=\u001b[39;49m\u001b[43mtimeout\u001b[49m\u001b[43m,\u001b[49m\n\u001b[1;32m    480\u001b[0m \u001b[43m        \u001b[49m\u001b[43mn_jobs\u001b[49m\u001b[38;5;241;43m=\u001b[39;49m\u001b[43mn_jobs\u001b[49m\u001b[43m,\u001b[49m\n\u001b[1;32m    481\u001b[0m \u001b[43m        \u001b[49m\u001b[43mcatch\u001b[49m\u001b[38;5;241;43m=\u001b[39;49m\u001b[38;5;28;43mtuple\u001b[39;49m\u001b[43m(\u001b[49m\u001b[43mcatch\u001b[49m\u001b[43m)\u001b[49m\u001b[43m \u001b[49m\u001b[38;5;28;43;01mif\u001b[39;49;00m\u001b[43m \u001b[49m\u001b[38;5;28;43misinstance\u001b[39;49m\u001b[43m(\u001b[49m\u001b[43mcatch\u001b[49m\u001b[43m,\u001b[49m\u001b[43m \u001b[49m\u001b[43mIterable\u001b[49m\u001b[43m)\u001b[49m\u001b[43m \u001b[49m\u001b[38;5;28;43;01melse\u001b[39;49;00m\u001b[43m \u001b[49m\u001b[43m(\u001b[49m\u001b[43mcatch\u001b[49m\u001b[43m,\u001b[49m\u001b[43m)\u001b[49m\u001b[43m,\u001b[49m\n\u001b[1;32m    482\u001b[0m \u001b[43m        \u001b[49m\u001b[43mcallbacks\u001b[49m\u001b[38;5;241;43m=\u001b[39;49m\u001b[43mcallbacks\u001b[49m\u001b[43m,\u001b[49m\n\u001b[1;32m    483\u001b[0m \u001b[43m        \u001b[49m\u001b[43mgc_after_trial\u001b[49m\u001b[38;5;241;43m=\u001b[39;49m\u001b[43mgc_after_trial\u001b[49m\u001b[43m,\u001b[49m\n\u001b[1;32m    484\u001b[0m \u001b[43m        \u001b[49m\u001b[43mshow_progress_bar\u001b[49m\u001b[38;5;241;43m=\u001b[39;49m\u001b[43mshow_progress_bar\u001b[49m\u001b[43m,\u001b[49m\n\u001b[1;32m    485\u001b[0m \u001b[43m    \u001b[49m\u001b[43m)\u001b[49m\n",
      "File \u001b[0;32m/mnt/9ff244f6-7fea-487a-935b-91d4a4dbc13f/python_projects/carsharing-project/.venv/lib/python3.12/site-packages/optuna/study/_optimize.py:63\u001b[0m, in \u001b[0;36m_optimize\u001b[0;34m(study, func, n_trials, timeout, n_jobs, catch, callbacks, gc_after_trial, show_progress_bar)\u001b[0m\n\u001b[1;32m     61\u001b[0m \u001b[38;5;28;01mtry\u001b[39;00m:\n\u001b[1;32m     62\u001b[0m     \u001b[38;5;28;01mif\u001b[39;00m n_jobs \u001b[38;5;241m==\u001b[39m \u001b[38;5;241m1\u001b[39m:\n\u001b[0;32m---> 63\u001b[0m         \u001b[43m_optimize_sequential\u001b[49m\u001b[43m(\u001b[49m\n\u001b[1;32m     64\u001b[0m \u001b[43m            \u001b[49m\u001b[43mstudy\u001b[49m\u001b[43m,\u001b[49m\n\u001b[1;32m     65\u001b[0m \u001b[43m            \u001b[49m\u001b[43mfunc\u001b[49m\u001b[43m,\u001b[49m\n\u001b[1;32m     66\u001b[0m \u001b[43m            \u001b[49m\u001b[43mn_trials\u001b[49m\u001b[43m,\u001b[49m\n\u001b[1;32m     67\u001b[0m \u001b[43m            \u001b[49m\u001b[43mtimeout\u001b[49m\u001b[43m,\u001b[49m\n\u001b[1;32m     68\u001b[0m \u001b[43m            \u001b[49m\u001b[43mcatch\u001b[49m\u001b[43m,\u001b[49m\n\u001b[1;32m     69\u001b[0m \u001b[43m            \u001b[49m\u001b[43mcallbacks\u001b[49m\u001b[43m,\u001b[49m\n\u001b[1;32m     70\u001b[0m \u001b[43m            \u001b[49m\u001b[43mgc_after_trial\u001b[49m\u001b[43m,\u001b[49m\n\u001b[1;32m     71\u001b[0m \u001b[43m            \u001b[49m\u001b[43mreseed_sampler_rng\u001b[49m\u001b[38;5;241;43m=\u001b[39;49m\u001b[38;5;28;43;01mFalse\u001b[39;49;00m\u001b[43m,\u001b[49m\n\u001b[1;32m     72\u001b[0m \u001b[43m            \u001b[49m\u001b[43mtime_start\u001b[49m\u001b[38;5;241;43m=\u001b[39;49m\u001b[38;5;28;43;01mNone\u001b[39;49;00m\u001b[43m,\u001b[49m\n\u001b[1;32m     73\u001b[0m \u001b[43m            \u001b[49m\u001b[43mprogress_bar\u001b[49m\u001b[38;5;241;43m=\u001b[39;49m\u001b[43mprogress_bar\u001b[49m\u001b[43m,\u001b[49m\n\u001b[1;32m     74\u001b[0m \u001b[43m        \u001b[49m\u001b[43m)\u001b[49m\n\u001b[1;32m     75\u001b[0m     \u001b[38;5;28;01melse\u001b[39;00m:\n\u001b[1;32m     76\u001b[0m         \u001b[38;5;28;01mif\u001b[39;00m n_jobs \u001b[38;5;241m==\u001b[39m \u001b[38;5;241m-\u001b[39m\u001b[38;5;241m1\u001b[39m:\n",
      "File \u001b[0;32m/mnt/9ff244f6-7fea-487a-935b-91d4a4dbc13f/python_projects/carsharing-project/.venv/lib/python3.12/site-packages/optuna/study/_optimize.py:160\u001b[0m, in \u001b[0;36m_optimize_sequential\u001b[0;34m(study, func, n_trials, timeout, catch, callbacks, gc_after_trial, reseed_sampler_rng, time_start, progress_bar)\u001b[0m\n\u001b[1;32m    157\u001b[0m         \u001b[38;5;28;01mbreak\u001b[39;00m\n\u001b[1;32m    159\u001b[0m \u001b[38;5;28;01mtry\u001b[39;00m:\n\u001b[0;32m--> 160\u001b[0m     frozen_trial \u001b[38;5;241m=\u001b[39m \u001b[43m_run_trial\u001b[49m\u001b[43m(\u001b[49m\u001b[43mstudy\u001b[49m\u001b[43m,\u001b[49m\u001b[43m \u001b[49m\u001b[43mfunc\u001b[49m\u001b[43m,\u001b[49m\u001b[43m \u001b[49m\u001b[43mcatch\u001b[49m\u001b[43m)\u001b[49m\n\u001b[1;32m    161\u001b[0m \u001b[38;5;28;01mfinally\u001b[39;00m:\n\u001b[1;32m    162\u001b[0m     \u001b[38;5;66;03m# The following line mitigates memory problems that can be occurred in some\u001b[39;00m\n\u001b[1;32m    163\u001b[0m     \u001b[38;5;66;03m# environments (e.g., services that use computing containers such as GitHub Actions).\u001b[39;00m\n\u001b[1;32m    164\u001b[0m     \u001b[38;5;66;03m# Please refer to the following PR for further details:\u001b[39;00m\n\u001b[1;32m    165\u001b[0m     \u001b[38;5;66;03m# https://github.com/optuna/optuna/pull/325.\u001b[39;00m\n\u001b[1;32m    166\u001b[0m     \u001b[38;5;28;01mif\u001b[39;00m gc_after_trial:\n",
      "File \u001b[0;32m/mnt/9ff244f6-7fea-487a-935b-91d4a4dbc13f/python_projects/carsharing-project/.venv/lib/python3.12/site-packages/optuna/study/_optimize.py:248\u001b[0m, in \u001b[0;36m_run_trial\u001b[0;34m(study, func, catch)\u001b[0m\n\u001b[1;32m    241\u001b[0m         \u001b[38;5;28;01massert\u001b[39;00m \u001b[38;5;28;01mFalse\u001b[39;00m, \u001b[38;5;124m\"\u001b[39m\u001b[38;5;124mShould not reach.\u001b[39m\u001b[38;5;124m\"\u001b[39m\n\u001b[1;32m    243\u001b[0m \u001b[38;5;28;01mif\u001b[39;00m (\n\u001b[1;32m    244\u001b[0m     frozen_trial\u001b[38;5;241m.\u001b[39mstate \u001b[38;5;241m==\u001b[39m TrialState\u001b[38;5;241m.\u001b[39mFAIL\n\u001b[1;32m    245\u001b[0m     \u001b[38;5;129;01mand\u001b[39;00m func_err \u001b[38;5;129;01mis\u001b[39;00m \u001b[38;5;129;01mnot\u001b[39;00m \u001b[38;5;28;01mNone\u001b[39;00m\n\u001b[1;32m    246\u001b[0m     \u001b[38;5;129;01mand\u001b[39;00m \u001b[38;5;129;01mnot\u001b[39;00m \u001b[38;5;28misinstance\u001b[39m(func_err, catch)\n\u001b[1;32m    247\u001b[0m ):\n\u001b[0;32m--> 248\u001b[0m     \u001b[38;5;28;01mraise\u001b[39;00m func_err\n\u001b[1;32m    249\u001b[0m \u001b[38;5;28;01mreturn\u001b[39;00m frozen_trial\n",
      "File \u001b[0;32m/mnt/9ff244f6-7fea-487a-935b-91d4a4dbc13f/python_projects/carsharing-project/.venv/lib/python3.12/site-packages/optuna/study/_optimize.py:197\u001b[0m, in \u001b[0;36m_run_trial\u001b[0;34m(study, func, catch)\u001b[0m\n\u001b[1;32m    195\u001b[0m \u001b[38;5;28;01mwith\u001b[39;00m get_heartbeat_thread(trial\u001b[38;5;241m.\u001b[39m_trial_id, study\u001b[38;5;241m.\u001b[39m_storage):\n\u001b[1;32m    196\u001b[0m     \u001b[38;5;28;01mtry\u001b[39;00m:\n\u001b[0;32m--> 197\u001b[0m         value_or_values \u001b[38;5;241m=\u001b[39m \u001b[43mfunc\u001b[49m\u001b[43m(\u001b[49m\u001b[43mtrial\u001b[49m\u001b[43m)\u001b[49m\n\u001b[1;32m    198\u001b[0m     \u001b[38;5;28;01mexcept\u001b[39;00m exceptions\u001b[38;5;241m.\u001b[39mTrialPruned \u001b[38;5;28;01mas\u001b[39;00m e:\n\u001b[1;32m    199\u001b[0m         \u001b[38;5;66;03m# TODO(mamu): Handle multi-objective cases.\u001b[39;00m\n\u001b[1;32m    200\u001b[0m         state \u001b[38;5;241m=\u001b[39m TrialState\u001b[38;5;241m.\u001b[39mPRUNED\n",
      "Cell \u001b[0;32mIn[60], line 27\u001b[0m, in \u001b[0;36mobjective\u001b[0;34m(trial)\u001b[0m\n\u001b[1;32m     20\u001b[0m test_data \u001b[38;5;241m=\u001b[39m lgb\u001b[38;5;241m.\u001b[39mDataset(X_test, label\u001b[38;5;241m=\u001b[39my_test, reference\u001b[38;5;241m=\u001b[39mtrain_data)\n\u001b[1;32m     22\u001b[0m callbacks \u001b[38;5;241m=\u001b[39m [\n\u001b[1;32m     23\u001b[0m     lgb\u001b[38;5;241m.\u001b[39mlog_evaluation(\u001b[38;5;241m100\u001b[39m),\n\u001b[1;32m     24\u001b[0m     lgb\u001b[38;5;241m.\u001b[39mcallback\u001b[38;5;241m.\u001b[39mearly_stopping(\u001b[38;5;241m500\u001b[39m, verbose\u001b[38;5;241m=\u001b[39m\u001b[38;5;28;01mFalse\u001b[39;00m)\n\u001b[1;32m     25\u001b[0m ]\n\u001b[0;32m---> 27\u001b[0m model \u001b[38;5;241m=\u001b[39m \u001b[43mlgb\u001b[49m\u001b[38;5;241;43m.\u001b[39;49m\u001b[43mtrain\u001b[49m\u001b[43m(\u001b[49m\n\u001b[1;32m     28\u001b[0m \u001b[43m    \u001b[49m\u001b[43mparams\u001b[49m\u001b[43m,\u001b[49m\n\u001b[1;32m     29\u001b[0m \u001b[43m    \u001b[49m\u001b[43mtrain_data\u001b[49m\u001b[43m,\u001b[49m\n\u001b[1;32m     30\u001b[0m \u001b[43m    \u001b[49m\u001b[43mvalid_sets\u001b[49m\u001b[38;5;241;43m=\u001b[39;49m\u001b[43m[\u001b[49m\u001b[43mtrain_data\u001b[49m\u001b[43m,\u001b[49m\u001b[43m \u001b[49m\u001b[43mtest_data\u001b[49m\u001b[43m]\u001b[49m\u001b[43m,\u001b[49m\n\u001b[1;32m     31\u001b[0m \u001b[43m    \u001b[49m\u001b[43mnum_boost_round\u001b[49m\u001b[38;5;241;43m=\u001b[39;49m\u001b[38;5;241;43m5000\u001b[39;49m\u001b[43m,\u001b[49m\n\u001b[1;32m     32\u001b[0m \u001b[43m    \u001b[49m\u001b[43mcallbacks\u001b[49m\u001b[38;5;241;43m=\u001b[39;49m\u001b[43mcallbacks\u001b[49m\u001b[43m,\u001b[49m\n\u001b[1;32m     33\u001b[0m \u001b[43m\u001b[49m\u001b[43m)\u001b[49m\n\u001b[1;32m     35\u001b[0m preds \u001b[38;5;241m=\u001b[39m model\u001b[38;5;241m.\u001b[39mpredict(X_test)\n\u001b[1;32m     36\u001b[0m preds_binary \u001b[38;5;241m=\u001b[39m np\u001b[38;5;241m.\u001b[39mwhere(preds \u001b[38;5;241m>\u001b[39m \u001b[38;5;241m0.5\u001b[39m, \u001b[38;5;241m1\u001b[39m, \u001b[38;5;241m0\u001b[39m)\n",
      "File \u001b[0;32m/mnt/9ff244f6-7fea-487a-935b-91d4a4dbc13f/python_projects/carsharing-project/.venv/lib/python3.12/site-packages/lightgbm/engine.py:322\u001b[0m, in \u001b[0;36mtrain\u001b[0;34m(params, train_set, num_boost_round, valid_sets, valid_names, feval, init_model, keep_training_booster, callbacks)\u001b[0m\n\u001b[1;32m    310\u001b[0m \u001b[38;5;28;01mfor\u001b[39;00m cb \u001b[38;5;129;01min\u001b[39;00m callbacks_before_iter:\n\u001b[1;32m    311\u001b[0m     cb(\n\u001b[1;32m    312\u001b[0m         callback\u001b[38;5;241m.\u001b[39mCallbackEnv(\n\u001b[1;32m    313\u001b[0m             model\u001b[38;5;241m=\u001b[39mbooster,\n\u001b[0;32m   (...)\u001b[0m\n\u001b[1;32m    319\u001b[0m         )\n\u001b[1;32m    320\u001b[0m     )\n\u001b[0;32m--> 322\u001b[0m \u001b[43mbooster\u001b[49m\u001b[38;5;241;43m.\u001b[39;49m\u001b[43mupdate\u001b[49m\u001b[43m(\u001b[49m\u001b[43mfobj\u001b[49m\u001b[38;5;241;43m=\u001b[39;49m\u001b[43mfobj\u001b[49m\u001b[43m)\u001b[49m\n\u001b[1;32m    324\u001b[0m evaluation_result_list: List[_LGBM_BoosterEvalMethodResultType] \u001b[38;5;241m=\u001b[39m []\n\u001b[1;32m    325\u001b[0m \u001b[38;5;66;03m# check evaluation result.\u001b[39;00m\n",
      "File \u001b[0;32m/mnt/9ff244f6-7fea-487a-935b-91d4a4dbc13f/python_projects/carsharing-project/.venv/lib/python3.12/site-packages/lightgbm/basic.py:4155\u001b[0m, in \u001b[0;36mBooster.update\u001b[0;34m(self, train_set, fobj)\u001b[0m\n\u001b[1;32m   4152\u001b[0m \u001b[38;5;28;01mif\u001b[39;00m \u001b[38;5;28mself\u001b[39m\u001b[38;5;241m.\u001b[39m__set_objective_to_none:\n\u001b[1;32m   4153\u001b[0m     \u001b[38;5;28;01mraise\u001b[39;00m LightGBMError(\u001b[38;5;124m\"\u001b[39m\u001b[38;5;124mCannot update due to null objective function.\u001b[39m\u001b[38;5;124m\"\u001b[39m)\n\u001b[1;32m   4154\u001b[0m _safe_call(\n\u001b[0;32m-> 4155\u001b[0m     \u001b[43m_LIB\u001b[49m\u001b[38;5;241;43m.\u001b[39;49m\u001b[43mLGBM_BoosterUpdateOneIter\u001b[49m\u001b[43m(\u001b[49m\n\u001b[1;32m   4156\u001b[0m \u001b[43m        \u001b[49m\u001b[38;5;28;43mself\u001b[39;49m\u001b[38;5;241;43m.\u001b[39;49m\u001b[43m_handle\u001b[49m\u001b[43m,\u001b[49m\n\u001b[1;32m   4157\u001b[0m \u001b[43m        \u001b[49m\u001b[43mctypes\u001b[49m\u001b[38;5;241;43m.\u001b[39;49m\u001b[43mbyref\u001b[49m\u001b[43m(\u001b[49m\u001b[43mis_finished\u001b[49m\u001b[43m)\u001b[49m\u001b[43m,\u001b[49m\n\u001b[1;32m   4158\u001b[0m \u001b[43m    \u001b[49m\u001b[43m)\u001b[49m\n\u001b[1;32m   4159\u001b[0m )\n\u001b[1;32m   4160\u001b[0m \u001b[38;5;28mself\u001b[39m\u001b[38;5;241m.\u001b[39m__is_predicted_cur_iter \u001b[38;5;241m=\u001b[39m [\u001b[38;5;28;01mFalse\u001b[39;00m \u001b[38;5;28;01mfor\u001b[39;00m _ \u001b[38;5;129;01min\u001b[39;00m \u001b[38;5;28mrange\u001b[39m(\u001b[38;5;28mself\u001b[39m\u001b[38;5;241m.\u001b[39m__num_dataset)]\n\u001b[1;32m   4161\u001b[0m \u001b[38;5;28;01mreturn\u001b[39;00m is_finished\u001b[38;5;241m.\u001b[39mvalue \u001b[38;5;241m==\u001b[39m \u001b[38;5;241m1\u001b[39m\n",
      "\u001b[0;31mKeyboardInterrupt\u001b[0m: "
     ]
    }
   ],
   "source": [
    "study = optuna.create_study(direction='maximize')\n",
    "study.optimize(objective, n_trials=10)\n",
    "\n",
    "print(\"Best trial:\")\n",
    "trial = study.best_trial\n",
    "print(f\"  F1: {trial.value:.4f}\")\n",
    "print(\"  Params: \")\n",
    "for key, value in trial.params.items():\n",
    "    print(f\"    {key}: {value}\")"
   ]
  },
  {
   "cell_type": "markdown",
   "metadata": {},
   "source": [
    "#### Обучение на лучших гиперпараметрах модели градиентного бустинга"
   ]
  },
  {
   "cell_type": "code",
   "execution_count": null,
   "metadata": {},
   "outputs": [
    {
     "name": "stdout",
     "output_type": "stream",
     "text": [
      "Training until validation scores don't improve for 50 rounds\n",
      "[50]\tvalid_0's binary_logloss: 0.374548\n",
      "[100]\tvalid_0's binary_logloss: 0.288645\n",
      "[150]\tvalid_0's binary_logloss: 0.260902\n",
      "[200]\tvalid_0's binary_logloss: 0.250474\n",
      "[250]\tvalid_0's binary_logloss: 0.245223\n",
      "[300]\tvalid_0's binary_logloss: 0.241539\n",
      "[350]\tvalid_0's binary_logloss: 0.239187\n",
      "[400]\tvalid_0's binary_logloss: 0.237992\n",
      "[450]\tvalid_0's binary_logloss: 0.237217\n",
      "[500]\tvalid_0's binary_logloss: 0.236419\n",
      "[550]\tvalid_0's binary_logloss: 0.235783\n",
      "[600]\tvalid_0's binary_logloss: 0.235394\n",
      "[650]\tvalid_0's binary_logloss: 0.234945\n",
      "[700]\tvalid_0's binary_logloss: 0.234539\n",
      "[750]\tvalid_0's binary_logloss: 0.233974\n",
      "[800]\tvalid_0's binary_logloss: 0.233681\n",
      "[850]\tvalid_0's binary_logloss: 0.233239\n",
      "[900]\tvalid_0's binary_logloss: 0.232909\n",
      "[950]\tvalid_0's binary_logloss: 0.232628\n",
      "[1000]\tvalid_0's binary_logloss: 0.23249\n",
      "Did not meet early stopping. Best iteration is:\n",
      "[988]\tvalid_0's binary_logloss: 0.232481\n",
      "\n",
      "Final Test F1: 0.9144\n"
     ]
    }
   ],
   "source": [
    "train_data = lgb.Dataset(X_train, label=y_train)\n",
    "test_data = lgb.Dataset(X_test, label=y_test, reference=train_data)\n",
    "\n",
    "best_params = trial.params\n",
    "best_params.update({\n",
    "    'objective': 'binary',\n",
    "    'metric': 'binary_logloss',\n",
    "    'verbosity': -1,\n",
    "    'n_jobs': -1\n",
    "})\n",
    "\n",
    "final_model = lgb.train(\n",
    "    best_params,\n",
    "    train_data,\n",
    "    valid_sets=[test_data],\n",
    "    num_boost_round=1000,\n",
    "    callbacks=[lgb.early_stopping(50), lgb.log_evaluation(50)]\n",
    ")\n",
    "\n",
    "# Оценка на тестовых данных\n",
    "test_preds = final_model.predict(X_test)\n",
    "test_preds_binary = np.where(test_preds > 0.5, 1, 0)\n",
    "final_f1 = f1_score(y_test, test_preds_binary)\n",
    "print(f\"\\nFinal Test F1: {final_f1:.4f}\")"
   ]
  },
  {
   "cell_type": "markdown",
   "metadata": {},
   "source": [
    "#### Вывод по результату градиентного бустинга"
   ]
  },
  {
   "cell_type": "code",
   "execution_count": null,
   "metadata": {},
   "outputs": [
    {
     "data": {
      "image/png": "[encoded data removed]",
      "text/plain": [
       "<Figure size 640x480 with 2 Axes>"
      ]
     },
     "metadata": {},
     "output_type": "display_data"
    }
   ],
   "source": [
    "cm_lgb = confusion_matrix(y_test, test_preds_binary)\n",
    "disp = ConfusionMatrixDisplay(confusion_matrix=cm_lgb)\n",
    "disp.plot()\n",
    "plt.show()"
   ]
  },
  {
   "cell_type": "markdown",
   "metadata": {},
   "source": []
  },
  {
   "cell_type": "code",
   "execution_count": null,
   "metadata": {},
   "outputs": [],
   "source": [
    "def objective(trial):\n",
    "    params = {\n",
    "        'n_estimators': trial.suggest_int('n_estimators', 50, 500),\n",
    "        'max_depth': trial.suggest_int('max_depth', 3, 15),\n",
    "        'min_samples_split': trial.suggest_int('min_samples_split', 2, 20),\n",
    "        'min_samples_leaf': trial.suggest_int('min_samples_leaf', 1, 10),\n",
    "        'max_features': trial.suggest_categorical('max_features', ['sqrt', 'log2', None]),\n",
    "        'bootstrap': trial.suggest_categorical('bootstrap', [True, False]),\n",
    "        'class_weight': trial.suggest_categorical('class_weight', [None, 'balanced', 'balanced_subsample'])\n",
    "    }\n",
    "    \n",
    "    model = RandomForestClassifier(\n",
    "        **params,\n",
    "        random_state=42,\n",
    "        n_jobs=-1\n",
    "    )\n",
    "    \n",
    "    scores = cross_val_score(\n",
    "        model,\n",
    "        X_train,\n",
    "        y_train,\n",
    "        cv=3,\n",
    "        scoring='f1_macro',\n",
    "        n_jobs=-1\n",
    "    )\n",
    "    \n",
    "    f1 = scores.mean()\n",
    "    return f1"
   ]
  },
  {
   "cell_type": "code",
   "execution_count": null,
   "metadata": {},
   "outputs": [
    {
     "name": "stderr",
     "output_type": "stream",
     "text": [
      "[I 2025-02-17 20:14:36,370] A new study created in memory with name: no-name-0f3e3a7a-16a6-4653-80a6-abbb81ae9e62\n",
      "[I 2025-02-17 20:14:41,259] Trial 0 finished with value: 0.9178642542669717 and parameters: {'n_estimators': 234, 'max_depth': 14, 'min_samples_split': 9, 'min_samples_leaf': 8, 'max_features': 'sqrt', 'bootstrap': False, 'class_weight': 'balanced_subsample'}. Best is trial 0 with value: 0.9178642542669717.\n"
     ]
    },
    {
     "name": "stdout",
     "output_type": "stream",
     "text": [
      "Trial   0 | F1: 0.9179 | Params: {'n_estimators': 234, 'max_depth': 14, 'min_samples_split': 9, 'min_samples_leaf': 8, 'max_features': 'sqrt', 'bootstrap': False, 'class_weight': 'balanced_subsample'}\n"
     ]
    },
    {
     "name": "stderr",
     "output_type": "stream",
     "text": [
      "[I 2025-02-17 20:14:47,576] Trial 1 finished with value: 0.9160903437920856 and parameters: {'n_estimators': 174, 'max_depth': 5, 'min_samples_split': 2, 'min_samples_leaf': 8, 'max_features': None, 'bootstrap': False, 'class_weight': 'balanced_subsample'}. Best is trial 0 with value: 0.9178642542669717.\n",
      "[I 2025-02-17 20:15:01,688] Trial 2 finished with value: 0.9135926332290856 and parameters: {'n_estimators': 232, 'max_depth': 12, 'min_samples_split': 14, 'min_samples_leaf': 3, 'max_features': None, 'bootstrap': False, 'class_weight': 'balanced'}. Best is trial 0 with value: 0.9178642542669717.\n",
      "[I 2025-02-17 20:15:08,837] Trial 3 finished with value: 0.9133552464182312 and parameters: {'n_estimators': 463, 'max_depth': 9, 'min_samples_split': 15, 'min_samples_leaf': 2, 'max_features': 'sqrt', 'bootstrap': False, 'class_weight': 'balanced_subsample'}. Best is trial 0 with value: 0.9178642542669717.\n",
      "[I 2025-02-17 20:15:11,241] Trial 4 finished with value: 0.9117814947430712 and parameters: {'n_estimators': 76, 'max_depth': 4, 'min_samples_split': 8, 'min_samples_leaf': 5, 'max_features': None, 'bootstrap': False, 'class_weight': None}. Best is trial 0 with value: 0.9178642542669717.\n",
      "[I 2025-02-17 20:15:37,318] Trial 5 finished with value: 0.9102150750936041 and parameters: {'n_estimators': 408, 'max_depth': 14, 'min_samples_split': 2, 'min_samples_leaf': 2, 'max_features': None, 'bootstrap': False, 'class_weight': 'balanced'}. Best is trial 0 with value: 0.9178642542669717.\n"
     ]
    },
    {
     "name": "stdout",
     "output_type": "stream",
     "text": [
      "Trial   5 | F1: 0.9102 | Params: {'n_estimators': 408, 'max_depth': 14, 'min_samples_split': 2, 'min_samples_leaf': 2, 'max_features': None, 'bootstrap': False, 'class_weight': 'balanced'}\n"
     ]
    },
    {
     "name": "stderr",
     "output_type": "stream",
     "text": [
      "[I 2025-02-17 20:15:41,290] Trial 6 finished with value: 0.9141164621204987 and parameters: {'n_estimators': 314, 'max_depth': 11, 'min_samples_split': 6, 'min_samples_leaf': 7, 'max_features': 'log2', 'bootstrap': False, 'class_weight': 'balanced'}. Best is trial 0 with value: 0.9178642542669717.\n",
      "[I 2025-02-17 20:15:42,448] Trial 7 finished with value: 0.9104854718059778 and parameters: {'n_estimators': 97, 'max_depth': 5, 'min_samples_split': 13, 'min_samples_leaf': 10, 'max_features': 'sqrt', 'bootstrap': True, 'class_weight': 'balanced_subsample'}. Best is trial 0 with value: 0.9178642542669717.\n",
      "[I 2025-02-17 20:15:50,484] Trial 8 finished with value: 0.9183544373961471 and parameters: {'n_estimators': 228, 'max_depth': 9, 'min_samples_split': 14, 'min_samples_leaf': 8, 'max_features': None, 'bootstrap': True, 'class_weight': None}. Best is trial 8 with value: 0.9183544373961471.\n",
      "[I 2025-02-17 20:15:53,448] Trial 9 finished with value: 0.9133583684502685 and parameters: {'n_estimators': 264, 'max_depth': 10, 'min_samples_split': 8, 'min_samples_leaf': 6, 'max_features': 'log2', 'bootstrap': False, 'class_weight': None}. Best is trial 8 with value: 0.9183544373961471.\n",
      "[I 2025-02-17 20:16:04,322] Trial 10 finished with value: 0.918078752036934 and parameters: {'n_estimators': 343, 'max_depth': 8, 'min_samples_split': 20, 'min_samples_leaf': 10, 'max_features': None, 'bootstrap': True, 'class_weight': None}. Best is trial 8 with value: 0.9183544373961471.\n"
     ]
    },
    {
     "name": "stdout",
     "output_type": "stream",
     "text": [
      "Trial  10 | F1: 0.9181 | Params: {'n_estimators': 343, 'max_depth': 8, 'min_samples_split': 20, 'min_samples_leaf': 10, 'max_features': None, 'bootstrap': True, 'class_weight': None}\n"
     ]
    },
    {
     "name": "stderr",
     "output_type": "stream",
     "text": [
      "[I 2025-02-17 20:16:16,078] Trial 11 finished with value: 0.9180791702466355 and parameters: {'n_estimators': 361, 'max_depth': 8, 'min_samples_split': 20, 'min_samples_leaf': 10, 'max_features': None, 'bootstrap': True, 'class_weight': None}. Best is trial 8 with value: 0.9183544373961471.\n",
      "[I 2025-02-17 20:16:27,141] Trial 12 finished with value: 0.9180190430713521 and parameters: {'n_estimators': 375, 'max_depth': 7, 'min_samples_split': 20, 'min_samples_leaf': 9, 'max_features': None, 'bootstrap': True, 'class_weight': None}. Best is trial 8 with value: 0.9183544373961471.\n",
      "[I 2025-02-17 20:16:32,111] Trial 13 finished with value: 0.9167056018309397 and parameters: {'n_estimators': 183, 'max_depth': 6, 'min_samples_split': 17, 'min_samples_leaf': 5, 'max_features': None, 'bootstrap': True, 'class_weight': None}. Best is trial 8 with value: 0.9183544373961471.\n",
      "[I 2025-02-17 20:16:47,191] Trial 14 finished with value: 0.9181159523594776 and parameters: {'n_estimators': 468, 'max_depth': 8, 'min_samples_split': 17, 'min_samples_leaf': 9, 'max_features': None, 'bootstrap': True, 'class_weight': None}. Best is trial 8 with value: 0.9183544373961471.\n",
      "[I 2025-02-17 20:16:50,257] Trial 15 finished with value: 0.8978119357304492 and parameters: {'n_estimators': 458, 'max_depth': 3, 'min_samples_split': 17, 'min_samples_leaf': 8, 'max_features': 'log2', 'bootstrap': True, 'class_weight': None}. Best is trial 8 with value: 0.9183544373961471.\n"
     ]
    },
    {
     "name": "stdout",
     "output_type": "stream",
     "text": [
      "Trial  15 | F1: 0.8978 | Params: {'n_estimators': 458, 'max_depth': 3, 'min_samples_split': 17, 'min_samples_leaf': 8, 'max_features': 'log2', 'bootstrap': True, 'class_weight': None}\n"
     ]
    },
    {
     "name": "stderr",
     "output_type": "stream",
     "text": [
      "[I 2025-02-17 20:17:10,350] Trial 16 finished with value: 0.9184633881141687 and parameters: {'n_estimators': 497, 'max_depth': 12, 'min_samples_split': 12, 'min_samples_leaf': 6, 'max_features': None, 'bootstrap': True, 'class_weight': None}. Best is trial 16 with value: 0.9184633881141687.\n",
      "[I 2025-02-17 20:17:17,483] Trial 17 finished with value: 0.9185485204785341 and parameters: {'n_estimators': 175, 'max_depth': 12, 'min_samples_split': 11, 'min_samples_leaf': 4, 'max_features': None, 'bootstrap': True, 'class_weight': None}. Best is trial 17 with value: 0.9185485204785341.\n",
      "[I 2025-02-17 20:17:19,036] Trial 18 finished with value: 0.9149177287067527 and parameters: {'n_estimators': 144, 'max_depth': 12, 'min_samples_split': 10, 'min_samples_leaf': 4, 'max_features': 'log2', 'bootstrap': True, 'class_weight': None}. Best is trial 17 with value: 0.9185485204785341.\n",
      "[I 2025-02-17 20:17:23,054] Trial 19 finished with value: 0.9183012237685544 and parameters: {'n_estimators': 293, 'max_depth': 15, 'min_samples_split': 12, 'min_samples_leaf': 1, 'max_features': 'sqrt', 'bootstrap': True, 'class_weight': 'balanced'}. Best is trial 17 with value: 0.9185485204785341.\n",
      "[I 2025-02-17 20:17:28,392] Trial 20 finished with value: 0.9188300801051219 and parameters: {'n_estimators': 126, 'max_depth': 13, 'min_samples_split': 5, 'min_samples_leaf': 4, 'max_features': None, 'bootstrap': True, 'class_weight': None}. Best is trial 20 with value: 0.9188300801051219.\n"
     ]
    },
    {
     "name": "stdout",
     "output_type": "stream",
     "text": [
      "Trial  20 | F1: 0.9188 | Params: {'n_estimators': 126, 'max_depth': 13, 'min_samples_split': 5, 'min_samples_leaf': 4, 'max_features': None, 'bootstrap': True, 'class_weight': None}\n"
     ]
    },
    {
     "name": "stderr",
     "output_type": "stream",
     "text": [
      "[I 2025-02-17 20:17:33,980] Trial 21 finished with value: 0.9187935377350356 and parameters: {'n_estimators': 130, 'max_depth': 13, 'min_samples_split': 6, 'min_samples_leaf': 4, 'max_features': None, 'bootstrap': True, 'class_weight': None}. Best is trial 20 with value: 0.9188300801051219.\n",
      "[I 2025-02-17 20:17:39,633] Trial 22 finished with value: 0.9187931167957345 and parameters: {'n_estimators': 131, 'max_depth': 13, 'min_samples_split': 5, 'min_samples_leaf': 4, 'max_features': None, 'bootstrap': True, 'class_weight': None}. Best is trial 20 with value: 0.9188300801051219.\n",
      "[I 2025-02-17 20:17:44,951] Trial 23 finished with value: 0.9190348561134613 and parameters: {'n_estimators': 118, 'max_depth': 14, 'min_samples_split': 5, 'min_samples_leaf': 4, 'max_features': None, 'bootstrap': True, 'class_weight': None}. Best is trial 23 with value: 0.9190348561134613.\n",
      "[I 2025-02-17 20:17:47,713] Trial 24 finished with value: 0.9198213960938348 and parameters: {'n_estimators': 56, 'max_depth': 15, 'min_samples_split': 5, 'min_samples_leaf': 3, 'max_features': None, 'bootstrap': True, 'class_weight': None}. Best is trial 24 with value: 0.9198213960938348.\n",
      "[I 2025-02-17 20:17:50,657] Trial 25 finished with value: 0.9196979325584372 and parameters: {'n_estimators': 60, 'max_depth': 15, 'min_samples_split': 4, 'min_samples_leaf': 3, 'max_features': None, 'bootstrap': True, 'class_weight': None}. Best is trial 24 with value: 0.9198213960938348.\n"
     ]
    },
    {
     "name": "stdout",
     "output_type": "stream",
     "text": [
      "Trial  25 | F1: 0.9197 | Params: {'n_estimators': 60, 'max_depth': 15, 'min_samples_split': 4, 'min_samples_leaf': 3, 'max_features': None, 'bootstrap': True, 'class_weight': None}\n"
     ]
    },
    {
     "name": "stderr",
     "output_type": "stream",
     "text": [
      "[I 2025-02-17 20:17:53,624] Trial 26 finished with value: 0.9202022752606327 and parameters: {'n_estimators': 62, 'max_depth': 15, 'min_samples_split': 4, 'min_samples_leaf': 2, 'max_features': None, 'bootstrap': True, 'class_weight': None}. Best is trial 26 with value: 0.9202022752606327.\n",
      "[I 2025-02-17 20:17:57,048] Trial 27 finished with value: 0.920938934406589 and parameters: {'n_estimators': 70, 'max_depth': 15, 'min_samples_split': 3, 'min_samples_leaf': 1, 'max_features': None, 'bootstrap': True, 'class_weight': None}. Best is trial 27 with value: 0.920938934406589.\n",
      "[I 2025-02-17 20:17:58,207] Trial 28 finished with value: 0.9191296472349264 and parameters: {'n_estimators': 61, 'max_depth': 15, 'min_samples_split': 3, 'min_samples_leaf': 1, 'max_features': 'sqrt', 'bootstrap': True, 'class_weight': 'balanced_subsample'}. Best is trial 27 with value: 0.920938934406589.\n",
      "[I 2025-02-17 20:17:59,333] Trial 29 finished with value: 0.9166058274372347 and parameters: {'n_estimators': 84, 'max_depth': 14, 'min_samples_split': 7, 'min_samples_leaf': 2, 'max_features': 'log2', 'bootstrap': True, 'class_weight': 'balanced'}. Best is trial 27 with value: 0.920938934406589.\n",
      "[I 2025-02-17 20:18:00,271] Trial 30 finished with value: 0.9189100266881388 and parameters: {'n_estimators': 54, 'max_depth': 15, 'min_samples_split': 4, 'min_samples_leaf': 1, 'max_features': 'sqrt', 'bootstrap': True, 'class_weight': 'balanced_subsample'}. Best is trial 27 with value: 0.920938934406589.\n"
     ]
    },
    {
     "name": "stdout",
     "output_type": "stream",
     "text": [
      "Trial  30 | F1: 0.9189 | Params: {'n_estimators': 54, 'max_depth': 15, 'min_samples_split': 4, 'min_samples_leaf': 1, 'max_features': 'sqrt', 'bootstrap': True, 'class_weight': 'balanced_subsample'}\n"
     ]
    },
    {
     "name": "stderr",
     "output_type": "stream",
     "text": [
      "[I 2025-02-17 20:18:02,739] Trial 31 finished with value: 0.9197346319688678 and parameters: {'n_estimators': 51, 'max_depth': 15, 'min_samples_split': 3, 'min_samples_leaf': 3, 'max_features': None, 'bootstrap': True, 'class_weight': None}. Best is trial 27 with value: 0.920938934406589.\n",
      "[I 2025-02-17 20:18:07,049] Trial 32 finished with value: 0.9194385269701547 and parameters: {'n_estimators': 95, 'max_depth': 14, 'min_samples_split': 2, 'min_samples_leaf': 3, 'max_features': None, 'bootstrap': True, 'class_weight': None}. Best is trial 27 with value: 0.920938934406589.\n",
      "[I 2025-02-17 20:18:16,381] Trial 33 finished with value: 0.9202494339205156 and parameters: {'n_estimators': 206, 'max_depth': 15, 'min_samples_split': 3, 'min_samples_leaf': 2, 'max_features': None, 'bootstrap': True, 'class_weight': None}. Best is trial 27 with value: 0.920938934406589.\n",
      "[I 2025-02-17 20:18:25,938] Trial 34 finished with value: 0.919733177705972 and parameters: {'n_estimators': 213, 'max_depth': 14, 'min_samples_split': 3, 'min_samples_leaf': 2, 'max_features': None, 'bootstrap': True, 'class_weight': None}. Best is trial 27 with value: 0.920938934406589.\n",
      "[I 2025-02-17 20:18:35,349] Trial 35 finished with value: 0.9120413683029307 and parameters: {'n_estimators': 151, 'max_depth': 13, 'min_samples_split': 7, 'min_samples_leaf': 1, 'max_features': None, 'bootstrap': False, 'class_weight': 'balanced_subsample'}. Best is trial 27 with value: 0.920938934406589.\n"
     ]
    },
    {
     "name": "stdout",
     "output_type": "stream",
     "text": [
      "Trial  35 | F1: 0.9120 | Params: {'n_estimators': 151, 'max_depth': 13, 'min_samples_split': 7, 'min_samples_leaf': 1, 'max_features': None, 'bootstrap': False, 'class_weight': 'balanced_subsample'}\n"
     ]
    },
    {
     "name": "stderr",
     "output_type": "stream",
     "text": [
      "[I 2025-02-17 20:18:43,239] Trial 36 finished with value: 0.9189762659379762 and parameters: {'n_estimators': 196, 'max_depth': 11, 'min_samples_split': 2, 'min_samples_leaf': 2, 'max_features': None, 'bootstrap': True, 'class_weight': None}. Best is trial 27 with value: 0.920938934406589.\n",
      "[I 2025-02-17 20:18:50,557] Trial 37 finished with value: 0.9072582987385364 and parameters: {'n_estimators': 105, 'max_depth': 15, 'min_samples_split': 4, 'min_samples_leaf': 3, 'max_features': None, 'bootstrap': False, 'class_weight': 'balanced'}. Best is trial 27 with value: 0.920938934406589.\n",
      "[I 2025-02-17 20:18:57,335] Trial 38 finished with value: 0.9190631222074123 and parameters: {'n_estimators': 156, 'max_depth': 13, 'min_samples_split': 9, 'min_samples_leaf': 2, 'max_features': None, 'bootstrap': True, 'class_weight': None}. Best is trial 27 with value: 0.920938934406589.\n",
      "[I 2025-02-17 20:19:01,069] Trial 39 finished with value: 0.9158248994968042 and parameters: {'n_estimators': 257, 'max_depth': 11, 'min_samples_split': 6, 'min_samples_leaf': 1, 'max_features': 'sqrt', 'bootstrap': False, 'class_weight': 'balanced_subsample'}. Best is trial 27 with value: 0.920938934406589.\n",
      "[I 2025-02-17 20:19:04,587] Trial 40 finished with value: 0.9193583977327044 and parameters: {'n_estimators': 82, 'max_depth': 14, 'min_samples_split': 2, 'min_samples_leaf': 3, 'max_features': None, 'bootstrap': True, 'class_weight': 'balanced'}. Best is trial 27 with value: 0.920938934406589.\n"
     ]
    },
    {
     "name": "stdout",
     "output_type": "stream",
     "text": [
      "Trial  40 | F1: 0.9194 | Params: {'n_estimators': 82, 'max_depth': 14, 'min_samples_split': 2, 'min_samples_leaf': 3, 'max_features': None, 'bootstrap': True, 'class_weight': 'balanced'}\n"
     ]
    },
    {
     "name": "stderr",
     "output_type": "stream",
     "text": [
      "[I 2025-02-17 20:19:07,181] Trial 41 finished with value: 0.9198326322021324 and parameters: {'n_estimators': 53, 'max_depth': 15, 'min_samples_split': 3, 'min_samples_leaf': 3, 'max_features': None, 'bootstrap': True, 'class_weight': None}. Best is trial 27 with value: 0.920938934406589.\n",
      "[I 2025-02-17 20:19:11,055] Trial 42 finished with value: 0.920188458951373 and parameters: {'n_estimators': 80, 'max_depth': 15, 'min_samples_split': 4, 'min_samples_leaf': 2, 'max_features': None, 'bootstrap': True, 'class_weight': None}. Best is trial 27 with value: 0.920938934406589.\n",
      "[I 2025-02-17 20:19:15,784] Trial 43 finished with value: 0.9196474087451149 and parameters: {'n_estimators': 105, 'max_depth': 14, 'min_samples_split': 3, 'min_samples_leaf': 2, 'max_features': None, 'bootstrap': True, 'class_weight': None}. Best is trial 27 with value: 0.920938934406589.\n",
      "[I 2025-02-17 20:19:19,589] Trial 44 finished with value: 0.9201620941216867 and parameters: {'n_estimators': 82, 'max_depth': 14, 'min_samples_split': 4, 'min_samples_leaf': 1, 'max_features': None, 'bootstrap': True, 'class_weight': None}. Best is trial 27 with value: 0.920938934406589.\n",
      "[I 2025-02-17 20:19:20,901] Trial 45 finished with value: 0.9184130890181081 and parameters: {'n_estimators': 83, 'max_depth': 14, 'min_samples_split': 4, 'min_samples_leaf': 1, 'max_features': 'log2', 'bootstrap': False, 'class_weight': None}. Best is trial 27 with value: 0.920938934406589.\n"
     ]
    },
    {
     "name": "stdout",
     "output_type": "stream",
     "text": [
      "Trial  45 | F1: 0.9184 | Params: {'n_estimators': 83, 'max_depth': 14, 'min_samples_split': 4, 'min_samples_leaf': 1, 'max_features': 'log2', 'bootstrap': False, 'class_weight': None}\n"
     ]
    },
    {
     "name": "stderr",
     "output_type": "stream",
     "text": [
      "[I 2025-02-17 20:19:25,635] Trial 46 finished with value: 0.9191491703795064 and parameters: {'n_estimators': 108, 'max_depth': 13, 'min_samples_split': 7, 'min_samples_leaf': 2, 'max_features': None, 'bootstrap': True, 'class_weight': None}. Best is trial 27 with value: 0.920938934406589.\n",
      "[I 2025-02-17 20:19:32,015] Trial 47 finished with value: 0.9187810210953943 and parameters: {'n_estimators': 165, 'max_depth': 10, 'min_samples_split': 8, 'min_samples_leaf': 1, 'max_features': None, 'bootstrap': True, 'class_weight': None}. Best is trial 27 with value: 0.920938934406589.\n",
      "[I 2025-02-17 20:19:35,688] Trial 48 finished with value: 0.9194740288535178 and parameters: {'n_estimators': 78, 'max_depth': 14, 'min_samples_split': 6, 'min_samples_leaf': 2, 'max_features': None, 'bootstrap': True, 'class_weight': None}. Best is trial 27 with value: 0.920938934406589.\n",
      "[I 2025-02-17 20:19:45,539] Trial 49 finished with value: 0.9211327754998432 and parameters: {'n_estimators': 212, 'max_depth': 15, 'min_samples_split': 2, 'min_samples_leaf': 1, 'max_features': None, 'bootstrap': True, 'class_weight': None}. Best is trial 49 with value: 0.9211327754998432.\n"
     ]
    }
   ],
   "source": [
    "study = optuna.create_study(direction='maximize')\n",
    "study.optimize(objective, n_trials=50, timeout=3600)"
   ]
  },
  {
   "cell_type": "code",
   "execution_count": null,
   "metadata": {},
   "outputs": [
    {
     "name": "stdout",
     "output_type": "stream",
     "text": [
      "\n",
      "Best trial:\n",
      "  F1: 0.9211\n",
      "  Params:\n",
      "    n_estimators: 212\n",
      "    max_depth: 15\n",
      "    min_samples_split: 2\n",
      "    min_samples_leaf: 1\n",
      "    max_features: None\n",
      "    bootstrap: True\n",
      "    class_weight: None\n"
     ]
    }
   ],
   "source": [
    "print(\"\\nBest trial:\")\n",
    "trial = study.best_trial\n",
    "print(f\"  F1: {trial.value:.4f}\")\n",
    "print(\"  Params:\")\n",
    "for key, value in trial.params.items():\n",
    "    print(f\"    {key}: {value}\")"
   ]
  },
  {
   "cell_type": "code",
   "execution_count": null,
   "metadata": {},
   "outputs": [
    {
     "name": "stdout",
     "output_type": "stream",
     "text": [
      "\n",
      "Test F1: 0.9217\n"
     ]
    }
   ],
   "source": [
    "best_params = study.best_params\n",
    "final_model = RandomForestClassifier(\n",
    "    **best_params,\n",
    "    random_state=42,\n",
    "    n_jobs=-1\n",
    ").fit(X_train, y_train)\n",
    "\n",
    "# Оценка\n",
    "test_preds = final_model.predict(X_test)\n",
    "final_f1 = f1_score(y_test, test_preds, average='macro')\n",
    "print(f\"\\nTest F1: {final_f1:.4f}\")"
   ]
  },
  {
   "cell_type": "code",
   "execution_count": null,
   "metadata": {},
   "outputs": [
    {
     "data": {
      "image/png": "[encoded data removed]",
      "text/plain": [
       "<Figure size 640x480 with 2 Axes>"
      ]
     },
     "metadata": {},
     "output_type": "display_data"
    }
   ],
   "source": [
    "cm_rfc = confusion_matrix(y_test, test_preds)\n",
    "disp = ConfusionMatrixDisplay(confusion_matrix=cm_rfc)\n",
    "disp.plot()\n",
    "plt.show()"
   ]
  },
  {
   "cell_type": "code",
   "execution_count": null,
   "metadata": {},
   "outputs": [],
   "source": []
  }
 ],
 "metadata": {
  "kernelspec": {
   "display_name": ".venv",
   "language": "python",
   "name": "python3"
  },
  "language_info": {
   "codemirror_mode": {
    "name": "ipython",
    "version": 3
   },
   "file_extension": ".py",
   "mimetype": "text/x-python",
   "name": "python",
   "nbconvert_exporter": "python",
   "pygments_lexer": "ipython3",
   "version": "3.12.3"
  }
 },
 "nbformat": 4,
 "nbformat_minor": 2
}
