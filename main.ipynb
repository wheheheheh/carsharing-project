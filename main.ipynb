{
 "cells": [
  {
   "cell_type": "code",
   "execution_count": 6,
   "metadata": {},
   "outputs": [],
   "source": [
    "#!pip install -q numpy==1.26.4"
   ]
  },
  {
   "cell_type": "code",
   "execution_count": 7,
   "metadata": {},
   "outputs": [],
   "source": [
    "import warnings\n",
    "import pandas as pd\n",
    "import numpy as np\n",
    "import matplotlib.pyplot as plt\n",
    "import seaborn as sns\n",
    "import sweetviz as sv\n",
    "import torch\n",
    "import torch.nn as nn\n",
    "\n",
    "from torch.utils.data import DataLoader, TensorDataset\n",
    "from sklearn.model_selection import train_test_split\n",
    "from sklearn.preprocessing import MinMaxScaler, OrdinalEncoder\n",
    "from sklearn.compose import ColumnTransformer\n",
    "from phik import phik_matrix\n",
    "from sqlalchemy import create_engine"
   ]
  },
  {
   "cell_type": "code",
   "execution_count": 8,
   "metadata": {},
   "outputs": [],
   "source": [
    "warnings.filterwarnings('ignore')"
   ]
  },
  {
   "cell_type": "code",
   "execution_count": 9,
   "metadata": {},
   "outputs": [
    {
     "name": "stdout",
     "output_type": "stream",
     "text": [
      "cpu\n"
     ]
    }
   ],
   "source": [
    "RANDOM_STATE = 0\n",
    "TEST_SIZE = 0.25\n",
    "torch.manual_seed(RANDOM_STATE)\n",
    "torch.use_deterministic_algorithms(True)\n",
    "device = torch.device('cuda' if torch.cuda.is_available() else 'cpu')\n",
    "print(device)"
   ]
  },
  {
   "cell_type": "code",
   "execution_count": 10,
   "metadata": {},
   "outputs": [
    {
     "name": "stdout",
     "output_type": "stream",
     "text": [
      "False\n"
     ]
    }
   ],
   "source": [
    "print(torch.cuda.is_available())"
   ]
  },
  {
   "cell_type": "code",
   "execution_count": 11,
   "metadata": {},
   "outputs": [],
   "source": [
    "def get_data() -> pd.DataFrame:\n",
    "    try:\n",
    "        db_config = {\n",
    "            'user': 'praktikum_student',\n",
    "            'pwd': 'Sdf4$2;d-d30pp', \n",
    "            'host': 'rc1b-wcoijxj3yxfsf3fs.mdb.yandexcloud.net',\n",
    "            'port': 6432,\n",
    "            'db': 'data-science-vehicle-db'\n",
    "        } \n",
    "        connection_string = 'postgresql://{}:{}@{}:{}/{}'.format(\n",
    "            db_config['user'],\n",
    "            db_config['pwd'],\n",
    "            db_config['host'],\n",
    "            db_config['port'],\n",
    "            db_config['db']\n",
    "        )\n",
    "        engine = create_engine(connection_string)\n",
    "        \n",
    "        query = '''\n",
    "            SELECT\n",
    "                c.*,\n",
    "                p.party_number, p.at_fault, p.insurance_premium, p.party_sobriety, p.party_drug_physical, p.cellphone_in_use,\n",
    "                v.vehicle_type, v.vehicle_transmission, v.vehicle_age\n",
    "            FROM\n",
    "                collisions c\n",
    "            INNER JOIN\n",
    "                parties p ON c.case_id = p.case_id\n",
    "            INNER JOIN\n",
    "                vehicles v ON c.case_id = v.case_id\n",
    "            WHERE\n",
    "                c.collision_date BETWEEN '2012-01-01' AND '2012-12-31'\n",
    "                AND c.collision_damage != 'scratch'\n",
    "                AND p.party_type = 'car';\n",
    "        '''\n",
    "        data = pd.read_sql_query(query, con=engine)\n",
    "        return data\n",
    "    except Exception:\n",
    "        print(f'Error: {Exception}')\n",
    "        return None"
   ]
  },
  {
   "cell_type": "code",
   "execution_count": 12,
   "metadata": {},
   "outputs": [],
   "source": [
    "data = get_data()"
   ]
  },
  {
   "cell_type": "code",
   "execution_count": 13,
   "metadata": {},
   "outputs": [],
   "source": [
    "data = data.drop_duplicates()\n",
    "data.case_id = data.case_id.astype('int')\n",
    "data = data[data['distance'] < 4000.0]\n",
    "data.direction = data.direction.fillna('unknown').astype('category')\n",
    "data.intersection = data.intersection.apply(lambda x: 'Y' if x == 1. else \n",
    "                                                      'N' if x == 0 else x).fillna('unknown').astype('category')\n",
    "data.weather_1 = data.weather_1.fillna('unknown').astype('category')\n",
    "data.location_type = data.location_type.fillna('unknown').astype('category')\n",
    "data.collision_damage = data.collision_damage.astype('category')\n",
    "data.party_count = data.party_count.apply(lambda x: '5+' if x > 4 else x).apply(\n",
    "    lambda x: 'one' if x == 1 else\n",
    "              'two' if x == 2 else\n",
    "              'three' if x == 3 else\n",
    "              'four' if x == 4 else\n",
    "              'five_plus' if str(x) == '5+' else x).astype('category')\n",
    "data.primary_collision_factor = data.primary_collision_factor.fillna('unknown').astype('category')\n",
    "data.pcf_violation_category = data.pcf_violation_category.fillna('unknown').astype('category')\n",
    "data.type_of_collision = data.type_of_collision.fillna('other').astype('category')\n",
    "data.motor_vehicle_involved_with = data.motor_vehicle_involved_with.fillna('unknown').astype('category')\n",
    "data.road_surface = data.road_surface.fillna('unknown').astype('category')\n",
    "data.road_condition_1 = data.road_condition_1.fillna('other').astype('category')\n",
    "data.lighting = data.lighting.fillna('unknown').astype('category')\n",
    "data.control_device = data.control_device.fillna('unknown').astype('category')\n",
    "data.collision_date = pd.to_datetime(data.collision_date)\n",
    "data['collision_month'] = data.collision_date.dt.month\n",
    "data['collision_day'] = data.collision_date.dt.day\n",
    "data.collision_time = pd.to_datetime(data.collision_time, format='%H:%M:%S')\n",
    "data['collision_hour'] = data.collision_time.dt.hour\n",
    "data.party_number = data.party_number.apply(lambda x: '5+' if x > 4 else x).apply(\n",
    "    lambda x: 'one' if x == 1 else\n",
    "              'two' if x == 2 else\n",
    "              'three' if x == 3 else\n",
    "              'four' if x == 4 else\n",
    "              'five_plus' if str(x) == '5+' else x).astype('category')\n",
    "data.at_fault = data.at_fault.astype('category')\n",
    "data.party_sobriety = data.party_sobriety.fillna('unknown').astype('category')\n",
    "data.party_drug_physical = data.party_drug_physical.astype('category')\n",
    "data.cellphone_in_use = data.cellphone_in_use.fillna('3.0').apply(\n",
    "    lambda x: 'no' if x == 0 else\n",
    "              'yes' if x == 1 else\n",
    "              'unknown' if x == 3 else x).astype('category')\n",
    "data.vehicle_type = data.vehicle_type.astype('category')\n",
    "data.vehicle_transmission = data.vehicle_transmission.fillna('unknown').astype('category')\n",
    "data = data[data['vehicle_age'] < 161.0]"
   ]
  },
  {
   "cell_type": "code",
   "execution_count": 14,
   "metadata": {},
   "outputs": [],
   "source": [
    "# report = sv.analyze(data)\n",
    "# report.show_notebook()"
   ]
  },
  {
   "cell_type": "code",
   "execution_count": 15,
   "metadata": {},
   "outputs": [],
   "source": [
    "# plt.figure(figsize=(15, 13))\n",
    "# sns.heatmap(phik_matrix(data[[\n",
    "#     'county_location',\n",
    "#     'intersection',\n",
    "#     'weather_1',\n",
    "#     'location_type',\n",
    "#     'collision_damage',\n",
    "#     'party_count',\n",
    "#     'primary_collision_factor',\n",
    "#     'pcf_violation_category',\n",
    "#     'type_of_collision',\n",
    "#     'motor_vehicle_involved_with',\n",
    "#     'road_surface',\n",
    "#     'road_condition_1',\n",
    "#     'lighting',\n",
    "#     'control_device',\n",
    "#     'party_number',\n",
    "#     'at_fault',\n",
    "#     'party_sobriety',\n",
    "#     'party_drug_physical',\n",
    "#     'cellphone_in_use',\n",
    "#     'vehicle_transmission',\n",
    "# ]], interval_cols=['distance', 'insurance_premium', 'vehicle_age', 'collision_month', 'collision_day', 'collision_hour']), annot=True, cmap='coolwarm')\n",
    "# plt.show()"
   ]
  },
  {
   "cell_type": "code",
   "execution_count": 16,
   "metadata": {},
   "outputs": [],
   "source": [
    "num_cols = [\n",
    "    'distance', \n",
    "    'insurance_premium', \n",
    "    'vehicle_age', \n",
    "    'collision_month', \n",
    "    'collision_day', \n",
    "    'collision_hour'\n",
    "]\n",
    "cat_cols = [\n",
    "    'county_location',\n",
    "    'intersection',\n",
    "    'weather_1',\n",
    "    'location_type',\n",
    "    'collision_damage',\n",
    "    'party_count',#\n",
    "    'primary_collision_factor',\n",
    "    'pcf_violation_category',\n",
    "    'type_of_collision',\n",
    "    'motor_vehicle_involved_with',\n",
    "    'road_surface',\n",
    "    'road_condition_1',\n",
    "    'lighting',\n",
    "    'control_device',\n",
    "    'party_number',#\n",
    "    'party_sobriety',\n",
    "    'party_drug_physical',\n",
    "    'cellphone_in_use',#\n",
    "    'vehicle_transmission'\n",
    "]\n",
    "all_colls = num_cols + cat_cols"
   ]
  },
  {
   "cell_type": "code",
   "execution_count": 17,
   "metadata": {},
   "outputs": [],
   "source": [
    "X = data[all_colls]\n",
    "y = data.at_fault\n",
    "\n",
    "X_train, X_test, y_train, y_test = train_test_split(\n",
    "    X,\n",
    "    y,\n",
    "    test_size=TEST_SIZE,\n",
    "    random_state=RANDOM_STATE,\n",
    "    shuffle=True,\n",
    "    stratify=y)"
   ]
  },
  {
   "cell_type": "code",
   "execution_count": 18,
   "metadata": {},
   "outputs": [],
   "source": [
    "def data_preporation(\n",
    "        numeric_cols: list = num_cols,\n",
    "        category_cols: list = cat_cols,\n",
    "        X_train: pd.DataFrame = X_train,\n",
    "        X_test: pd.DataFrame = X_test\n",
    ") -> tuple[pd.DataFrame, pd.DataFrame]:\n",
    "    \n",
    "    preprocessor = ColumnTransformer(\n",
    "    transformers=[\n",
    "        ('num', MinMaxScaler(), numeric_cols),\n",
    "        ('cat', OrdinalEncoder(\n",
    "            handle_unknown='use_encoded_value', \n",
    "            unknown_value=np.nan                     \n",
    "        ), category_cols)\n",
    "    ], remainder='passthrough')\n",
    "\n",
    "    X_train_processed = preprocessor.fit_transform(X_train)\n",
    "    X_test_processed = preprocessor.transform(X_test)\n",
    "\n",
    "    feature_names = preprocessor.get_feature_names_out()\n",
    "    X_train = pd.DataFrame(X_train_processed, columns=feature_names)\n",
    "    X_test = pd.DataFrame(X_test_processed, columns=feature_names)\n",
    "    return X_train, X_test\n",
    "\n",
    "X_train, X_test = data_preporation()"
   ]
  },
  {
   "cell_type": "code",
   "execution_count": 19,
   "metadata": {},
   "outputs": [],
   "source": [
    "X_train_torch = torch.FloatTensor(X_train.values)\n",
    "X_test_torch = torch.FloatTensor(X_test.values)\n",
    "y_train_torch = torch.FloatTensor(y_train.values)\n",
    "y_test_torch = torch.FloatTensor(y_test.values)\n",
    "\n",
    "train_dataset_torch = TensorDataset(X_train_torch, y_train_torch)\n",
    "test_dataset_torch = TensorDataset(X_test_torch, y_test_torch)"
   ]
  },
  {
   "cell_type": "markdown",
   "metadata": {},
   "source": [
    "## Написание модели pytorch"
   ]
  },
  {
   "cell_type": "code",
   "execution_count": null,
   "metadata": {},
   "outputs": [],
   "source": []
  }
 ],
 "metadata": {
  "kernelspec": {
   "display_name": ".venv",
   "language": "python",
   "name": "python3"
  },
  "language_info": {
   "codemirror_mode": {
    "name": "ipython",
    "version": 3
   },
   "file_extension": ".py",
   "mimetype": "text/x-python",
   "name": "python",
   "nbconvert_exporter": "python",
   "pygments_lexer": "ipython3",
   "version": "3.12.8"
  }
 },
 "nbformat": 4,
 "nbformat_minor": 2
}
