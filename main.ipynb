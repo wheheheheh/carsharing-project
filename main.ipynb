{
 "cells": [
  {
   "cell_type": "code",
   "execution_count": 237,
   "metadata": {},
   "outputs": [],
   "source": [
    "#!pip install -q numpy==1.26.4"
   ]
  },
  {
   "cell_type": "code",
   "execution_count": 267,
   "metadata": {},
   "outputs": [],
   "source": [
    "import warnings\n",
    "import pandas as pd\n",
    "import numpy as np\n",
    "import matplotlib.pyplot as plt\n",
    "import seaborn as sns\n",
    "import sweetviz as sv\n",
    "import torch\n",
    "import torch.nn as nn\n",
    "import optuna\n",
    "import lightgbm as lgb\n",
    "\n",
    "from torch.utils.data import DataLoader, TensorDataset\n",
    "from sklearn.model_selection import train_test_split, cross_val_score\n",
    "from sklearn.preprocessing import MinMaxScaler, OrdinalEncoder\n",
    "from sklearn.compose import ColumnTransformer\n",
    "from sklearn.metrics import f1_score, ConfusionMatrixDisplay, confusion_matrix, precision_score\n",
    "from sklearn.ensemble import RandomForestClassifier\n",
    "from phik import phik_matrix\n",
    "from sqlalchemy import create_engine"
   ]
  },
  {
   "cell_type": "code",
   "execution_count": 239,
   "metadata": {},
   "outputs": [],
   "source": [
    "warnings.filterwarnings('ignore')"
   ]
  },
  {
   "cell_type": "code",
   "execution_count": null,
   "metadata": {},
   "outputs": [
    {
     "name": "stdout",
     "output_type": "stream",
     "text": [
      "cuda\n"
     ]
    }
   ],
   "source": [
    "RANDOM_STATE = 0\n",
    "TEST_SIZE = 0.2\n",
    "torch.manual_seed(RANDOM_STATE)\n",
    "device = torch.device('cuda' if torch.cuda.is_available() else 'cpu')\n",
    "print(device)"
   ]
  },
  {
   "cell_type": "code",
   "execution_count": 241,
   "metadata": {},
   "outputs": [
    {
     "name": "stdout",
     "output_type": "stream",
     "text": [
      "True\n"
     ]
    }
   ],
   "source": [
    "print(torch.cuda.is_available())"
   ]
  },
  {
   "cell_type": "code",
   "execution_count": 242,
   "metadata": {},
   "outputs": [],
   "source": [
    "def get_data() -> pd.DataFrame:\n",
    "    try:\n",
    "        db_config = {\n",
    "            'user': 'praktikum_student',\n",
    "            'pwd': 'Sdf4$2;d-d30pp', \n",
    "            'host': 'rc1b-wcoijxj3yxfsf3fs.mdb.yandexcloud.net',\n",
    "            'port': 6432,\n",
    "            'db': 'data-science-vehicle-db'\n",
    "        } \n",
    "        connection_string = 'postgresql://{}:{}@{}:{}/{}'.format(\n",
    "            db_config['user'],\n",
    "            db_config['pwd'],\n",
    "            db_config['host'],\n",
    "            db_config['port'],\n",
    "            db_config['db']\n",
    "        )\n",
    "        engine = create_engine(connection_string)\n",
    "        \n",
    "        query = '''\n",
    "            SELECT\n",
    "                c.*,\n",
    "                p.party_number, p.at_fault, p.insurance_premium, p.party_sobriety, p.party_drug_physical, p.cellphone_in_use,\n",
    "                v.vehicle_type, v.vehicle_transmission, v.vehicle_age\n",
    "            FROM\n",
    "                collisions c\n",
    "            INNER JOIN\n",
    "                parties p ON c.case_id = p.case_id\n",
    "            INNER JOIN\n",
    "                vehicles v ON c.case_id = v.case_id\n",
    "            WHERE\n",
    "                c.collision_date BETWEEN '2012-01-01' AND '2012-12-31'\n",
    "                AND c.collision_damage != 'scratch'\n",
    "                AND p.party_type = 'car';\n",
    "        '''\n",
    "        data = pd.read_sql_query(query, con=engine)\n",
    "        return data\n",
    "    except Exception as e:\n",
    "        print(f'Error: {e}')\n",
    "        return None"
   ]
  },
  {
   "cell_type": "code",
   "execution_count": 243,
   "metadata": {},
   "outputs": [],
   "source": [
    "data = get_data()"
   ]
  },
  {
   "cell_type": "code",
   "execution_count": 244,
   "metadata": {},
   "outputs": [],
   "source": [
    "data = data.drop_duplicates()\n",
    "data.case_id = data.case_id.astype('int')\n",
    "data = data[data['distance'] < 4000.0]\n",
    "data.direction = data.direction.fillna('unknown').astype('category')\n",
    "data.intersection = data.intersection.apply(lambda x: 'Y' if x == 1. else \n",
    "                                                      'N' if x == 0 else x).fillna('unknown').astype('category')\n",
    "data.weather_1 = data.weather_1.fillna('unknown').astype('category')\n",
    "data.location_type = data.location_type.fillna('unknown').astype('category')\n",
    "data.collision_damage = data.collision_damage.astype('category')\n",
    "data.party_count = data.party_count.apply(lambda x: '5+' if x > 4 else x).apply(\n",
    "    lambda x: 'one' if x == 1 else\n",
    "              'two' if x == 2 else\n",
    "              'three' if x == 3 else\n",
    "              'four' if x == 4 else\n",
    "              'five_plus' if str(x) == '5+' else x).astype('category')\n",
    "data.primary_collision_factor = data.primary_collision_factor.fillna('unknown').astype('category')\n",
    "data.pcf_violation_category = data.pcf_violation_category.fillna('unknown').astype('category')\n",
    "data.type_of_collision = data.type_of_collision.fillna('other').astype('category')\n",
    "data.motor_vehicle_involved_with = data.motor_vehicle_involved_with.fillna('unknown').astype('category')\n",
    "data.road_surface = data.road_surface.fillna('unknown').astype('category')\n",
    "data.road_condition_1 = data.road_condition_1.fillna('other').astype('category')\n",
    "data.lighting = data.lighting.fillna('unknown').astype('category')\n",
    "data.control_device = data.control_device.fillna('unknown').astype('category')\n",
    "data.collision_date = pd.to_datetime(data.collision_date)\n",
    "data['collision_month'] = data.collision_date.dt.month\n",
    "data['collision_day'] = data.collision_date.dt.day\n",
    "data.collision_time = pd.to_datetime(data.collision_time, format='%H:%M:%S')\n",
    "data['collision_hour'] = data.collision_time.dt.hour\n",
    "data.party_number = data.party_number.apply(lambda x: '5+' if x > 4 else x).apply(\n",
    "    lambda x: 'one' if x == 1 else\n",
    "              'two' if x == 2 else\n",
    "              'three' if x == 3 else\n",
    "              'four' if x == 4 else\n",
    "              'five_plus' if str(x) == '5+' else x).astype('category')\n",
    "data.at_fault = data.at_fault.astype('category')\n",
    "data.party_sobriety = data.party_sobriety.fillna('unknown').astype('category')\n",
    "data.party_drug_physical = data.party_drug_physical.fillna('unknown').astype('category')\n",
    "data.cellphone_in_use = data.cellphone_in_use.fillna('3.0').apply(\n",
    "    lambda x: 'no' if x == 0 else\n",
    "              'yes' if x == 1 else\n",
    "              'unknown' if x == 3 else x).astype('category')\n",
    "data.vehicle_type = data.vehicle_type.astype('category')\n",
    "data.vehicle_transmission = data.vehicle_transmission.fillna('unknown').astype('category')\n",
    "data = data[data['vehicle_age'] < 161.0]\n",
    "data['insurance_premium'] = data['insurance_premium'].fillna(-1)\n",
    "data['collision_hour'] = data['collision_hour'].interpolate()\n",
    "data.at_fault = data.at_fault.astype('int')\n"
   ]
  },
  {
   "cell_type": "code",
   "execution_count": 245,
   "metadata": {},
   "outputs": [],
   "source": [
    "# report = sv.analyze(data)\n",
    "# report.show_notebook()"
   ]
  },
  {
   "cell_type": "code",
   "execution_count": 246,
   "metadata": {},
   "outputs": [],
   "source": [
    "# plt.figure(figsize=(15, 13))\n",
    "# sns.heatmap(phik_matrix(data[[\n",
    "#     'county_location',\n",
    "#     'intersection',\n",
    "#     'weather_1',\n",
    "#     'location_type',\n",
    "#     'collision_damage',\n",
    "#     'party_count',\n",
    "#     'primary_collision_factor',\n",
    "#     'pcf_violation_category',\n",
    "#     'type_of_collision',\n",
    "#     'motor_vehicle_involved_with',\n",
    "#     'road_surface',\n",
    "#     'road_condition_1',\n",
    "#     'lighting',\n",
    "#     'control_device',\n",
    "#     'party_number',\n",
    "#     'at_fault',\n",
    "#     'party_sobriety',\n",
    "#     'party_drug_physical',\n",
    "#     'cellphone_in_use',\n",
    "#     'vehicle_transmission',\n",
    "# ]], interval_cols=['distance', 'insurance_premium', 'vehicle_age', 'collision_month', 'collision_day', 'collision_hour']), annot=True, cmap='coolwarm')\n",
    "# plt.show()"
   ]
  },
  {
   "cell_type": "code",
   "execution_count": 247,
   "metadata": {},
   "outputs": [],
   "source": [
    "num_cols = [\n",
    "    'distance', \n",
    "    'insurance_premium', \n",
    "    'vehicle_age', \n",
    "    'collision_month', \n",
    "    'collision_day', \n",
    "    'collision_hour'\n",
    "]\n",
    "cat_cols = [\n",
    "    'county_location',\n",
    "    'intersection',\n",
    "    'weather_1',\n",
    "    'location_type',\n",
    "    'collision_damage',\n",
    "    'party_count',\n",
    "    'primary_collision_factor',\n",
    "    'pcf_violation_category',\n",
    "    'type_of_collision',\n",
    "    'motor_vehicle_involved_with',\n",
    "    'road_surface',\n",
    "    'road_condition_1',\n",
    "    'lighting',\n",
    "    'control_device',\n",
    "    'party_number',\n",
    "    'party_sobriety',\n",
    "    'party_drug_physical',\n",
    "    'cellphone_in_use',\n",
    "    'vehicle_transmission'\n",
    "]\n",
    "all_colls = num_cols + cat_cols"
   ]
  },
  {
   "cell_type": "code",
   "execution_count": 248,
   "metadata": {},
   "outputs": [],
   "source": [
    "X = data[all_colls]\n",
    "y = data.at_fault\n",
    "\n",
    "X_train, X_test, y_train, y_test = train_test_split(\n",
    "    X,\n",
    "    y,\n",
    "    test_size=TEST_SIZE,\n",
    "    random_state=RANDOM_STATE,\n",
    "    shuffle=True,\n",
    "    stratify=y)"
   ]
  },
  {
   "cell_type": "code",
   "execution_count": 249,
   "metadata": {},
   "outputs": [],
   "source": [
    "def data_preporation(\n",
    "        numeric_cols: list = num_cols,\n",
    "        category_cols: list = cat_cols,\n",
    "        X_train: pd.DataFrame = X_train,\n",
    "        X_test: pd.DataFrame = X_test\n",
    ") -> tuple[pd.DataFrame, pd.DataFrame]:\n",
    "    \n",
    "    preprocessor = ColumnTransformer(\n",
    "    transformers=[\n",
    "        ('num', MinMaxScaler(), numeric_cols),\n",
    "        ('cat', OrdinalEncoder(\n",
    "            handle_unknown='use_encoded_value', \n",
    "            unknown_value=np.nan                     \n",
    "        ), category_cols)\n",
    "    ], remainder='passthrough')\n",
    "\n",
    "    X_train_processed = preprocessor.fit_transform(X_train)\n",
    "    X_test_processed = preprocessor.transform(X_test)\n",
    "\n",
    "    feature_names = preprocessor.get_feature_names_out()\n",
    "    X_train = pd.DataFrame(X_train_processed, columns=feature_names)\n",
    "    X_test = pd.DataFrame(X_test_processed, columns=feature_names)\n",
    "    return X_train, X_test\n",
    "\n",
    "X_train, X_test = data_preporation()"
   ]
  },
  {
   "cell_type": "code",
   "execution_count": 250,
   "metadata": {},
   "outputs": [],
   "source": [
    "X_train_torch = torch.FloatTensor(X_train.values).to(device)\n",
    "X_test_torch = torch.FloatTensor(X_test.values).to(device)\n",
    "y_train_torch = torch.FloatTensor(y_train.values).to(device)\n",
    "y_test_torch = torch.FloatTensor(y_test.values).to(device)\n",
    "\n",
    "train_dataset_torch = TensorDataset(X_train_torch, y_train_torch)\n",
    "test_dataset_torch = TensorDataset(X_test_torch, y_test_torch)"
   ]
  },
  {
   "cell_type": "markdown",
   "metadata": {},
   "source": [
    "## Написание модели pytorch"
   ]
  },
  {
   "cell_type": "code",
   "execution_count": 251,
   "metadata": {},
   "outputs": [],
   "source": [
    "class Net(nn.Module):\n",
    "    def __init__(self, input_size, hidden_units, dropout_rate):\n",
    "        super(Net, self).__init__()\n",
    "\n",
    "        self.layers = nn.Sequential(\n",
    "            nn.Linear(input_size, hidden_units),\n",
    "            nn.BatchNorm1d(hidden_units),\n",
    "            nn.ReLU(),\n",
    "            nn.Dropout(dropout_rate),\n",
    "\n",
    "            nn.Linear(hidden_units, hidden_units//2),\n",
    "            nn.BatchNorm1d(hidden_units//2),\n",
    "            nn.ReLU(),\n",
    "            nn.Dropout(dropout_rate),\n",
    "\n",
    "            nn.Linear(hidden_units//2, hidden_units//4),\n",
    "            nn.BatchNorm1d(hidden_units//4),\n",
    "            nn.ReLU(),\n",
    "            nn.Dropout(dropout_rate),\n",
    "\n",
    "            nn.Linear(hidden_units//4, hidden_units//8),\n",
    "            nn.BatchNorm1d(hidden_units//8),\n",
    "            nn.ReLU(),\n",
    "            nn.Dropout(dropout_rate),\n",
    "\n",
    "            nn.Linear(hidden_units//8, 1),\n",
    "            #nn.Sigmoid()\n",
    "        )\n",
    "\n",
    "    def forward(self, x):\n",
    "        return self.layers(x)"
   ]
  },
  {
   "cell_type": "code",
   "execution_count": null,
   "metadata": {},
   "outputs": [],
   "source": [
    "def objective(trial):\n",
    "    params = {\n",
    "        'hidden_units': trial.suggest_categorical('hidden_units', [256, 512, 1024, 2048]),\n",
    "        'dropout_rate': trial.suggest_float('dropout_rate', 0.1, 0.5),\n",
    "        'lr': trial.suggest_float('lr', 1e-4, 1e-2, log=True),\n",
    "        'batch_size': trial.suggest_categorical('batch_size', [64, 128, 256, 512, 1024, 2048])\n",
    "    }\n",
    "\n",
    "    print(f\"\\n=== Starting Trial {trial.number} ===\")\n",
    "    print(f\"Parameters: {params}\")\n",
    "\n",
    "    train_loader = DataLoader(train_dataset_torch,\n",
    "                              batch_size=params['batch_size'],\n",
    "                              shuffle=True)\n",
    "    \n",
    "    net = Net(\n",
    "        input_size=X_train.shape[1],\n",
    "        hidden_units=params['hidden_units'],\n",
    "        dropout_rate=params['dropout_rate']\n",
    "    ).to(device)\n",
    "\n",
    "    optimizer = torch.optim.Adam(net.parameters(), lr=params['lr'])\n",
    "    loss_fn = nn.BCEWithLogitsLoss()\n",
    "\n",
    "    best_f1 = 0\n",
    "    patience = 20\n",
    "    no_improve = 0\n",
    "    num_epoch = 500\n",
    "\n",
    "    for epoch in range(num_epoch):\n",
    "        net.train()\n",
    "        for inputs, labels in train_loader:\n",
    "            inputs, labels = inputs.to(device), labels.to(device)\n",
    "\n",
    "            optimizer.zero_grad()\n",
    "            train_preds = net(inputs)\n",
    "            train_loss = loss_fn(train_preds, labels.unsqueeze(1)) \n",
    "            train_loss.backward()\n",
    "            optimizer.step()\n",
    "        \n",
    "        if epoch % 5 == 0 or epoch == num_epoch -1:\n",
    "            net.eval()\n",
    "            with torch.no_grad():\n",
    "                test_inputs, test_labels = X_test_torch.to(device), y_test_torch.to(device)\n",
    "                outputs = net(test_inputs)\n",
    "                test_preds = (outputs > 0.5).float()\n",
    "                test_f1 = f1_score(test_labels.cpu(), test_preds.cpu())\n",
    "                \n",
    "                if test_f1 > best_f1:\n",
    "                    best_f1 = test_f1\n",
    "                    no_improve = 0\n",
    "                    best_epoch = epoch\n",
    "                else:\n",
    "                    no_improve += 1\n",
    "\n",
    "                print(f\"Trial {trial.number} | Epoch {epoch:3d} | \"\n",
    "                      f\"Val F1: {test_f1:.4f} | Best F1: {best_f1:.4f} @ Epoch {best_epoch}\")\n",
    "\n",
    "                if no_improve >= patience:\n",
    "                    print(f\"Early stopping at epoch {epoch}\")\n",
    "                    break\n",
    "\n",
    "            trial.report(test_f1, epoch)\n",
    "            if trial.should_prune():\n",
    "                print(f\"Pruned trial {trial.number} at epoch {epoch}\")\n",
    "                raise optuna.exceptions.TrialPruned()\n",
    "            \n",
    "    print(f\"=== Completed Trial {trial.number} | Best F1: {best_f1:.4f} ===\")\n",
    "    return best_f1"
   ]
  },
  {
   "cell_type": "code",
   "execution_count": 253,
   "metadata": {},
   "outputs": [
    {
     "name": "stderr",
     "output_type": "stream",
     "text": [
      "[I 2025-02-17 17:10:54,209] A new study created in memory with name: no-name-8cdec45e-c17d-4241-8922-724659adcb10\n"
     ]
    },
    {
     "name": "stdout",
     "output_type": "stream",
     "text": [
      "\n",
      "=== Starting Trial 0 ===\n",
      "Parameters: {'hidden_units': 512, 'dropout_rate': 0.10826708428322923, 'lr': 0.0007428955672438214, 'batch_size': 1024}\n",
      "Trial 0 | Epoch   0 | Val F1: 0.8813 | Best F1: 0.8813 @ Epoch 0\n",
      "Trial 0 | Epoch   5 | Val F1: 0.9068 | Best F1: 0.9068 @ Epoch 5\n",
      "Trial 0 | Epoch  10 | Val F1: 0.9062 | Best F1: 0.9068 @ Epoch 5\n",
      "Trial 0 | Epoch  15 | Val F1: 0.9064 | Best F1: 0.9068 @ Epoch 5\n",
      "Trial 0 | Epoch  20 | Val F1: 0.9064 | Best F1: 0.9068 @ Epoch 5\n",
      "Trial 0 | Epoch  25 | Val F1: 0.9078 | Best F1: 0.9078 @ Epoch 25\n",
      "Trial 0 | Epoch  30 | Val F1: 0.9051 | Best F1: 0.9078 @ Epoch 25\n",
      "Trial 0 | Epoch  35 | Val F1: 0.9043 | Best F1: 0.9078 @ Epoch 25\n",
      "Trial 0 | Epoch  40 | Val F1: 0.9022 | Best F1: 0.9078 @ Epoch 25\n",
      "Trial 0 | Epoch  45 | Val F1: 0.9085 | Best F1: 0.9085 @ Epoch 45\n",
      "Trial 0 | Epoch  50 | Val F1: 0.9092 | Best F1: 0.9092 @ Epoch 50\n",
      "Trial 0 | Epoch  55 | Val F1: 0.9069 | Best F1: 0.9092 @ Epoch 50\n",
      "Trial 0 | Epoch  60 | Val F1: 0.9042 | Best F1: 0.9092 @ Epoch 50\n",
      "Trial 0 | Epoch  65 | Val F1: 0.9060 | Best F1: 0.9092 @ Epoch 50\n",
      "Trial 0 | Epoch  70 | Val F1: 0.9061 | Best F1: 0.9092 @ Epoch 50\n"
     ]
    },
    {
     "name": "stderr",
     "output_type": "stream",
     "text": [
      "[I 2025-02-17 17:11:31,951] Trial 0 finished with value: 0.9091620986687549 and parameters: {'hidden_units': 512, 'dropout_rate': 0.10826708428322923, 'lr': 0.0007428955672438214, 'batch_size': 1024}. Best is trial 0 with value: 0.9091620986687549.\n"
     ]
    },
    {
     "name": "stdout",
     "output_type": "stream",
     "text": [
      "Trial 0 | Epoch  75 | Val F1: 0.9032 | Best F1: 0.9092 @ Epoch 50\n",
      "Early stopping at epoch 75\n",
      "=== Completed Trial 0 | Best F1: 0.9092 ===\n",
      "\n",
      "=== Starting Trial 1 ===\n",
      "Parameters: {'hidden_units': 512, 'dropout_rate': 0.40840259766295695, 'lr': 0.005569605830395022, 'batch_size': 64}\n",
      "Trial 1 | Epoch   0 | Val F1: 0.9048 | Best F1: 0.9048 @ Epoch 0\n",
      "Trial 1 | Epoch   5 | Val F1: 0.9069 | Best F1: 0.9069 @ Epoch 5\n",
      "Trial 1 | Epoch  10 | Val F1: 0.9064 | Best F1: 0.9069 @ Epoch 5\n",
      "Trial 1 | Epoch  15 | Val F1: 0.9072 | Best F1: 0.9072 @ Epoch 15\n",
      "Trial 1 | Epoch  20 | Val F1: 0.9054 | Best F1: 0.9072 @ Epoch 15\n",
      "Trial 1 | Epoch  25 | Val F1: 0.9064 | Best F1: 0.9072 @ Epoch 15\n",
      "Trial 1 | Epoch  30 | Val F1: 0.9068 | Best F1: 0.9072 @ Epoch 15\n",
      "Trial 1 | Epoch  35 | Val F1: 0.9081 | Best F1: 0.9081 @ Epoch 35\n",
      "Trial 1 | Epoch  40 | Val F1: 0.9071 | Best F1: 0.9081 @ Epoch 35\n",
      "Trial 1 | Epoch  45 | Val F1: 0.9076 | Best F1: 0.9081 @ Epoch 35\n",
      "Trial 1 | Epoch  50 | Val F1: 0.9079 | Best F1: 0.9081 @ Epoch 35\n",
      "Trial 1 | Epoch  55 | Val F1: 0.9062 | Best F1: 0.9081 @ Epoch 35\n"
     ]
    },
    {
     "name": "stderr",
     "output_type": "stream",
     "text": [
      "[I 2025-02-17 17:13:43,058] Trial 1 finished with value: 0.90812611356418 and parameters: {'hidden_units': 512, 'dropout_rate': 0.40840259766295695, 'lr': 0.005569605830395022, 'batch_size': 64}. Best is trial 0 with value: 0.9091620986687549.\n"
     ]
    },
    {
     "name": "stdout",
     "output_type": "stream",
     "text": [
      "Trial 1 | Epoch  60 | Val F1: 0.9071 | Best F1: 0.9081 @ Epoch 35\n",
      "Early stopping at epoch 60\n",
      "=== Completed Trial 1 | Best F1: 0.9081 ===\n",
      "\n",
      "=== Starting Trial 2 ===\n",
      "Parameters: {'hidden_units': 1024, 'dropout_rate': 0.4834982006487968, 'lr': 0.00045652887620775776, 'batch_size': 128}\n",
      "Trial 2 | Epoch   0 | Val F1: 0.8841 | Best F1: 0.8841 @ Epoch 0\n",
      "Trial 2 | Epoch   5 | Val F1: 0.9061 | Best F1: 0.9061 @ Epoch 5\n",
      "Trial 2 | Epoch  10 | Val F1: 0.9072 | Best F1: 0.9072 @ Epoch 10\n",
      "Trial 2 | Epoch  15 | Val F1: 0.9065 | Best F1: 0.9072 @ Epoch 10\n",
      "Trial 2 | Epoch  20 | Val F1: 0.9070 | Best F1: 0.9072 @ Epoch 10\n",
      "Trial 2 | Epoch  25 | Val F1: 0.9059 | Best F1: 0.9072 @ Epoch 10\n",
      "Trial 2 | Epoch  30 | Val F1: 0.9067 | Best F1: 0.9072 @ Epoch 10\n"
     ]
    },
    {
     "name": "stderr",
     "output_type": "stream",
     "text": [
      "[I 2025-02-17 17:14:26,785] Trial 2 finished with value: 0.907171853856563 and parameters: {'hidden_units': 1024, 'dropout_rate': 0.4834982006487968, 'lr': 0.00045652887620775776, 'batch_size': 128}. Best is trial 0 with value: 0.9091620986687549.\n"
     ]
    },
    {
     "name": "stdout",
     "output_type": "stream",
     "text": [
      "Trial 2 | Epoch  35 | Val F1: 0.9052 | Best F1: 0.9072 @ Epoch 10\n",
      "Early stopping at epoch 35\n",
      "=== Completed Trial 2 | Best F1: 0.9072 ===\n",
      "\n",
      "=== Starting Trial 3 ===\n",
      "Parameters: {'hidden_units': 1024, 'dropout_rate': 0.4048002198513767, 'lr': 0.0001806969882866472, 'batch_size': 512}\n",
      "Trial 3 | Epoch   0 | Val F1: 0.8519 | Best F1: 0.8519 @ Epoch 0\n",
      "Trial 3 | Epoch   5 | Val F1: 0.9037 | Best F1: 0.9037 @ Epoch 5\n",
      "Trial 3 | Epoch  10 | Val F1: 0.9064 | Best F1: 0.9064 @ Epoch 10\n",
      "Trial 3 | Epoch  15 | Val F1: 0.9072 | Best F1: 0.9072 @ Epoch 15\n",
      "Trial 3 | Epoch  20 | Val F1: 0.9069 | Best F1: 0.9072 @ Epoch 15\n",
      "Trial 3 | Epoch  25 | Val F1: 0.9066 | Best F1: 0.9072 @ Epoch 15\n",
      "Trial 3 | Epoch  30 | Val F1: 0.9073 | Best F1: 0.9073 @ Epoch 30\n",
      "Trial 3 | Epoch  35 | Val F1: 0.9063 | Best F1: 0.9073 @ Epoch 30\n",
      "Trial 3 | Epoch  40 | Val F1: 0.9068 | Best F1: 0.9073 @ Epoch 30\n",
      "Trial 3 | Epoch  45 | Val F1: 0.9069 | Best F1: 0.9073 @ Epoch 30\n",
      "Trial 3 | Epoch  50 | Val F1: 0.9071 | Best F1: 0.9073 @ Epoch 30\n",
      "Trial 3 | Epoch  55 | Val F1: 0.9073 | Best F1: 0.9073 @ Epoch 55\n",
      "Trial 3 | Epoch  60 | Val F1: 0.9051 | Best F1: 0.9073 @ Epoch 55\n",
      "Trial 3 | Epoch  65 | Val F1: 0.9078 | Best F1: 0.9078 @ Epoch 65\n",
      "Trial 3 | Epoch  70 | Val F1: 0.9072 | Best F1: 0.9078 @ Epoch 65\n",
      "Trial 3 | Epoch  75 | Val F1: 0.9055 | Best F1: 0.9078 @ Epoch 65\n",
      "Trial 3 | Epoch  80 | Val F1: 0.9069 | Best F1: 0.9078 @ Epoch 65\n",
      "Trial 3 | Epoch  85 | Val F1: 0.9073 | Best F1: 0.9078 @ Epoch 65\n"
     ]
    },
    {
     "name": "stderr",
     "output_type": "stream",
     "text": [
      "[I 2025-02-17 17:15:17,790] Trial 3 finished with value: 0.9078455790784558 and parameters: {'hidden_units': 1024, 'dropout_rate': 0.4048002198513767, 'lr': 0.0001806969882866472, 'batch_size': 512}. Best is trial 0 with value: 0.9091620986687549.\n"
     ]
    },
    {
     "name": "stdout",
     "output_type": "stream",
     "text": [
      "Trial 3 | Epoch  90 | Val F1: 0.9065 | Best F1: 0.9078 @ Epoch 65\n",
      "Early stopping at epoch 90\n",
      "=== Completed Trial 3 | Best F1: 0.9078 ===\n",
      "\n",
      "=== Starting Trial 4 ===\n",
      "Parameters: {'hidden_units': 512, 'dropout_rate': 0.24438004140536398, 'lr': 0.0002500790762101738, 'batch_size': 128}\n",
      "Trial 4 | Epoch   0 | Val F1: 0.8820 | Best F1: 0.8820 @ Epoch 0\n",
      "Trial 4 | Epoch   5 | Val F1: 0.9071 | Best F1: 0.9071 @ Epoch 5\n",
      "Trial 4 | Epoch  10 | Val F1: 0.9069 | Best F1: 0.9071 @ Epoch 5\n",
      "Trial 4 | Epoch  15 | Val F1: 0.9070 | Best F1: 0.9071 @ Epoch 5\n",
      "Trial 4 | Epoch  20 | Val F1: 0.9072 | Best F1: 0.9072 @ Epoch 20\n",
      "Trial 4 | Epoch  25 | Val F1: 0.9077 | Best F1: 0.9077 @ Epoch 25\n",
      "Trial 4 | Epoch  30 | Val F1: 0.9054 | Best F1: 0.9077 @ Epoch 25\n",
      "Trial 4 | Epoch  35 | Val F1: 0.9029 | Best F1: 0.9077 @ Epoch 25\n",
      "Trial 4 | Epoch  40 | Val F1: 0.9042 | Best F1: 0.9077 @ Epoch 25\n",
      "Trial 4 | Epoch  45 | Val F1: 0.9064 | Best F1: 0.9077 @ Epoch 25\n"
     ]
    },
    {
     "name": "stderr",
     "output_type": "stream",
     "text": [
      "[I 2025-02-17 17:16:19,711] Trial 4 finished with value: 0.9076767519639107 and parameters: {'hidden_units': 512, 'dropout_rate': 0.24438004140536398, 'lr': 0.0002500790762101738, 'batch_size': 128}. Best is trial 0 with value: 0.9091620986687549.\n"
     ]
    },
    {
     "name": "stdout",
     "output_type": "stream",
     "text": [
      "Trial 4 | Epoch  50 | Val F1: 0.9069 | Best F1: 0.9077 @ Epoch 25\n",
      "Early stopping at epoch 50\n",
      "=== Completed Trial 4 | Best F1: 0.9077 ===\n",
      "\n",
      "=== Starting Trial 5 ===\n",
      "Parameters: {'hidden_units': 512, 'dropout_rate': 0.3701225321724537, 'lr': 0.006810112279056998, 'batch_size': 1024}\n"
     ]
    },
    {
     "name": "stderr",
     "output_type": "stream",
     "text": [
      "[I 2025-02-17 17:16:20,320] Trial 5 pruned. \n"
     ]
    },
    {
     "name": "stdout",
     "output_type": "stream",
     "text": [
      "Trial 5 | Epoch   0 | Val F1: 0.8725 | Best F1: 0.8725 @ Epoch 0\n",
      "Pruned trial 5 at epoch 0\n",
      "\n",
      "=== Starting Trial 6 ===\n",
      "Parameters: {'hidden_units': 1024, 'dropout_rate': 0.22869671275095108, 'lr': 0.001760767610805796, 'batch_size': 128}\n",
      "Trial 6 | Epoch   0 | Val F1: 0.9030 | Best F1: 0.9030 @ Epoch 0\n"
     ]
    },
    {
     "name": "stderr",
     "output_type": "stream",
     "text": [
      "[I 2025-02-17 17:16:27,584] Trial 6 pruned. \n"
     ]
    },
    {
     "name": "stdout",
     "output_type": "stream",
     "text": [
      "Trial 6 | Epoch   5 | Val F1: 0.9063 | Best F1: 0.9063 @ Epoch 5\n",
      "Pruned trial 6 at epoch 5\n",
      "\n",
      "=== Starting Trial 7 ===\n",
      "Parameters: {'hidden_units': 256, 'dropout_rate': 0.23433373328734333, 'lr': 0.0005633984181098431, 'batch_size': 256}\n"
     ]
    },
    {
     "name": "stderr",
     "output_type": "stream",
     "text": [
      "[I 2025-02-17 17:16:28,389] Trial 7 pruned. \n"
     ]
    },
    {
     "name": "stdout",
     "output_type": "stream",
     "text": [
      "Trial 7 | Epoch   0 | Val F1: 0.8782 | Best F1: 0.8782 @ Epoch 0\n",
      "Pruned trial 7 at epoch 0\n",
      "\n",
      "=== Starting Trial 8 ===\n",
      "Parameters: {'hidden_units': 512, 'dropout_rate': 0.11164779113797213, 'lr': 0.00015742933099520154, 'batch_size': 2048}\n"
     ]
    },
    {
     "name": "stderr",
     "output_type": "stream",
     "text": [
      "[I 2025-02-17 17:16:28,963] Trial 8 pruned. \n"
     ]
    },
    {
     "name": "stdout",
     "output_type": "stream",
     "text": [
      "Trial 8 | Epoch   0 | Val F1: 0.8316 | Best F1: 0.8316 @ Epoch 0\n",
      "Pruned trial 8 at epoch 0\n",
      "\n",
      "=== Starting Trial 9 ===\n",
      "Parameters: {'hidden_units': 2048, 'dropout_rate': 0.10387228631916368, 'lr': 0.00048058663784206505, 'batch_size': 1024}\n",
      "Trial 9 | Epoch   0 | Val F1: 0.8994 | Best F1: 0.8994 @ Epoch 0\n"
     ]
    },
    {
     "name": "stderr",
     "output_type": "stream",
     "text": [
      "[I 2025-02-17 17:16:31,894] Trial 9 pruned. \n"
     ]
    },
    {
     "name": "stdout",
     "output_type": "stream",
     "text": [
      "Trial 9 | Epoch   5 | Val F1: 0.9045 | Best F1: 0.9045 @ Epoch 5\n",
      "Pruned trial 9 at epoch 5\n",
      "best params: {'hidden_units': 512, 'dropout_rate': 0.10826708428322923, 'lr': 0.0007428955672438214, 'batch_size': 1024}\n",
      "best f1: 0.9091620986687549\n"
     ]
    }
   ],
   "source": [
    "study = optuna.create_study(direction='maximize')\n",
    "study.optimize(objective, n_trials=10)\n",
    "\n",
    "print(f'best params: {study.best_params}')\n",
    "print(f'best f1: {study.best_value}')"
   ]
  },
  {
   "cell_type": "code",
   "execution_count": null,
   "metadata": {},
   "outputs": [
    {
     "name": "stdout",
     "output_type": "stream",
     "text": [
      "Final Test F1: 0.9052\n"
     ]
    }
   ],
   "source": [
    "best_params = study.best_params\n",
    "final_model = Net(\n",
    "    input_size=X_train.shape[1],\n",
    "    hidden_units=best_params['hidden_units'],\n",
    "    dropout_rate=best_params['dropout_rate']\n",
    ").to(device)\n",
    "\n",
    "optimizer = torch.optim.Adam(final_model.parameters(), lr=best_params['lr'])\n",
    "train_loader = DataLoader(train_dataset_torch, \n",
    "                         batch_size=best_params['batch_size'], \n",
    "                         shuffle=True)\n",
    "loss_fn = nn.BCEWithLogitsLoss()\n",
    "\n",
    "for epoch in range(200):\n",
    "    for inputs, labels in train_loader:\n",
    "        inputs, labels = inputs.to(device), labels.to(device)\n",
    "        \n",
    "        optimizer.zero_grad()\n",
    "        outputs = final_model(inputs)\n",
    "        loss = loss_fn(outputs, labels.unsqueeze(1))\n",
    "        loss.backward()\n",
    "        optimizer.step()\n",
    "\n",
    "final_model.eval()\n",
    "with torch.no_grad():\n",
    "    test_outputs = final_model(X_test_torch.to(device))\n",
    "    predicted = (test_outputs > 0.5).float()\n",
    "    final_f1 = f1_score(\n",
    "        y_test_torch.cpu().numpy(), \n",
    "        predicted.cpu().numpy(),\n",
    "        average='binary'\n",
    "    )\n",
    "    print(f\"Final Test F1: {final_f1:.4f}\")"
   ]
  },
  {
   "cell_type": "code",
   "execution_count": 255,
   "metadata": {},
   "outputs": [
    {
     "data": {
      "image/png": "[encoded data removed]",
      "text/plain": [
       "<Figure size 640x480 with 2 Axes>"
      ]
     },
     "metadata": {},
     "output_type": "display_data"
    }
   ],
   "source": [
    "cm_pytorch = confusion_matrix(y_test_torch.cpu().numpy(), predicted.cpu().numpy())\n",
    "disp = ConfusionMatrixDisplay(confusion_matrix=cm_pytorch)\n",
    "disp.plot()\n",
    "plt.show()"
   ]
  },
  {
   "cell_type": "code",
   "execution_count": 256,
   "metadata": {},
   "outputs": [],
   "source": [
    "def objective(trial):\n",
    "    params = {\n",
    "        'objective': 'binary',\n",
    "        'metric': 'binary_logloss',\n",
    "        'boosting_type': 'gbdt',\n",
    "        'verbosity': -1,\n",
    "        'n_jobs': -1,\n",
    "        'feature_pre_filter': False,\n",
    "        'num_leaves': trial.suggest_int('num_leaves', 20, 300),\n",
    "        'learning_rate': trial.suggest_float('learning_rate', 0.001, 0.3, log=True),\n",
    "        'max_depth': trial.suggest_int('max_depth', 3, 12),\n",
    "        'min_child_samples': trial.suggest_int('min_child_samples', 10, 200),\n",
    "        'subsample': trial.suggest_float('subsample', 0.5, 1.0),\n",
    "        'colsample_bytree': trial.suggest_float('colsample_bytree', 0.5, 1.0),\n",
    "        'reg_alpha': trial.suggest_float('reg_alpha', 1e-9, 10.0, log=True),\n",
    "        'reg_lambda': trial.suggest_float('reg_lambda', 1e-9, 10.0, log=True),\n",
    "    }\n",
    "\n",
    "    train_data = lgb.Dataset(X_train, label=y_train)\n",
    "    test_data = lgb.Dataset(X_test, label=y_test, reference=train_data)\n",
    "\n",
    "    callbacks = [\n",
    "        lgb.log_evaluation(100),\n",
    "        lgb.callback.early_stopping(500, verbose=False)\n",
    "    ]\n",
    "\n",
    "    model = lgb.train(\n",
    "        params,\n",
    "        train_data,\n",
    "        valid_sets=[train_data, test_data],\n",
    "        num_boost_round=5000,\n",
    "        callbacks=callbacks,\n",
    "    )\n",
    "\n",
    "    preds = model.predict(X_test)\n",
    "    preds_binary = np.where(preds > 0.5, 1, 0)\n",
    "    f1 = f1_score(y_test, preds_binary)\n",
    "\n",
    "    print(f\"\\nTrial {trial.number} finished | Best F1: {f1:.4f}\")\n",
    "    print(f\"Params: {params}\\n\")\n",
    "    return f1\n"
   ]
  },
  {
   "cell_type": "code",
   "execution_count": 257,
   "metadata": {},
   "outputs": [
    {
     "name": "stderr",
     "output_type": "stream",
     "text": [
      "[I 2025-02-17 17:17:21,932] A new study created in memory with name: no-name-41800246-550c-4845-9d81-0ec4d74d75d4\n"
     ]
    },
    {
     "name": "stdout",
     "output_type": "stream",
     "text": [
      "[100]\ttraining's binary_logloss: 0.447398\tvalid_1's binary_logloss: 0.448802\n",
      "[200]\ttraining's binary_logloss: 0.336404\tvalid_1's binary_logloss: 0.339317\n",
      "[300]\ttraining's binary_logloss: 0.283949\tvalid_1's binary_logloss: 0.288436\n",
      "[400]\ttraining's binary_logloss: 0.259969\tvalid_1's binary_logloss: 0.265982\n",
      "[500]\ttraining's binary_logloss: 0.246973\tvalid_1's binary_logloss: 0.254525\n",
      "[600]\ttraining's binary_logloss: 0.23862\tvalid_1's binary_logloss: 0.24787\n",
      "[700]\ttraining's binary_logloss: 0.232767\tvalid_1's binary_logloss: 0.243816\n",
      "[800]\ttraining's binary_logloss: 0.22835\tvalid_1's binary_logloss: 0.2413\n",
      "[900]\ttraining's binary_logloss: 0.224696\tvalid_1's binary_logloss: 0.23951\n",
      "[1000]\ttraining's binary_logloss: 0.221307\tvalid_1's binary_logloss: 0.237836\n",
      "[1100]\ttraining's binary_logloss: 0.218466\tvalid_1's binary_logloss: 0.236577\n",
      "[1200]\ttraining's binary_logloss: 0.216013\tvalid_1's binary_logloss: 0.235779\n",
      "[1300]\ttraining's binary_logloss: 0.21377\tvalid_1's binary_logloss: 0.235239\n",
      "[1400]\ttraining's binary_logloss: 0.211645\tvalid_1's binary_logloss: 0.234851\n",
      "[1500]\ttraining's binary_logloss: 0.209575\tvalid_1's binary_logloss: 0.234406\n",
      "[1600]\ttraining's binary_logloss: 0.207543\tvalid_1's binary_logloss: 0.233976\n",
      "[1700]\ttraining's binary_logloss: 0.205495\tvalid_1's binary_logloss: 0.233558\n",
      "[1800]\ttraining's binary_logloss: 0.203519\tvalid_1's binary_logloss: 0.233223\n",
      "[1900]\ttraining's binary_logloss: 0.2015\tvalid_1's binary_logloss: 0.232896\n",
      "[2000]\ttraining's binary_logloss: 0.199504\tvalid_1's binary_logloss: 0.232496\n",
      "[2100]\ttraining's binary_logloss: 0.197745\tvalid_1's binary_logloss: 0.232322\n",
      "[2200]\ttraining's binary_logloss: 0.195973\tvalid_1's binary_logloss: 0.23218\n",
      "[2300]\ttraining's binary_logloss: 0.194265\tvalid_1's binary_logloss: 0.231952\n",
      "[2400]\ttraining's binary_logloss: 0.192453\tvalid_1's binary_logloss: 0.231637\n",
      "[2500]\ttraining's binary_logloss: 0.190665\tvalid_1's binary_logloss: 0.231378\n",
      "[2600]\ttraining's binary_logloss: 0.189032\tvalid_1's binary_logloss: 0.231129\n",
      "[2700]\ttraining's binary_logloss: 0.187496\tvalid_1's binary_logloss: 0.230977\n",
      "[2800]\ttraining's binary_logloss: 0.186029\tvalid_1's binary_logloss: 0.230855\n",
      "[2900]\ttraining's binary_logloss: 0.184581\tvalid_1's binary_logloss: 0.230777\n",
      "[3000]\ttraining's binary_logloss: 0.183136\tvalid_1's binary_logloss: 0.230622\n",
      "[3100]\ttraining's binary_logloss: 0.181709\tvalid_1's binary_logloss: 0.230431\n",
      "[3200]\ttraining's binary_logloss: 0.180484\tvalid_1's binary_logloss: 0.23038\n",
      "[3300]\ttraining's binary_logloss: 0.179315\tvalid_1's binary_logloss: 0.230353\n",
      "[3400]\ttraining's binary_logloss: 0.177885\tvalid_1's binary_logloss: 0.230133\n",
      "[3500]\ttraining's binary_logloss: 0.17674\tvalid_1's binary_logloss: 0.230011\n",
      "[3600]\ttraining's binary_logloss: 0.175335\tvalid_1's binary_logloss: 0.229952\n",
      "[3700]\ttraining's binary_logloss: 0.173915\tvalid_1's binary_logloss: 0.229814\n",
      "[3800]\ttraining's binary_logloss: 0.172708\tvalid_1's binary_logloss: 0.229726\n",
      "[3900]\ttraining's binary_logloss: 0.171408\tvalid_1's binary_logloss: 0.229614\n",
      "[4000]\ttraining's binary_logloss: 0.170069\tvalid_1's binary_logloss: 0.22937\n",
      "[4100]\ttraining's binary_logloss: 0.168915\tvalid_1's binary_logloss: 0.229265\n",
      "[4200]\ttraining's binary_logloss: 0.167805\tvalid_1's binary_logloss: 0.229218\n",
      "[4300]\ttraining's binary_logloss: 0.166617\tvalid_1's binary_logloss: 0.22916\n",
      "[4400]\ttraining's binary_logloss: 0.165422\tvalid_1's binary_logloss: 0.229073\n",
      "[4500]\ttraining's binary_logloss: 0.164281\tvalid_1's binary_logloss: 0.229003\n",
      "[4600]\ttraining's binary_logloss: 0.163178\tvalid_1's binary_logloss: 0.228949\n",
      "[4700]\ttraining's binary_logloss: 0.161957\tvalid_1's binary_logloss: 0.228833\n",
      "[4800]\ttraining's binary_logloss: 0.160704\tvalid_1's binary_logloss: 0.228714\n",
      "[4900]\ttraining's binary_logloss: 0.159576\tvalid_1's binary_logloss: 0.228639\n",
      "[5000]\ttraining's binary_logloss: 0.158446\tvalid_1's binary_logloss: 0.228521\n"
     ]
    },
    {
     "name": "stderr",
     "output_type": "stream",
     "text": [
      "[I 2025-02-17 17:17:33,685] Trial 0 finished with value: 0.9159478590492399 and parameters: {'num_leaves': 80, 'learning_rate': 0.005970726709095896, 'max_depth': 11, 'min_child_samples': 126, 'subsample': 0.6303388910729372, 'colsample_bytree': 0.8719028049140097, 'reg_alpha': 1.0534649358022657e-07, 'reg_lambda': 0.07112406479074099}. Best is trial 0 with value: 0.9159478590492399.\n"
     ]
    },
    {
     "name": "stdout",
     "output_type": "stream",
     "text": [
      "\n",
      "Trial 0 finished | Best F1: 0.9159\n",
      "Params: {'objective': 'binary', 'metric': 'binary_logloss', 'boosting_type': 'gbdt', 'verbosity': -1, 'n_jobs': -1, 'feature_pre_filter': False, 'num_leaves': 80, 'learning_rate': 0.005970726709095896, 'max_depth': 11, 'min_child_samples': 126, 'subsample': 0.6303388910729372, 'colsample_bytree': 0.8719028049140097, 'reg_alpha': 1.0534649358022657e-07, 'reg_lambda': 0.07112406479074099}\n",
      "\n",
      "[100]\ttraining's binary_logloss: 0.625825\tvalid_1's binary_logloss: 0.626064\n",
      "[200]\ttraining's binary_logloss: 0.567928\tvalid_1's binary_logloss: 0.568369\n",
      "[300]\ttraining's binary_logloss: 0.524387\tvalid_1's binary_logloss: 0.52502\n",
      "[400]\ttraining's binary_logloss: 0.48668\tvalid_1's binary_logloss: 0.487504\n",
      "[500]\ttraining's binary_logloss: 0.456902\tvalid_1's binary_logloss: 0.457887\n",
      "[600]\ttraining's binary_logloss: 0.427942\tvalid_1's binary_logloss: 0.429115\n",
      "[700]\ttraining's binary_logloss: 0.402647\tvalid_1's binary_logloss: 0.404031\n",
      "[800]\ttraining's binary_logloss: 0.382455\tvalid_1's binary_logloss: 0.384029\n",
      "[900]\ttraining's binary_logloss: 0.364613\tvalid_1's binary_logloss: 0.366377\n",
      "[1000]\ttraining's binary_logloss: 0.349496\tvalid_1's binary_logloss: 0.351461\n",
      "[1100]\ttraining's binary_logloss: 0.335705\tvalid_1's binary_logloss: 0.337855\n",
      "[1200]\ttraining's binary_logloss: 0.323984\tvalid_1's binary_logloss: 0.326321\n",
      "[1300]\ttraining's binary_logloss: 0.314192\tvalid_1's binary_logloss: 0.31671\n",
      "[1400]\ttraining's binary_logloss: 0.305357\tvalid_1's binary_logloss: 0.308046\n",
      "[1500]\ttraining's binary_logloss: 0.29806\tvalid_1's binary_logloss: 0.300929\n",
      "[1600]\ttraining's binary_logloss: 0.290497\tvalid_1's binary_logloss: 0.293583\n",
      "[1700]\ttraining's binary_logloss: 0.284425\tvalid_1's binary_logloss: 0.287715\n",
      "[1800]\ttraining's binary_logloss: 0.279329\tvalid_1's binary_logloss: 0.282807\n",
      "[1900]\ttraining's binary_logloss: 0.27456\tvalid_1's binary_logloss: 0.278243\n",
      "[2000]\ttraining's binary_logloss: 0.26977\tvalid_1's binary_logloss: 0.273672\n",
      "[2100]\ttraining's binary_logloss: 0.265828\tvalid_1's binary_logloss: 0.269954\n",
      "[2200]\ttraining's binary_logloss: 0.262622\tvalid_1's binary_logloss: 0.266973\n",
      "[2300]\ttraining's binary_logloss: 0.25955\tvalid_1's binary_logloss: 0.264142\n",
      "[2400]\ttraining's binary_logloss: 0.25692\tvalid_1's binary_logloss: 0.261755\n",
      "[2500]\ttraining's binary_logloss: 0.254602\tvalid_1's binary_logloss: 0.259698\n",
      "[2600]\ttraining's binary_logloss: 0.252487\tvalid_1's binary_logloss: 0.257824\n",
      "[2700]\ttraining's binary_logloss: 0.250648\tvalid_1's binary_logloss: 0.256228\n",
      "[2800]\ttraining's binary_logloss: 0.248652\tvalid_1's binary_logloss: 0.254523\n",
      "[2900]\ttraining's binary_logloss: 0.24693\tvalid_1's binary_logloss: 0.253123\n",
      "[3000]\ttraining's binary_logloss: 0.245387\tvalid_1's binary_logloss: 0.251869\n",
      "[3100]\ttraining's binary_logloss: 0.244042\tvalid_1's binary_logloss: 0.250841\n",
      "[3200]\ttraining's binary_logloss: 0.242656\tvalid_1's binary_logloss: 0.249749\n",
      "[3300]\ttraining's binary_logloss: 0.241425\tvalid_1's binary_logloss: 0.248835\n",
      "[3400]\ttraining's binary_logloss: 0.240199\tvalid_1's binary_logloss: 0.247942\n",
      "[3500]\ttraining's binary_logloss: 0.239129\tvalid_1's binary_logloss: 0.247203\n",
      "[3600]\ttraining's binary_logloss: 0.238106\tvalid_1's binary_logloss: 0.246512\n",
      "[3700]\ttraining's binary_logloss: 0.237055\tvalid_1's binary_logloss: 0.245807\n",
      "[3800]\ttraining's binary_logloss: 0.236075\tvalid_1's binary_logloss: 0.245178\n",
      "[3900]\ttraining's binary_logloss: 0.235103\tvalid_1's binary_logloss: 0.244578\n",
      "[4000]\ttraining's binary_logloss: 0.234247\tvalid_1's binary_logloss: 0.244064\n",
      "[4100]\ttraining's binary_logloss: 0.233414\tvalid_1's binary_logloss: 0.243562\n",
      "[4200]\ttraining's binary_logloss: 0.232614\tvalid_1's binary_logloss: 0.243094\n",
      "[4300]\ttraining's binary_logloss: 0.231809\tvalid_1's binary_logloss: 0.242625\n",
      "[4400]\ttraining's binary_logloss: 0.231059\tvalid_1's binary_logloss: 0.242212\n",
      "[4500]\ttraining's binary_logloss: 0.230344\tvalid_1's binary_logloss: 0.241834\n",
      "[4600]\ttraining's binary_logloss: 0.229701\tvalid_1's binary_logloss: 0.24148\n",
      "[4700]\ttraining's binary_logloss: 0.229022\tvalid_1's binary_logloss: 0.24111\n",
      "[4800]\ttraining's binary_logloss: 0.228329\tvalid_1's binary_logloss: 0.240745\n",
      "[4900]\ttraining's binary_logloss: 0.227625\tvalid_1's binary_logloss: 0.240367\n",
      "[5000]\ttraining's binary_logloss: 0.227004\tvalid_1's binary_logloss: 0.240048\n"
     ]
    },
    {
     "name": "stderr",
     "output_type": "stream",
     "text": [
      "[I 2025-02-17 17:17:46,003] Trial 1 finished with value: 0.9127698188979418 and parameters: {'num_leaves': 285, 'learning_rate': 0.0017015180732586116, 'max_depth': 8, 'min_child_samples': 177, 'subsample': 0.8073491263937403, 'colsample_bytree': 0.5061584664416299, 'reg_alpha': 1.7089690383861378, 'reg_lambda': 8.722170972786296e-09}. Best is trial 0 with value: 0.9159478590492399.\n"
     ]
    },
    {
     "name": "stdout",
     "output_type": "stream",
     "text": [
      "\n",
      "Trial 1 finished | Best F1: 0.9128\n",
      "Params: {'objective': 'binary', 'metric': 'binary_logloss', 'boosting_type': 'gbdt', 'verbosity': -1, 'n_jobs': -1, 'feature_pre_filter': False, 'num_leaves': 285, 'learning_rate': 0.0017015180732586116, 'max_depth': 8, 'min_child_samples': 177, 'subsample': 0.8073491263937403, 'colsample_bytree': 0.5061584664416299, 'reg_alpha': 1.7089690383861378, 'reg_lambda': 8.722170972786296e-09}\n",
      "\n",
      "[100]\ttraining's binary_logloss: 0.425122\tvalid_1's binary_logloss: 0.428763\n",
      "[200]\ttraining's binary_logloss: 0.313671\tvalid_1's binary_logloss: 0.320373\n",
      "[300]\ttraining's binary_logloss: 0.268272\tvalid_1's binary_logloss: 0.278156\n",
      "[400]\ttraining's binary_logloss: 0.24316\tvalid_1's binary_logloss: 0.256788\n",
      "[500]\ttraining's binary_logloss: 0.228798\tvalid_1's binary_logloss: 0.246186\n",
      "[600]\ttraining's binary_logloss: 0.217915\tvalid_1's binary_logloss: 0.239656\n",
      "[700]\ttraining's binary_logloss: 0.209724\tvalid_1's binary_logloss: 0.235903\n",
      "[800]\ttraining's binary_logloss: 0.203016\tvalid_1's binary_logloss: 0.233472\n",
      "[900]\ttraining's binary_logloss: 0.197065\tvalid_1's binary_logloss: 0.231635\n",
      "[1000]\ttraining's binary_logloss: 0.192183\tvalid_1's binary_logloss: 0.230373\n",
      "[1100]\ttraining's binary_logloss: 0.187901\tvalid_1's binary_logloss: 0.229434\n",
      "[1200]\ttraining's binary_logloss: 0.184079\tvalid_1's binary_logloss: 0.228615\n",
      "[1300]\ttraining's binary_logloss: 0.181158\tvalid_1's binary_logloss: 0.228056\n",
      "[1400]\ttraining's binary_logloss: 0.178115\tvalid_1's binary_logloss: 0.227727\n",
      "[1500]\ttraining's binary_logloss: 0.174919\tvalid_1's binary_logloss: 0.227272\n",
      "[1600]\ttraining's binary_logloss: 0.17177\tvalid_1's binary_logloss: 0.226696\n",
      "[1700]\ttraining's binary_logloss: 0.168804\tvalid_1's binary_logloss: 0.226278\n",
      "[1800]\ttraining's binary_logloss: 0.166019\tvalid_1's binary_logloss: 0.226002\n",
      "[1900]\ttraining's binary_logloss: 0.163575\tvalid_1's binary_logloss: 0.225838\n",
      "[2000]\ttraining's binary_logloss: 0.161298\tvalid_1's binary_logloss: 0.225561\n",
      "[2100]\ttraining's binary_logloss: 0.158905\tvalid_1's binary_logloss: 0.225388\n",
      "[2200]\ttraining's binary_logloss: 0.156794\tvalid_1's binary_logloss: 0.225338\n",
      "[2300]\ttraining's binary_logloss: 0.154252\tvalid_1's binary_logloss: 0.225147\n",
      "[2400]\ttraining's binary_logloss: 0.151689\tvalid_1's binary_logloss: 0.224964\n",
      "[2500]\ttraining's binary_logloss: 0.1493\tvalid_1's binary_logloss: 0.22483\n",
      "[2600]\ttraining's binary_logloss: 0.147197\tvalid_1's binary_logloss: 0.224702\n",
      "[2700]\ttraining's binary_logloss: 0.145336\tvalid_1's binary_logloss: 0.224619\n",
      "[2800]\ttraining's binary_logloss: 0.143182\tvalid_1's binary_logloss: 0.224364\n",
      "[2900]\ttraining's binary_logloss: 0.140868\tvalid_1's binary_logloss: 0.224207\n",
      "[3000]\ttraining's binary_logloss: 0.138987\tvalid_1's binary_logloss: 0.224186\n",
      "[3100]\ttraining's binary_logloss: 0.13687\tvalid_1's binary_logloss: 0.224111\n",
      "[3200]\ttraining's binary_logloss: 0.135052\tvalid_1's binary_logloss: 0.224127\n",
      "[3300]\ttraining's binary_logloss: 0.132963\tvalid_1's binary_logloss: 0.223974\n",
      "[3400]\ttraining's binary_logloss: 0.131079\tvalid_1's binary_logloss: 0.223868\n",
      "[3500]\ttraining's binary_logloss: 0.129187\tvalid_1's binary_logloss: 0.223759\n",
      "[3600]\ttraining's binary_logloss: 0.127385\tvalid_1's binary_logloss: 0.223762\n",
      "[3700]\ttraining's binary_logloss: 0.125563\tvalid_1's binary_logloss: 0.223668\n",
      "[3800]\ttraining's binary_logloss: 0.12352\tvalid_1's binary_logloss: 0.223674\n",
      "[3900]\ttraining's binary_logloss: 0.121555\tvalid_1's binary_logloss: 0.223623\n",
      "[4000]\ttraining's binary_logloss: 0.119797\tvalid_1's binary_logloss: 0.223607\n",
      "[4100]\ttraining's binary_logloss: 0.118201\tvalid_1's binary_logloss: 0.223698\n",
      "[4200]\ttraining's binary_logloss: 0.116519\tvalid_1's binary_logloss: 0.223646\n",
      "[4300]\ttraining's binary_logloss: 0.115141\tvalid_1's binary_logloss: 0.223651\n",
      "[4400]\ttraining's binary_logloss: 0.113575\tvalid_1's binary_logloss: 0.223712\n"
     ]
    },
    {
     "name": "stderr",
     "output_type": "stream",
     "text": [
      "[I 2025-02-17 17:18:00,957] Trial 2 finished with value: 0.9182107140088379 and parameters: {'num_leaves': 210, 'learning_rate': 0.010108806307936086, 'max_depth': 11, 'min_child_samples': 128, 'subsample': 0.6026536815851116, 'colsample_bytree': 0.5330278959124615, 'reg_alpha': 5.169009238182572e-07, 'reg_lambda': 6.269347054625328e-06}. Best is trial 2 with value: 0.9182107140088379.\n"
     ]
    },
    {
     "name": "stdout",
     "output_type": "stream",
     "text": [
      "\n",
      "Trial 2 finished | Best F1: 0.9182\n",
      "Params: {'objective': 'binary', 'metric': 'binary_logloss', 'boosting_type': 'gbdt', 'verbosity': -1, 'n_jobs': -1, 'feature_pre_filter': False, 'num_leaves': 210, 'learning_rate': 0.010108806307936086, 'max_depth': 11, 'min_child_samples': 128, 'subsample': 0.6026536815851116, 'colsample_bytree': 0.5330278959124615, 'reg_alpha': 5.169009238182572e-07, 'reg_lambda': 6.269347054625328e-06}\n",
      "\n",
      "[100]\ttraining's binary_logloss: 0.593126\tvalid_1's binary_logloss: 0.593288\n",
      "[200]\ttraining's binary_logloss: 0.512627\tvalid_1's binary_logloss: 0.513014\n",
      "[300]\ttraining's binary_logloss: 0.455497\tvalid_1's binary_logloss: 0.456133\n",
      "[400]\ttraining's binary_logloss: 0.413491\tvalid_1's binary_logloss: 0.414345\n",
      "[500]\ttraining's binary_logloss: 0.383236\tvalid_1's binary_logloss: 0.384282\n",
      "[600]\ttraining's binary_logloss: 0.357486\tvalid_1's binary_logloss: 0.358758\n",
      "[700]\ttraining's binary_logloss: 0.336165\tvalid_1's binary_logloss: 0.337631\n",
      "[800]\ttraining's binary_logloss: 0.320597\tvalid_1's binary_logloss: 0.322226\n",
      "[900]\ttraining's binary_logloss: 0.308734\tvalid_1's binary_logloss: 0.310506\n",
      "[1000]\ttraining's binary_logloss: 0.299661\tvalid_1's binary_logloss: 0.30156\n",
      "[1100]\ttraining's binary_logloss: 0.292443\tvalid_1's binary_logloss: 0.29446\n",
      "[1200]\ttraining's binary_logloss: 0.286437\tvalid_1's binary_logloss: 0.288586\n",
      "[1300]\ttraining's binary_logloss: 0.281382\tvalid_1's binary_logloss: 0.283644\n",
      "[1400]\ttraining's binary_logloss: 0.277552\tvalid_1's binary_logloss: 0.279919\n",
      "[1500]\ttraining's binary_logloss: 0.273698\tvalid_1's binary_logloss: 0.276198\n",
      "[1600]\ttraining's binary_logloss: 0.270546\tvalid_1's binary_logloss: 0.273178\n",
      "[1700]\ttraining's binary_logloss: 0.268042\tvalid_1's binary_logloss: 0.270805\n",
      "[1800]\ttraining's binary_logloss: 0.265854\tvalid_1's binary_logloss: 0.26873\n",
      "[1900]\ttraining's binary_logloss: 0.263882\tvalid_1's binary_logloss: 0.266877\n",
      "[2000]\ttraining's binary_logloss: 0.262072\tvalid_1's binary_logloss: 0.265211\n",
      "[2100]\ttraining's binary_logloss: 0.260561\tvalid_1's binary_logloss: 0.263814\n",
      "[2200]\ttraining's binary_logloss: 0.259163\tvalid_1's binary_logloss: 0.262529\n",
      "[2300]\ttraining's binary_logloss: 0.257938\tvalid_1's binary_logloss: 0.261405\n",
      "[2400]\ttraining's binary_logloss: 0.256828\tvalid_1's binary_logloss: 0.260408\n",
      "[2500]\ttraining's binary_logloss: 0.255786\tvalid_1's binary_logloss: 0.259459\n",
      "[2600]\ttraining's binary_logloss: 0.254878\tvalid_1's binary_logloss: 0.258639\n",
      "[2700]\ttraining's binary_logloss: 0.254001\tvalid_1's binary_logloss: 0.257841\n",
      "[2800]\ttraining's binary_logloss: 0.253172\tvalid_1's binary_logloss: 0.2571\n",
      "[2900]\ttraining's binary_logloss: 0.252351\tvalid_1's binary_logloss: 0.256381\n",
      "[3000]\ttraining's binary_logloss: 0.251505\tvalid_1's binary_logloss: 0.255651\n",
      "[3100]\ttraining's binary_logloss: 0.250766\tvalid_1's binary_logloss: 0.255009\n",
      "[3200]\ttraining's binary_logloss: 0.250087\tvalid_1's binary_logloss: 0.254424\n",
      "[3300]\ttraining's binary_logloss: 0.249497\tvalid_1's binary_logloss: 0.253933\n",
      "[3400]\ttraining's binary_logloss: 0.24894\tvalid_1's binary_logloss: 0.253468\n",
      "[3500]\ttraining's binary_logloss: 0.248401\tvalid_1's binary_logloss: 0.253025\n",
      "[3600]\ttraining's binary_logloss: 0.247929\tvalid_1's binary_logloss: 0.252644\n",
      "[3700]\ttraining's binary_logloss: 0.247469\tvalid_1's binary_logloss: 0.252263\n",
      "[3800]\ttraining's binary_logloss: 0.247035\tvalid_1's binary_logloss: 0.251912\n",
      "[3900]\ttraining's binary_logloss: 0.246634\tvalid_1's binary_logloss: 0.251592\n",
      "[4000]\ttraining's binary_logloss: 0.246238\tvalid_1's binary_logloss: 0.251265\n",
      "[4100]\ttraining's binary_logloss: 0.245914\tvalid_1's binary_logloss: 0.251029\n",
      "[4200]\ttraining's binary_logloss: 0.245554\tvalid_1's binary_logloss: 0.250747\n",
      "[4300]\ttraining's binary_logloss: 0.245211\tvalid_1's binary_logloss: 0.250502\n",
      "[4400]\ttraining's binary_logloss: 0.244837\tvalid_1's binary_logloss: 0.250206\n",
      "[4500]\ttraining's binary_logloss: 0.244464\tvalid_1's binary_logloss: 0.249907\n",
      "[4600]\ttraining's binary_logloss: 0.24417\tvalid_1's binary_logloss: 0.249688\n",
      "[4700]\ttraining's binary_logloss: 0.243813\tvalid_1's binary_logloss: 0.249404\n",
      "[4800]\ttraining's binary_logloss: 0.243485\tvalid_1's binary_logloss: 0.24915\n",
      "[4900]\ttraining's binary_logloss: 0.243162\tvalid_1's binary_logloss: 0.248888\n",
      "[5000]\ttraining's binary_logloss: 0.242848\tvalid_1's binary_logloss: 0.248644\n"
     ]
    },
    {
     "name": "stderr",
     "output_type": "stream",
     "text": [
      "[I 2025-02-17 17:18:07,711] Trial 3 finished with value: 0.9121981328601189 and parameters: {'num_leaves': 144, 'learning_rate': 0.002522809518685607, 'max_depth': 4, 'min_child_samples': 113, 'subsample': 0.6094336293791294, 'colsample_bytree': 0.6513974903038373, 'reg_alpha': 0.041477346096715696, 'reg_lambda': 1.4171060311272304e-06}. Best is trial 2 with value: 0.9182107140088379.\n"
     ]
    },
    {
     "name": "stdout",
     "output_type": "stream",
     "text": [
      "\n",
      "Trial 3 finished | Best F1: 0.9122\n",
      "Params: {'objective': 'binary', 'metric': 'binary_logloss', 'boosting_type': 'gbdt', 'verbosity': -1, 'n_jobs': -1, 'feature_pre_filter': False, 'num_leaves': 144, 'learning_rate': 0.002522809518685607, 'max_depth': 4, 'min_child_samples': 113, 'subsample': 0.6094336293791294, 'colsample_bytree': 0.6513974903038373, 'reg_alpha': 0.041477346096715696, 'reg_lambda': 1.4171060311272304e-06}\n",
      "\n",
      "[100]\ttraining's binary_logloss: 0.272121\tvalid_1's binary_logloss: 0.277747\n",
      "[200]\ttraining's binary_logloss: 0.227684\tvalid_1's binary_logloss: 0.241476\n",
      "[300]\ttraining's binary_logloss: 0.214595\tvalid_1's binary_logloss: 0.235375\n",
      "[400]\ttraining's binary_logloss: 0.20776\tvalid_1's binary_logloss: 0.233336\n",
      "[500]\ttraining's binary_logloss: 0.201927\tvalid_1's binary_logloss: 0.232129\n",
      "[600]\ttraining's binary_logloss: 0.195214\tvalid_1's binary_logloss: 0.230955\n",
      "[700]\ttraining's binary_logloss: 0.189215\tvalid_1's binary_logloss: 0.230582\n",
      "[800]\ttraining's binary_logloss: 0.183267\tvalid_1's binary_logloss: 0.229746\n",
      "[900]\ttraining's binary_logloss: 0.179049\tvalid_1's binary_logloss: 0.229388\n",
      "[1000]\ttraining's binary_logloss: 0.17396\tvalid_1's binary_logloss: 0.228813\n",
      "[1100]\ttraining's binary_logloss: 0.170169\tvalid_1's binary_logloss: 0.228547\n",
      "[1200]\ttraining's binary_logloss: 0.165065\tvalid_1's binary_logloss: 0.22791\n",
      "[1300]\ttraining's binary_logloss: 0.161003\tvalid_1's binary_logloss: 0.227506\n",
      "[1400]\ttraining's binary_logloss: 0.156868\tvalid_1's binary_logloss: 0.227147\n",
      "[1500]\ttraining's binary_logloss: 0.152621\tvalid_1's binary_logloss: 0.226621\n",
      "[1600]\ttraining's binary_logloss: 0.14926\tvalid_1's binary_logloss: 0.226464\n",
      "[1700]\ttraining's binary_logloss: 0.145953\tvalid_1's binary_logloss: 0.226121\n",
      "[1800]\ttraining's binary_logloss: 0.142394\tvalid_1's binary_logloss: 0.226078\n",
      "[1900]\ttraining's binary_logloss: 0.13866\tvalid_1's binary_logloss: 0.225772\n",
      "[2000]\ttraining's binary_logloss: 0.135743\tvalid_1's binary_logloss: 0.225633\n",
      "[2100]\ttraining's binary_logloss: 0.132999\tvalid_1's binary_logloss: 0.225607\n",
      "[2200]\ttraining's binary_logloss: 0.12948\tvalid_1's binary_logloss: 0.225453\n",
      "[2300]\ttraining's binary_logloss: 0.126716\tvalid_1's binary_logloss: 0.225364\n",
      "[2400]\ttraining's binary_logloss: 0.12369\tvalid_1's binary_logloss: 0.225421\n",
      "[2500]\ttraining's binary_logloss: 0.120378\tvalid_1's binary_logloss: 0.225426\n",
      "[2600]\ttraining's binary_logloss: 0.117426\tvalid_1's binary_logloss: 0.225306\n",
      "[2700]\ttraining's binary_logloss: 0.114228\tvalid_1's binary_logloss: 0.225067\n",
      "[2800]\ttraining's binary_logloss: 0.111703\tvalid_1's binary_logloss: 0.225016\n",
      "[2900]\ttraining's binary_logloss: 0.109084\tvalid_1's binary_logloss: 0.225008\n",
      "[3000]\ttraining's binary_logloss: 0.106415\tvalid_1's binary_logloss: 0.225136\n",
      "[3100]\ttraining's binary_logloss: 0.104129\tvalid_1's binary_logloss: 0.225281\n",
      "[3200]\ttraining's binary_logloss: 0.10206\tvalid_1's binary_logloss: 0.225485\n",
      "[3300]\ttraining's binary_logloss: 0.100206\tvalid_1's binary_logloss: 0.225692\n"
     ]
    },
    {
     "name": "stderr",
     "output_type": "stream",
     "text": [
      "[I 2025-02-17 17:18:15,447] Trial 4 finished with value: 0.9188455271937311 and parameters: {'num_leaves': 283, 'learning_rate': 0.025081387483823527, 'max_depth': 9, 'min_child_samples': 145, 'subsample': 0.9550898766916156, 'colsample_bytree': 0.7268920502725447, 'reg_alpha': 7.0740483637421675e-06, 'reg_lambda': 6.152224715902488e-07}. Best is trial 4 with value: 0.9188455271937311.\n"
     ]
    },
    {
     "name": "stdout",
     "output_type": "stream",
     "text": [
      "\n",
      "Trial 4 finished | Best F1: 0.9188\n",
      "Params: {'objective': 'binary', 'metric': 'binary_logloss', 'boosting_type': 'gbdt', 'verbosity': -1, 'n_jobs': -1, 'feature_pre_filter': False, 'num_leaves': 283, 'learning_rate': 0.025081387483823527, 'max_depth': 9, 'min_child_samples': 145, 'subsample': 0.9550898766916156, 'colsample_bytree': 0.7268920502725447, 'reg_alpha': 7.0740483637421675e-06, 'reg_lambda': 6.152224715902488e-07}\n",
      "\n",
      "[100]\ttraining's binary_logloss: 0.461259\tvalid_1's binary_logloss: 0.464028\n",
      "[200]\ttraining's binary_logloss: 0.347647\tvalid_1's binary_logloss: 0.352702\n",
      "[300]\ttraining's binary_logloss: 0.295086\tvalid_1's binary_logloss: 0.302428\n",
      "[400]\ttraining's binary_logloss: 0.264103\tvalid_1's binary_logloss: 0.274022\n",
      "[500]\ttraining's binary_logloss: 0.246085\tvalid_1's binary_logloss: 0.25852\n",
      "[600]\ttraining's binary_logloss: 0.232919\tvalid_1's binary_logloss: 0.24842\n",
      "[700]\ttraining's binary_logloss: 0.223683\tvalid_1's binary_logloss: 0.242461\n",
      "[800]\ttraining's binary_logloss: 0.216687\tvalid_1's binary_logloss: 0.238776\n",
      "[900]\ttraining's binary_logloss: 0.210614\tvalid_1's binary_logloss: 0.236138\n",
      "[1000]\ttraining's binary_logloss: 0.205486\tvalid_1's binary_logloss: 0.23427\n",
      "[1100]\ttraining's binary_logloss: 0.200927\tvalid_1's binary_logloss: 0.232733\n",
      "[1200]\ttraining's binary_logloss: 0.196883\tvalid_1's binary_logloss: 0.231568\n",
      "[1300]\ttraining's binary_logloss: 0.193725\tvalid_1's binary_logloss: 0.230737\n",
      "[1400]\ttraining's binary_logloss: 0.190916\tvalid_1's binary_logloss: 0.230071\n",
      "[1500]\ttraining's binary_logloss: 0.188454\tvalid_1's binary_logloss: 0.229582\n",
      "[1600]\ttraining's binary_logloss: 0.185745\tvalid_1's binary_logloss: 0.229044\n",
      "[1700]\ttraining's binary_logloss: 0.183215\tvalid_1's binary_logloss: 0.228648\n",
      "[1800]\ttraining's binary_logloss: 0.181203\tvalid_1's binary_logloss: 0.228343\n",
      "[1900]\ttraining's binary_logloss: 0.179074\tvalid_1's binary_logloss: 0.228022\n",
      "[2000]\ttraining's binary_logloss: 0.177323\tvalid_1's binary_logloss: 0.227858\n",
      "[2100]\ttraining's binary_logloss: 0.175001\tvalid_1's binary_logloss: 0.227538\n",
      "[2200]\ttraining's binary_logloss: 0.173034\tvalid_1's binary_logloss: 0.22734\n",
      "[2300]\ttraining's binary_logloss: 0.171244\tvalid_1's binary_logloss: 0.227157\n",
      "[2400]\ttraining's binary_logloss: 0.169473\tvalid_1's binary_logloss: 0.227069\n",
      "[2500]\ttraining's binary_logloss: 0.167461\tvalid_1's binary_logloss: 0.226961\n",
      "[2600]\ttraining's binary_logloss: 0.16558\tvalid_1's binary_logloss: 0.226794\n",
      "[2700]\ttraining's binary_logloss: 0.163815\tvalid_1's binary_logloss: 0.226637\n",
      "[2800]\ttraining's binary_logloss: 0.162174\tvalid_1's binary_logloss: 0.226445\n",
      "[2900]\ttraining's binary_logloss: 0.160359\tvalid_1's binary_logloss: 0.226286\n",
      "[3000]\ttraining's binary_logloss: 0.158837\tvalid_1's binary_logloss: 0.226218\n",
      "[3100]\ttraining's binary_logloss: 0.157045\tvalid_1's binary_logloss: 0.22614\n",
      "[3200]\ttraining's binary_logloss: 0.155594\tvalid_1's binary_logloss: 0.226055\n",
      "[3300]\ttraining's binary_logloss: 0.153801\tvalid_1's binary_logloss: 0.22589\n",
      "[3400]\ttraining's binary_logloss: 0.152015\tvalid_1's binary_logloss: 0.225719\n",
      "[3500]\ttraining's binary_logloss: 0.150599\tvalid_1's binary_logloss: 0.225579\n",
      "[3600]\ttraining's binary_logloss: 0.149104\tvalid_1's binary_logloss: 0.225511\n",
      "[3700]\ttraining's binary_logloss: 0.147601\tvalid_1's binary_logloss: 0.225449\n",
      "[3800]\ttraining's binary_logloss: 0.146192\tvalid_1's binary_logloss: 0.225353\n",
      "[3900]\ttraining's binary_logloss: 0.144813\tvalid_1's binary_logloss: 0.225252\n",
      "[4000]\ttraining's binary_logloss: 0.143553\tvalid_1's binary_logloss: 0.225204\n",
      "[4100]\ttraining's binary_logloss: 0.142238\tvalid_1's binary_logloss: 0.22518\n",
      "[4200]\ttraining's binary_logloss: 0.14107\tvalid_1's binary_logloss: 0.225162\n",
      "[4300]\ttraining's binary_logloss: 0.139844\tvalid_1's binary_logloss: 0.225128\n",
      "[4400]\ttraining's binary_logloss: 0.138631\tvalid_1's binary_logloss: 0.225093\n",
      "[4500]\ttraining's binary_logloss: 0.137512\tvalid_1's binary_logloss: 0.225082\n",
      "[4600]\ttraining's binary_logloss: 0.136322\tvalid_1's binary_logloss: 0.22508\n",
      "[4700]\ttraining's binary_logloss: 0.135102\tvalid_1's binary_logloss: 0.225054\n",
      "[4800]\ttraining's binary_logloss: 0.133958\tvalid_1's binary_logloss: 0.225056\n",
      "[4900]\ttraining's binary_logloss: 0.132877\tvalid_1's binary_logloss: 0.225059\n",
      "[5000]\ttraining's binary_logloss: 0.131656\tvalid_1's binary_logloss: 0.22502\n"
     ]
    },
    {
     "name": "stderr",
     "output_type": "stream",
     "text": [
      "[I 2025-02-17 17:18:32,356] Trial 5 finished with value: 0.9170769528978484 and parameters: {'num_leaves': 227, 'learning_rate': 0.008014096562086735, 'max_depth': 11, 'min_child_samples': 153, 'subsample': 0.9465914004845847, 'colsample_bytree': 0.5155374498372467, 'reg_alpha': 1.2374276785546979e-05, 'reg_lambda': 2.2266105854750767e-08}. Best is trial 4 with value: 0.9188455271937311.\n"
     ]
    },
    {
     "name": "stdout",
     "output_type": "stream",
     "text": [
      "\n",
      "Trial 5 finished | Best F1: 0.9171\n",
      "Params: {'objective': 'binary', 'metric': 'binary_logloss', 'boosting_type': 'gbdt', 'verbosity': -1, 'n_jobs': -1, 'feature_pre_filter': False, 'num_leaves': 227, 'learning_rate': 0.008014096562086735, 'max_depth': 11, 'min_child_samples': 153, 'subsample': 0.9465914004845847, 'colsample_bytree': 0.5155374498372467, 'reg_alpha': 1.2374276785546979e-05, 'reg_lambda': 2.2266105854750767e-08}\n",
      "\n",
      "[100]\ttraining's binary_logloss: 0.631811\tvalid_1's binary_logloss: 0.631924\n",
      "[200]\ttraining's binary_logloss: 0.576812\tvalid_1's binary_logloss: 0.577092\n",
      "[300]\ttraining's binary_logloss: 0.530261\tvalid_1's binary_logloss: 0.530707\n",
      "[400]\ttraining's binary_logloss: 0.494093\tvalid_1's binary_logloss: 0.494681\n",
      "[500]\ttraining's binary_logloss: 0.463607\tvalid_1's binary_logloss: 0.464332\n",
      "[600]\ttraining's binary_logloss: 0.436548\tvalid_1's binary_logloss: 0.437418\n",
      "[700]\ttraining's binary_logloss: 0.411938\tvalid_1's binary_logloss: 0.412968\n",
      "[800]\ttraining's binary_logloss: 0.391035\tvalid_1's binary_logloss: 0.392196\n",
      "[900]\ttraining's binary_logloss: 0.373528\tvalid_1's binary_logloss: 0.374825\n",
      "[1000]\ttraining's binary_logloss: 0.358218\tvalid_1's binary_logloss: 0.359658\n",
      "[1100]\ttraining's binary_logloss: 0.34546\tvalid_1's binary_logloss: 0.347033\n",
      "[1200]\ttraining's binary_logloss: 0.333757\tvalid_1's binary_logloss: 0.33547\n",
      "[1300]\ttraining's binary_logloss: 0.323653\tvalid_1's binary_logloss: 0.325511\n",
      "[1400]\ttraining's binary_logloss: 0.31514\tvalid_1's binary_logloss: 0.317127\n",
      "[1500]\ttraining's binary_logloss: 0.307571\tvalid_1's binary_logloss: 0.309676\n",
      "[1600]\ttraining's binary_logloss: 0.300836\tvalid_1's binary_logloss: 0.303056\n",
      "[1700]\ttraining's binary_logloss: 0.295125\tvalid_1's binary_logloss: 0.29745\n",
      "[1800]\ttraining's binary_logloss: 0.290027\tvalid_1's binary_logloss: 0.292458\n",
      "[1900]\ttraining's binary_logloss: 0.285345\tvalid_1's binary_logloss: 0.28789\n",
      "[2000]\ttraining's binary_logloss: 0.28126\tvalid_1's binary_logloss: 0.28392\n",
      "[2100]\ttraining's binary_logloss: 0.277804\tvalid_1's binary_logloss: 0.280555\n",
      "[2200]\ttraining's binary_logloss: 0.274751\tvalid_1's binary_logloss: 0.277606\n",
      "[2300]\ttraining's binary_logloss: 0.271996\tvalid_1's binary_logloss: 0.274963\n",
      "[2400]\ttraining's binary_logloss: 0.269584\tvalid_1's binary_logloss: 0.272663\n",
      "[2500]\ttraining's binary_logloss: 0.267421\tvalid_1's binary_logloss: 0.270611\n",
      "[2600]\ttraining's binary_logloss: 0.265311\tvalid_1's binary_logloss: 0.268619\n",
      "[2700]\ttraining's binary_logloss: 0.263402\tvalid_1's binary_logloss: 0.266836\n",
      "[2800]\ttraining's binary_logloss: 0.261581\tvalid_1's binary_logloss: 0.265157\n",
      "[2900]\ttraining's binary_logloss: 0.260026\tvalid_1's binary_logloss: 0.263731\n",
      "[3000]\ttraining's binary_logloss: 0.258602\tvalid_1's binary_logloss: 0.262434\n",
      "[3100]\ttraining's binary_logloss: 0.257334\tvalid_1's binary_logloss: 0.261294\n",
      "[3200]\ttraining's binary_logloss: 0.25611\tvalid_1's binary_logloss: 0.26019\n",
      "[3300]\ttraining's binary_logloss: 0.254924\tvalid_1's binary_logloss: 0.259126\n",
      "[3400]\ttraining's binary_logloss: 0.253804\tvalid_1's binary_logloss: 0.258138\n",
      "[3500]\ttraining's binary_logloss: 0.252812\tvalid_1's binary_logloss: 0.257255\n",
      "[3600]\ttraining's binary_logloss: 0.251893\tvalid_1's binary_logloss: 0.256461\n",
      "[3700]\ttraining's binary_logloss: 0.25104\tvalid_1's binary_logloss: 0.25574\n",
      "[3800]\ttraining's binary_logloss: 0.250278\tvalid_1's binary_logloss: 0.255111\n",
      "[3900]\ttraining's binary_logloss: 0.249538\tvalid_1's binary_logloss: 0.254499\n",
      "[4000]\ttraining's binary_logloss: 0.248833\tvalid_1's binary_logloss: 0.253914\n",
      "[4100]\ttraining's binary_logloss: 0.248177\tvalid_1's binary_logloss: 0.25339\n",
      "[4200]\ttraining's binary_logloss: 0.247558\tvalid_1's binary_logloss: 0.252888\n",
      "[4300]\ttraining's binary_logloss: 0.246968\tvalid_1's binary_logloss: 0.252418\n",
      "[4400]\ttraining's binary_logloss: 0.246385\tvalid_1's binary_logloss: 0.251952\n",
      "[4500]\ttraining's binary_logloss: 0.245831\tvalid_1's binary_logloss: 0.251521\n",
      "[4600]\ttraining's binary_logloss: 0.245313\tvalid_1's binary_logloss: 0.251116\n",
      "[4700]\ttraining's binary_logloss: 0.244815\tvalid_1's binary_logloss: 0.250722\n",
      "[4800]\ttraining's binary_logloss: 0.244348\tvalid_1's binary_logloss: 0.250355\n",
      "[4900]\ttraining's binary_logloss: 0.243869\tvalid_1's binary_logloss: 0.249958\n",
      "[5000]\ttraining's binary_logloss: 0.243397\tvalid_1's binary_logloss: 0.249531\n"
     ]
    },
    {
     "name": "stderr",
     "output_type": "stream",
     "text": [
      "[I 2025-02-17 17:18:41,070] Trial 6 finished with value: 0.9120734908136483 and parameters: {'num_leaves': 180, 'learning_rate': 0.0011672040278263845, 'max_depth': 6, 'min_child_samples': 18, 'subsample': 0.6393156044677821, 'colsample_bytree': 0.7854052298386087, 'reg_alpha': 7.583461470867443, 'reg_lambda': 1.8487239743460054e-08}. Best is trial 4 with value: 0.9188455271937311.\n"
     ]
    },
    {
     "name": "stdout",
     "output_type": "stream",
     "text": [
      "\n",
      "Trial 6 finished | Best F1: 0.9121\n",
      "Params: {'objective': 'binary', 'metric': 'binary_logloss', 'boosting_type': 'gbdt', 'verbosity': -1, 'n_jobs': -1, 'feature_pre_filter': False, 'num_leaves': 180, 'learning_rate': 0.0011672040278263845, 'max_depth': 6, 'min_child_samples': 18, 'subsample': 0.6393156044677821, 'colsample_bytree': 0.7854052298386087, 'reg_alpha': 7.583461470867443, 'reg_lambda': 1.8487239743460054e-08}\n",
      "\n",
      "[100]\ttraining's binary_logloss: 0.284044\tvalid_1's binary_logloss: 0.288645\n",
      "[200]\ttraining's binary_logloss: 0.241738\tvalid_1's binary_logloss: 0.250474\n",
      "[300]\ttraining's binary_logloss: 0.22842\tvalid_1's binary_logloss: 0.241539\n",
      "[400]\ttraining's binary_logloss: 0.220509\tvalid_1's binary_logloss: 0.237992\n",
      "[500]\ttraining's binary_logloss: 0.214756\tvalid_1's binary_logloss: 0.236419\n",
      "[600]\ttraining's binary_logloss: 0.209992\tvalid_1's binary_logloss: 0.235394\n",
      "[700]\ttraining's binary_logloss: 0.205642\tvalid_1's binary_logloss: 0.234539\n",
      "[800]\ttraining's binary_logloss: 0.201464\tvalid_1's binary_logloss: 0.233681\n",
      "[900]\ttraining's binary_logloss: 0.197561\tvalid_1's binary_logloss: 0.232909\n",
      "[1000]\ttraining's binary_logloss: 0.193768\tvalid_1's binary_logloss: 0.23249\n",
      "[1100]\ttraining's binary_logloss: 0.190241\tvalid_1's binary_logloss: 0.232155\n",
      "[1200]\ttraining's binary_logloss: 0.186761\tvalid_1's binary_logloss: 0.231728\n",
      "[1300]\ttraining's binary_logloss: 0.183173\tvalid_1's binary_logloss: 0.231208\n",
      "[1400]\ttraining's binary_logloss: 0.179843\tvalid_1's binary_logloss: 0.23076\n",
      "[1500]\ttraining's binary_logloss: 0.176629\tvalid_1's binary_logloss: 0.230363\n",
      "[1600]\ttraining's binary_logloss: 0.173445\tvalid_1's binary_logloss: 0.229887\n",
      "[1700]\ttraining's binary_logloss: 0.170264\tvalid_1's binary_logloss: 0.229533\n",
      "[1800]\ttraining's binary_logloss: 0.167345\tvalid_1's binary_logloss: 0.229148\n",
      "[1900]\ttraining's binary_logloss: 0.164679\tvalid_1's binary_logloss: 0.228771\n",
      "[2000]\ttraining's binary_logloss: 0.161908\tvalid_1's binary_logloss: 0.228502\n",
      "[2100]\ttraining's binary_logloss: 0.15899\tvalid_1's binary_logloss: 0.227955\n",
      "[2200]\ttraining's binary_logloss: 0.156565\tvalid_1's binary_logloss: 0.22764\n",
      "[2300]\ttraining's binary_logloss: 0.154341\tvalid_1's binary_logloss: 0.227312\n",
      "[2400]\ttraining's binary_logloss: 0.151983\tvalid_1's binary_logloss: 0.227137\n",
      "[2500]\ttraining's binary_logloss: 0.149419\tvalid_1's binary_logloss: 0.226934\n",
      "[2600]\ttraining's binary_logloss: 0.146892\tvalid_1's binary_logloss: 0.226714\n",
      "[2700]\ttraining's binary_logloss: 0.144843\tvalid_1's binary_logloss: 0.226548\n",
      "[2800]\ttraining's binary_logloss: 0.142749\tvalid_1's binary_logloss: 0.226475\n",
      "[2900]\ttraining's binary_logloss: 0.140449\tvalid_1's binary_logloss: 0.226264\n",
      "[3000]\ttraining's binary_logloss: 0.138595\tvalid_1's binary_logloss: 0.226216\n",
      "[3100]\ttraining's binary_logloss: 0.136699\tvalid_1's binary_logloss: 0.226102\n",
      "[3200]\ttraining's binary_logloss: 0.134684\tvalid_1's binary_logloss: 0.226031\n",
      "[3300]\ttraining's binary_logloss: 0.132958\tvalid_1's binary_logloss: 0.226011\n",
      "[3400]\ttraining's binary_logloss: 0.131313\tvalid_1's binary_logloss: 0.225848\n",
      "[3500]\ttraining's binary_logloss: 0.129658\tvalid_1's binary_logloss: 0.225724\n",
      "[3600]\ttraining's binary_logloss: 0.127605\tvalid_1's binary_logloss: 0.225482\n",
      "[3700]\ttraining's binary_logloss: 0.126094\tvalid_1's binary_logloss: 0.225414\n",
      "[3800]\ttraining's binary_logloss: 0.124628\tvalid_1's binary_logloss: 0.225442\n",
      "[3900]\ttraining's binary_logloss: 0.122942\tvalid_1's binary_logloss: 0.225436\n",
      "[4000]\ttraining's binary_logloss: 0.121185\tvalid_1's binary_logloss: 0.225465\n",
      "[4100]\ttraining's binary_logloss: 0.119142\tvalid_1's binary_logloss: 0.22531\n",
      "[4200]\ttraining's binary_logloss: 0.117475\tvalid_1's binary_logloss: 0.225312\n",
      "[4300]\ttraining's binary_logloss: 0.115802\tvalid_1's binary_logloss: 0.22514\n",
      "[4400]\ttraining's binary_logloss: 0.114139\tvalid_1's binary_logloss: 0.225036\n",
      "[4500]\ttraining's binary_logloss: 0.11262\tvalid_1's binary_logloss: 0.224889\n",
      "[4600]\ttraining's binary_logloss: 0.111111\tvalid_1's binary_logloss: 0.224803\n",
      "[4700]\ttraining's binary_logloss: 0.109844\tvalid_1's binary_logloss: 0.224829\n",
      "[4800]\ttraining's binary_logloss: 0.108455\tvalid_1's binary_logloss: 0.224827\n",
      "[4900]\ttraining's binary_logloss: 0.10727\tvalid_1's binary_logloss: 0.224944\n",
      "[5000]\ttraining's binary_logloss: 0.106173\tvalid_1's binary_logloss: 0.225012\n"
     ]
    },
    {
     "name": "stderr",
     "output_type": "stream",
     "text": [
      "[I 2025-02-17 17:18:49,457] Trial 7 finished with value: 0.9202306769361768 and parameters: {'num_leaves': 63, 'learning_rate': 0.017090862118390154, 'max_depth': 10, 'min_child_samples': 29, 'subsample': 0.634900320605567, 'colsample_bytree': 0.9972260306836762, 'reg_alpha': 0.00025307708752477236, 'reg_lambda': 0.6666782654226472}. Best is trial 7 with value: 0.9202306769361768.\n"
     ]
    },
    {
     "name": "stdout",
     "output_type": "stream",
     "text": [
      "\n",
      "Trial 7 finished | Best F1: 0.9202\n",
      "Params: {'objective': 'binary', 'metric': 'binary_logloss', 'boosting_type': 'gbdt', 'verbosity': -1, 'n_jobs': -1, 'feature_pre_filter': False, 'num_leaves': 63, 'learning_rate': 0.017090862118390154, 'max_depth': 10, 'min_child_samples': 29, 'subsample': 0.634900320605567, 'colsample_bytree': 0.9972260306836762, 'reg_alpha': 0.00025307708752477236, 'reg_lambda': 0.6666782654226472}\n",
      "\n",
      "[100]\ttraining's binary_logloss: 0.405973\tvalid_1's binary_logloss: 0.406653\n",
      "[200]\ttraining's binary_logloss: 0.320322\tvalid_1's binary_logloss: 0.321689\n",
      "[300]\ttraining's binary_logloss: 0.292993\tvalid_1's binary_logloss: 0.294725\n",
      "[400]\ttraining's binary_logloss: 0.282506\tvalid_1's binary_logloss: 0.28443\n",
      "[500]\ttraining's binary_logloss: 0.276131\tvalid_1's binary_logloss: 0.278235\n",
      "[600]\ttraining's binary_logloss: 0.271738\tvalid_1's binary_logloss: 0.273995\n",
      "[700]\ttraining's binary_logloss: 0.268088\tvalid_1's binary_logloss: 0.270543\n",
      "[800]\ttraining's binary_logloss: 0.265327\tvalid_1's binary_logloss: 0.267922\n",
      "[900]\ttraining's binary_logloss: 0.263177\tvalid_1's binary_logloss: 0.265894\n",
      "[1000]\ttraining's binary_logloss: 0.261329\tvalid_1's binary_logloss: 0.264211\n",
      "[1100]\ttraining's binary_logloss: 0.259742\tvalid_1's binary_logloss: 0.262783\n",
      "[1200]\ttraining's binary_logloss: 0.25797\tvalid_1's binary_logloss: 0.261158\n",
      "[1300]\ttraining's binary_logloss: 0.256318\tvalid_1's binary_logloss: 0.25964\n",
      "[1400]\ttraining's binary_logloss: 0.25473\tvalid_1's binary_logloss: 0.258196\n",
      "[1500]\ttraining's binary_logloss: 0.253534\tvalid_1's binary_logloss: 0.257093\n",
      "[1600]\ttraining's binary_logloss: 0.252609\tvalid_1's binary_logloss: 0.256249\n",
      "[1700]\ttraining's binary_logloss: 0.251643\tvalid_1's binary_logloss: 0.255346\n",
      "[1800]\ttraining's binary_logloss: 0.250766\tvalid_1's binary_logloss: 0.254549\n",
      "[1900]\ttraining's binary_logloss: 0.250037\tvalid_1's binary_logloss: 0.253873\n",
      "[2000]\ttraining's binary_logloss: 0.249425\tvalid_1's binary_logloss: 0.253353\n",
      "[2100]\ttraining's binary_logloss: 0.248798\tvalid_1's binary_logloss: 0.252809\n",
      "[2200]\ttraining's binary_logloss: 0.24821\tvalid_1's binary_logloss: 0.252303\n",
      "[2300]\ttraining's binary_logloss: 0.247682\tvalid_1's binary_logloss: 0.2519\n",
      "[2400]\ttraining's binary_logloss: 0.247153\tvalid_1's binary_logloss: 0.251485\n",
      "[2500]\ttraining's binary_logloss: 0.246638\tvalid_1's binary_logloss: 0.251051\n",
      "[2600]\ttraining's binary_logloss: 0.246187\tvalid_1's binary_logloss: 0.250679\n",
      "[2700]\ttraining's binary_logloss: 0.245847\tvalid_1's binary_logloss: 0.250457\n",
      "[2800]\ttraining's binary_logloss: 0.245469\tvalid_1's binary_logloss: 0.250185\n",
      "[2900]\ttraining's binary_logloss: 0.245166\tvalid_1's binary_logloss: 0.249985\n",
      "[3000]\ttraining's binary_logloss: 0.244878\tvalid_1's binary_logloss: 0.249784\n",
      "[3100]\ttraining's binary_logloss: 0.244565\tvalid_1's binary_logloss: 0.249559\n",
      "[3200]\ttraining's binary_logloss: 0.244318\tvalid_1's binary_logloss: 0.249391\n",
      "[3300]\ttraining's binary_logloss: 0.24406\tvalid_1's binary_logloss: 0.249209\n",
      "[3400]\ttraining's binary_logloss: 0.243826\tvalid_1's binary_logloss: 0.24904\n",
      "[3500]\ttraining's binary_logloss: 0.24362\tvalid_1's binary_logloss: 0.2489\n",
      "[3600]\ttraining's binary_logloss: 0.24344\tvalid_1's binary_logloss: 0.248778\n",
      "[3700]\ttraining's binary_logloss: 0.243228\tvalid_1's binary_logloss: 0.248617\n",
      "[3800]\ttraining's binary_logloss: 0.243013\tvalid_1's binary_logloss: 0.248461\n",
      "[3900]\ttraining's binary_logloss: 0.242841\tvalid_1's binary_logloss: 0.248346\n",
      "[4000]\ttraining's binary_logloss: 0.242689\tvalid_1's binary_logloss: 0.248287\n",
      "[4100]\ttraining's binary_logloss: 0.24254\tvalid_1's binary_logloss: 0.248211\n",
      "[4200]\ttraining's binary_logloss: 0.242374\tvalid_1's binary_logloss: 0.248128\n",
      "[4300]\ttraining's binary_logloss: 0.24224\tvalid_1's binary_logloss: 0.248084\n",
      "[4400]\ttraining's binary_logloss: 0.242121\tvalid_1's binary_logloss: 0.248045\n",
      "[4500]\ttraining's binary_logloss: 0.241986\tvalid_1's binary_logloss: 0.247982\n",
      "[4600]\ttraining's binary_logloss: 0.241845\tvalid_1's binary_logloss: 0.247919\n",
      "[4700]\ttraining's binary_logloss: 0.241703\tvalid_1's binary_logloss: 0.247857\n",
      "[4800]\ttraining's binary_logloss: 0.241558\tvalid_1's binary_logloss: 0.247775\n",
      "[4900]\ttraining's binary_logloss: 0.241461\tvalid_1's binary_logloss: 0.247767\n",
      "[5000]\ttraining's binary_logloss: 0.241348\tvalid_1's binary_logloss: 0.247749\n"
     ]
    },
    {
     "name": "stderr",
     "output_type": "stream",
     "text": [
      "[I 2025-02-17 17:18:54,749] Trial 8 finished with value: 0.9123064447619416 and parameters: {'num_leaves': 58, 'learning_rate': 0.008854599044284619, 'max_depth': 3, 'min_child_samples': 83, 'subsample': 0.7603064063519931, 'colsample_bytree': 0.9217153345925381, 'reg_alpha': 9.576815236454593, 'reg_lambda': 2.2839778599932607e-05}. Best is trial 7 with value: 0.9202306769361768.\n"
     ]
    },
    {
     "name": "stdout",
     "output_type": "stream",
     "text": [
      "\n",
      "Trial 8 finished | Best F1: 0.9123\n",
      "Params: {'objective': 'binary', 'metric': 'binary_logloss', 'boosting_type': 'gbdt', 'verbosity': -1, 'n_jobs': -1, 'feature_pre_filter': False, 'num_leaves': 58, 'learning_rate': 0.008854599044284619, 'max_depth': 3, 'min_child_samples': 83, 'subsample': 0.7603064063519931, 'colsample_bytree': 0.9217153345925381, 'reg_alpha': 9.576815236454593, 'reg_lambda': 2.2839778599932607e-05}\n",
      "\n",
      "[100]\ttraining's binary_logloss: 0.194785\tvalid_1's binary_logloss: 0.229206\n",
      "[200]\ttraining's binary_logloss: 0.164418\tvalid_1's binary_logloss: 0.224209\n",
      "[300]\ttraining's binary_logloss: 0.140243\tvalid_1's binary_logloss: 0.222214\n",
      "[400]\ttraining's binary_logloss: 0.119668\tvalid_1's binary_logloss: 0.220471\n",
      "[500]\ttraining's binary_logloss: 0.103687\tvalid_1's binary_logloss: 0.220267\n",
      "[600]\ttraining's binary_logloss: 0.0879121\tvalid_1's binary_logloss: 0.221189\n",
      "[700]\ttraining's binary_logloss: 0.0761724\tvalid_1's binary_logloss: 0.223039\n",
      "[800]\ttraining's binary_logloss: 0.0659487\tvalid_1's binary_logloss: 0.224523\n",
      "[900]\ttraining's binary_logloss: 0.0555204\tvalid_1's binary_logloss: 0.226922\n"
     ]
    },
    {
     "name": "stderr",
     "output_type": "stream",
     "text": [
      "[I 2025-02-17 17:18:57,243] Trial 9 finished with value: 0.9201736030380532 and parameters: {'num_leaves': 183, 'learning_rate': 0.08472780585043418, 'max_depth': 10, 'min_child_samples': 89, 'subsample': 0.6153434865648075, 'colsample_bytree': 0.7650217417850335, 'reg_alpha': 8.188040746890532e-05, 'reg_lambda': 9.276937143890487e-07}. Best is trial 7 with value: 0.9202306769361768.\n"
     ]
    },
    {
     "name": "stdout",
     "output_type": "stream",
     "text": [
      "\n",
      "Trial 9 finished | Best F1: 0.9202\n",
      "Params: {'objective': 'binary', 'metric': 'binary_logloss', 'boosting_type': 'gbdt', 'verbosity': -1, 'n_jobs': -1, 'feature_pre_filter': False, 'num_leaves': 183, 'learning_rate': 0.08472780585043418, 'max_depth': 10, 'min_child_samples': 89, 'subsample': 0.6153434865648075, 'colsample_bytree': 0.7650217417850335, 'reg_alpha': 8.188040746890532e-05, 'reg_lambda': 9.276937143890487e-07}\n",
      "\n",
      "Best trial:\n",
      "  F1: 0.9202\n",
      "  Params: \n",
      "    num_leaves: 63\n",
      "    learning_rate: 0.017090862118390154\n",
      "    max_depth: 10\n",
      "    min_child_samples: 29\n",
      "    subsample: 0.634900320605567\n",
      "    colsample_bytree: 0.9972260306836762\n",
      "    reg_alpha: 0.00025307708752477236\n",
      "    reg_lambda: 0.6666782654226472\n"
     ]
    }
   ],
   "source": [
    "study = optuna.create_study(direction='maximize')\n",
    "study.optimize(objective, n_trials=10)\n",
    "\n",
    "print(\"Best trial:\")\n",
    "trial = study.best_trial\n",
    "print(f\"  F1: {trial.value:.4f}\")\n",
    "print(\"  Params: \")\n",
    "for key, value in trial.params.items():\n",
    "    print(f\"    {key}: {value}\")"
   ]
  },
  {
   "cell_type": "code",
   "execution_count": 258,
   "metadata": {},
   "outputs": [
    {
     "name": "stdout",
     "output_type": "stream",
     "text": [
      "Training until validation scores don't improve for 50 rounds\n",
      "[50]\tvalid_0's binary_logloss: 0.374548\n",
      "[100]\tvalid_0's binary_logloss: 0.288645\n",
      "[150]\tvalid_0's binary_logloss: 0.260902\n",
      "[200]\tvalid_0's binary_logloss: 0.250474\n",
      "[250]\tvalid_0's binary_logloss: 0.245223\n",
      "[300]\tvalid_0's binary_logloss: 0.241539\n",
      "[350]\tvalid_0's binary_logloss: 0.239187\n",
      "[400]\tvalid_0's binary_logloss: 0.237992\n",
      "[450]\tvalid_0's binary_logloss: 0.237217\n",
      "[500]\tvalid_0's binary_logloss: 0.236419\n",
      "[550]\tvalid_0's binary_logloss: 0.235783\n",
      "[600]\tvalid_0's binary_logloss: 0.235394\n",
      "[650]\tvalid_0's binary_logloss: 0.234945\n",
      "[700]\tvalid_0's binary_logloss: 0.234539\n",
      "[750]\tvalid_0's binary_logloss: 0.233974\n",
      "[800]\tvalid_0's binary_logloss: 0.233681\n",
      "[850]\tvalid_0's binary_logloss: 0.233239\n",
      "[900]\tvalid_0's binary_logloss: 0.232909\n",
      "[950]\tvalid_0's binary_logloss: 0.232628\n",
      "[1000]\tvalid_0's binary_logloss: 0.23249\n",
      "Did not meet early stopping. Best iteration is:\n",
      "[988]\tvalid_0's binary_logloss: 0.232481\n",
      "\n",
      "Final Test F1: 0.9144\n"
     ]
    }
   ],
   "source": [
    "train_data = lgb.Dataset(X_train, label=y_train)\n",
    "test_data = lgb.Dataset(X_test, label=y_test, reference=train_data)\n",
    "\n",
    "best_params = trial.params\n",
    "best_params.update({\n",
    "    'objective': 'binary',\n",
    "    'metric': 'binary_logloss',\n",
    "    'verbosity': -1,\n",
    "    'n_jobs': -1\n",
    "})\n",
    "\n",
    "final_model = lgb.train(\n",
    "    best_params,\n",
    "    train_data,\n",
    "    valid_sets=[test_data],\n",
    "    num_boost_round=1000,\n",
    "    callbacks=[lgb.early_stopping(50), lgb.log_evaluation(50)]\n",
    ")\n",
    "\n",
    "# Оценка на тестовых данных\n",
    "test_preds = final_model.predict(X_test)\n",
    "test_preds_binary = np.where(test_preds > 0.5, 1, 0)\n",
    "final_f1 = f1_score(y_test, test_preds_binary)\n",
    "print(f\"\\nFinal Test F1: {final_f1:.4f}\")"
   ]
  },
  {
   "cell_type": "code",
   "execution_count": 259,
   "metadata": {},
   "outputs": [
    {
     "data": {
      "image/png": "[encoded data removed]",
      "text/plain": [
       "<Figure size 640x480 with 2 Axes>"
      ]
     },
     "metadata": {},
     "output_type": "display_data"
    }
   ],
   "source": [
    "cm_lgb = confusion_matrix(y_test, test_preds_binary)\n",
    "disp = ConfusionMatrixDisplay(confusion_matrix=cm_lgb)\n",
    "disp.plot()\n",
    "plt.show()"
   ]
  },
  {
   "cell_type": "code",
   "execution_count": null,
   "metadata": {},
   "outputs": [],
   "source": [
    "def objective(trial):\n",
    "    params = {\n",
    "        'n_estimators': trial.suggest_int('n_estimators', 50, 500),\n",
    "        'max_depth': trial.suggest_int('max_depth', 3, 15),\n",
    "        'min_samples_split': trial.suggest_int('min_samples_split', 2, 20),\n",
    "        'min_samples_leaf': trial.suggest_int('min_samples_leaf', 1, 10),\n",
    "        'max_features': trial.suggest_categorical('max_features', ['sqrt', 'log2', None]),\n",
    "        'bootstrap': trial.suggest_categorical('bootstrap', [True, False]),\n",
    "        'class_weight': trial.suggest_categorical('class_weight', [None, 'balanced', 'balanced_subsample'])\n",
    "    }\n",
    "    \n",
    "    model = RandomForestClassifier(\n",
    "        **params,\n",
    "        random_state=42,\n",
    "        n_jobs=-1\n",
    "    )\n",
    "    \n",
    "    scores = cross_val_score(\n",
    "        model,\n",
    "        X_train,\n",
    "        y_train,\n",
    "        cv=3,\n",
    "        scoring='f1_macro',\n",
    "        n_jobs=-1\n",
    "    )\n",
    "    \n",
    "    f1 = scores.mean()\n",
    "    return f1"
   ]
  },
  {
   "cell_type": "code",
   "execution_count": 269,
   "metadata": {},
   "outputs": [
    {
     "name": "stderr",
     "output_type": "stream",
     "text": [
      "[I 2025-02-17 20:14:36,370] A new study created in memory with name: no-name-0f3e3a7a-16a6-4653-80a6-abbb81ae9e62\n",
      "[I 2025-02-17 20:14:41,259] Trial 0 finished with value: 0.9178642542669717 and parameters: {'n_estimators': 234, 'max_depth': 14, 'min_samples_split': 9, 'min_samples_leaf': 8, 'max_features': 'sqrt', 'bootstrap': False, 'class_weight': 'balanced_subsample'}. Best is trial 0 with value: 0.9178642542669717.\n"
     ]
    },
    {
     "name": "stdout",
     "output_type": "stream",
     "text": [
      "Trial   0 | F1: 0.9179 | Params: {'n_estimators': 234, 'max_depth': 14, 'min_samples_split': 9, 'min_samples_leaf': 8, 'max_features': 'sqrt', 'bootstrap': False, 'class_weight': 'balanced_subsample'}\n"
     ]
    },
    {
     "name": "stderr",
     "output_type": "stream",
     "text": [
      "[I 2025-02-17 20:14:47,576] Trial 1 finished with value: 0.9160903437920856 and parameters: {'n_estimators': 174, 'max_depth': 5, 'min_samples_split': 2, 'min_samples_leaf': 8, 'max_features': None, 'bootstrap': False, 'class_weight': 'balanced_subsample'}. Best is trial 0 with value: 0.9178642542669717.\n",
      "[I 2025-02-17 20:15:01,688] Trial 2 finished with value: 0.9135926332290856 and parameters: {'n_estimators': 232, 'max_depth': 12, 'min_samples_split': 14, 'min_samples_leaf': 3, 'max_features': None, 'bootstrap': False, 'class_weight': 'balanced'}. Best is trial 0 with value: 0.9178642542669717.\n",
      "[I 2025-02-17 20:15:08,837] Trial 3 finished with value: 0.9133552464182312 and parameters: {'n_estimators': 463, 'max_depth': 9, 'min_samples_split': 15, 'min_samples_leaf': 2, 'max_features': 'sqrt', 'bootstrap': False, 'class_weight': 'balanced_subsample'}. Best is trial 0 with value: 0.9178642542669717.\n",
      "[I 2025-02-17 20:15:11,241] Trial 4 finished with value: 0.9117814947430712 and parameters: {'n_estimators': 76, 'max_depth': 4, 'min_samples_split': 8, 'min_samples_leaf': 5, 'max_features': None, 'bootstrap': False, 'class_weight': None}. Best is trial 0 with value: 0.9178642542669717.\n",
      "[I 2025-02-17 20:15:37,318] Trial 5 finished with value: 0.9102150750936041 and parameters: {'n_estimators': 408, 'max_depth': 14, 'min_samples_split': 2, 'min_samples_leaf': 2, 'max_features': None, 'bootstrap': False, 'class_weight': 'balanced'}. Best is trial 0 with value: 0.9178642542669717.\n"
     ]
    },
    {
     "name": "stdout",
     "output_type": "stream",
     "text": [
      "Trial   5 | F1: 0.9102 | Params: {'n_estimators': 408, 'max_depth': 14, 'min_samples_split': 2, 'min_samples_leaf': 2, 'max_features': None, 'bootstrap': False, 'class_weight': 'balanced'}\n"
     ]
    },
    {
     "name": "stderr",
     "output_type": "stream",
     "text": [
      "[I 2025-02-17 20:15:41,290] Trial 6 finished with value: 0.9141164621204987 and parameters: {'n_estimators': 314, 'max_depth': 11, 'min_samples_split': 6, 'min_samples_leaf': 7, 'max_features': 'log2', 'bootstrap': False, 'class_weight': 'balanced'}. Best is trial 0 with value: 0.9178642542669717.\n",
      "[I 2025-02-17 20:15:42,448] Trial 7 finished with value: 0.9104854718059778 and parameters: {'n_estimators': 97, 'max_depth': 5, 'min_samples_split': 13, 'min_samples_leaf': 10, 'max_features': 'sqrt', 'bootstrap': True, 'class_weight': 'balanced_subsample'}. Best is trial 0 with value: 0.9178642542669717.\n",
      "[I 2025-02-17 20:15:50,484] Trial 8 finished with value: 0.9183544373961471 and parameters: {'n_estimators': 228, 'max_depth': 9, 'min_samples_split': 14, 'min_samples_leaf': 8, 'max_features': None, 'bootstrap': True, 'class_weight': None}. Best is trial 8 with value: 0.9183544373961471.\n",
      "[I 2025-02-17 20:15:53,448] Trial 9 finished with value: 0.9133583684502685 and parameters: {'n_estimators': 264, 'max_depth': 10, 'min_samples_split': 8, 'min_samples_leaf': 6, 'max_features': 'log2', 'bootstrap': False, 'class_weight': None}. Best is trial 8 with value: 0.9183544373961471.\n",
      "[I 2025-02-17 20:16:04,322] Trial 10 finished with value: 0.918078752036934 and parameters: {'n_estimators': 343, 'max_depth': 8, 'min_samples_split': 20, 'min_samples_leaf': 10, 'max_features': None, 'bootstrap': True, 'class_weight': None}. Best is trial 8 with value: 0.9183544373961471.\n"
     ]
    },
    {
     "name": "stdout",
     "output_type": "stream",
     "text": [
      "Trial  10 | F1: 0.9181 | Params: {'n_estimators': 343, 'max_depth': 8, 'min_samples_split': 20, 'min_samples_leaf': 10, 'max_features': None, 'bootstrap': True, 'class_weight': None}\n"
     ]
    },
    {
     "name": "stderr",
     "output_type": "stream",
     "text": [
      "[I 2025-02-17 20:16:16,078] Trial 11 finished with value: 0.9180791702466355 and parameters: {'n_estimators': 361, 'max_depth': 8, 'min_samples_split': 20, 'min_samples_leaf': 10, 'max_features': None, 'bootstrap': True, 'class_weight': None}. Best is trial 8 with value: 0.9183544373961471.\n",
      "[I 2025-02-17 20:16:27,141] Trial 12 finished with value: 0.9180190430713521 and parameters: {'n_estimators': 375, 'max_depth': 7, 'min_samples_split': 20, 'min_samples_leaf': 9, 'max_features': None, 'bootstrap': True, 'class_weight': None}. Best is trial 8 with value: 0.9183544373961471.\n",
      "[I 2025-02-17 20:16:32,111] Trial 13 finished with value: 0.9167056018309397 and parameters: {'n_estimators': 183, 'max_depth': 6, 'min_samples_split': 17, 'min_samples_leaf': 5, 'max_features': None, 'bootstrap': True, 'class_weight': None}. Best is trial 8 with value: 0.9183544373961471.\n",
      "[I 2025-02-17 20:16:47,191] Trial 14 finished with value: 0.9181159523594776 and parameters: {'n_estimators': 468, 'max_depth': 8, 'min_samples_split': 17, 'min_samples_leaf': 9, 'max_features': None, 'bootstrap': True, 'class_weight': None}. Best is trial 8 with value: 0.9183544373961471.\n",
      "[I 2025-02-17 20:16:50,257] Trial 15 finished with value: 0.8978119357304492 and parameters: {'n_estimators': 458, 'max_depth': 3, 'min_samples_split': 17, 'min_samples_leaf': 8, 'max_features': 'log2', 'bootstrap': True, 'class_weight': None}. Best is trial 8 with value: 0.9183544373961471.\n"
     ]
    },
    {
     "name": "stdout",
     "output_type": "stream",
     "text": [
      "Trial  15 | F1: 0.8978 | Params: {'n_estimators': 458, 'max_depth': 3, 'min_samples_split': 17, 'min_samples_leaf': 8, 'max_features': 'log2', 'bootstrap': True, 'class_weight': None}\n"
     ]
    },
    {
     "name": "stderr",
     "output_type": "stream",
     "text": [
      "[I 2025-02-17 20:17:10,350] Trial 16 finished with value: 0.9184633881141687 and parameters: {'n_estimators': 497, 'max_depth': 12, 'min_samples_split': 12, 'min_samples_leaf': 6, 'max_features': None, 'bootstrap': True, 'class_weight': None}. Best is trial 16 with value: 0.9184633881141687.\n",
      "[I 2025-02-17 20:17:17,483] Trial 17 finished with value: 0.9185485204785341 and parameters: {'n_estimators': 175, 'max_depth': 12, 'min_samples_split': 11, 'min_samples_leaf': 4, 'max_features': None, 'bootstrap': True, 'class_weight': None}. Best is trial 17 with value: 0.9185485204785341.\n",
      "[I 2025-02-17 20:17:19,036] Trial 18 finished with value: 0.9149177287067527 and parameters: {'n_estimators': 144, 'max_depth': 12, 'min_samples_split': 10, 'min_samples_leaf': 4, 'max_features': 'log2', 'bootstrap': True, 'class_weight': None}. Best is trial 17 with value: 0.9185485204785341.\n",
      "[I 2025-02-17 20:17:23,054] Trial 19 finished with value: 0.9183012237685544 and parameters: {'n_estimators': 293, 'max_depth': 15, 'min_samples_split': 12, 'min_samples_leaf': 1, 'max_features': 'sqrt', 'bootstrap': True, 'class_weight': 'balanced'}. Best is trial 17 with value: 0.9185485204785341.\n",
      "[I 2025-02-17 20:17:28,392] Trial 20 finished with value: 0.9188300801051219 and parameters: {'n_estimators': 126, 'max_depth': 13, 'min_samples_split': 5, 'min_samples_leaf': 4, 'max_features': None, 'bootstrap': True, 'class_weight': None}. Best is trial 20 with value: 0.9188300801051219.\n"
     ]
    },
    {
     "name": "stdout",
     "output_type": "stream",
     "text": [
      "Trial  20 | F1: 0.9188 | Params: {'n_estimators': 126, 'max_depth': 13, 'min_samples_split': 5, 'min_samples_leaf': 4, 'max_features': None, 'bootstrap': True, 'class_weight': None}\n"
     ]
    },
    {
     "name": "stderr",
     "output_type": "stream",
     "text": [
      "[I 2025-02-17 20:17:33,980] Trial 21 finished with value: 0.9187935377350356 and parameters: {'n_estimators': 130, 'max_depth': 13, 'min_samples_split': 6, 'min_samples_leaf': 4, 'max_features': None, 'bootstrap': True, 'class_weight': None}. Best is trial 20 with value: 0.9188300801051219.\n",
      "[I 2025-02-17 20:17:39,633] Trial 22 finished with value: 0.9187931167957345 and parameters: {'n_estimators': 131, 'max_depth': 13, 'min_samples_split': 5, 'min_samples_leaf': 4, 'max_features': None, 'bootstrap': True, 'class_weight': None}. Best is trial 20 with value: 0.9188300801051219.\n",
      "[I 2025-02-17 20:17:44,951] Trial 23 finished with value: 0.9190348561134613 and parameters: {'n_estimators': 118, 'max_depth': 14, 'min_samples_split': 5, 'min_samples_leaf': 4, 'max_features': None, 'bootstrap': True, 'class_weight': None}. Best is trial 23 with value: 0.9190348561134613.\n",
      "[I 2025-02-17 20:17:47,713] Trial 24 finished with value: 0.9198213960938348 and parameters: {'n_estimators': 56, 'max_depth': 15, 'min_samples_split': 5, 'min_samples_leaf': 3, 'max_features': None, 'bootstrap': True, 'class_weight': None}. Best is trial 24 with value: 0.9198213960938348.\n",
      "[I 2025-02-17 20:17:50,657] Trial 25 finished with value: 0.9196979325584372 and parameters: {'n_estimators': 60, 'max_depth': 15, 'min_samples_split': 4, 'min_samples_leaf': 3, 'max_features': None, 'bootstrap': True, 'class_weight': None}. Best is trial 24 with value: 0.9198213960938348.\n"
     ]
    },
    {
     "name": "stdout",
     "output_type": "stream",
     "text": [
      "Trial  25 | F1: 0.9197 | Params: {'n_estimators': 60, 'max_depth': 15, 'min_samples_split': 4, 'min_samples_leaf': 3, 'max_features': None, 'bootstrap': True, 'class_weight': None}\n"
     ]
    },
    {
     "name": "stderr",
     "output_type": "stream",
     "text": [
      "[I 2025-02-17 20:17:53,624] Trial 26 finished with value: 0.9202022752606327 and parameters: {'n_estimators': 62, 'max_depth': 15, 'min_samples_split': 4, 'min_samples_leaf': 2, 'max_features': None, 'bootstrap': True, 'class_weight': None}. Best is trial 26 with value: 0.9202022752606327.\n",
      "[I 2025-02-17 20:17:57,048] Trial 27 finished with value: 0.920938934406589 and parameters: {'n_estimators': 70, 'max_depth': 15, 'min_samples_split': 3, 'min_samples_leaf': 1, 'max_features': None, 'bootstrap': True, 'class_weight': None}. Best is trial 27 with value: 0.920938934406589.\n",
      "[I 2025-02-17 20:17:58,207] Trial 28 finished with value: 0.9191296472349264 and parameters: {'n_estimators': 61, 'max_depth': 15, 'min_samples_split': 3, 'min_samples_leaf': 1, 'max_features': 'sqrt', 'bootstrap': True, 'class_weight': 'balanced_subsample'}. Best is trial 27 with value: 0.920938934406589.\n",
      "[I 2025-02-17 20:17:59,333] Trial 29 finished with value: 0.9166058274372347 and parameters: {'n_estimators': 84, 'max_depth': 14, 'min_samples_split': 7, 'min_samples_leaf': 2, 'max_features': 'log2', 'bootstrap': True, 'class_weight': 'balanced'}. Best is trial 27 with value: 0.920938934406589.\n",
      "[I 2025-02-17 20:18:00,271] Trial 30 finished with value: 0.9189100266881388 and parameters: {'n_estimators': 54, 'max_depth': 15, 'min_samples_split': 4, 'min_samples_leaf': 1, 'max_features': 'sqrt', 'bootstrap': True, 'class_weight': 'balanced_subsample'}. Best is trial 27 with value: 0.920938934406589.\n"
     ]
    },
    {
     "name": "stdout",
     "output_type": "stream",
     "text": [
      "Trial  30 | F1: 0.9189 | Params: {'n_estimators': 54, 'max_depth': 15, 'min_samples_split': 4, 'min_samples_leaf': 1, 'max_features': 'sqrt', 'bootstrap': True, 'class_weight': 'balanced_subsample'}\n"
     ]
    },
    {
     "name": "stderr",
     "output_type": "stream",
     "text": [
      "[I 2025-02-17 20:18:02,739] Trial 31 finished with value: 0.9197346319688678 and parameters: {'n_estimators': 51, 'max_depth': 15, 'min_samples_split': 3, 'min_samples_leaf': 3, 'max_features': None, 'bootstrap': True, 'class_weight': None}. Best is trial 27 with value: 0.920938934406589.\n",
      "[I 2025-02-17 20:18:07,049] Trial 32 finished with value: 0.9194385269701547 and parameters: {'n_estimators': 95, 'max_depth': 14, 'min_samples_split': 2, 'min_samples_leaf': 3, 'max_features': None, 'bootstrap': True, 'class_weight': None}. Best is trial 27 with value: 0.920938934406589.\n",
      "[I 2025-02-17 20:18:16,381] Trial 33 finished with value: 0.9202494339205156 and parameters: {'n_estimators': 206, 'max_depth': 15, 'min_samples_split': 3, 'min_samples_leaf': 2, 'max_features': None, 'bootstrap': True, 'class_weight': None}. Best is trial 27 with value: 0.920938934406589.\n",
      "[I 2025-02-17 20:18:25,938] Trial 34 finished with value: 0.919733177705972 and parameters: {'n_estimators': 213, 'max_depth': 14, 'min_samples_split': 3, 'min_samples_leaf': 2, 'max_features': None, 'bootstrap': True, 'class_weight': None}. Best is trial 27 with value: 0.920938934406589.\n",
      "[I 2025-02-17 20:18:35,349] Trial 35 finished with value: 0.9120413683029307 and parameters: {'n_estimators': 151, 'max_depth': 13, 'min_samples_split': 7, 'min_samples_leaf': 1, 'max_features': None, 'bootstrap': False, 'class_weight': 'balanced_subsample'}. Best is trial 27 with value: 0.920938934406589.\n"
     ]
    },
    {
     "name": "stdout",
     "output_type": "stream",
     "text": [
      "Trial  35 | F1: 0.9120 | Params: {'n_estimators': 151, 'max_depth': 13, 'min_samples_split': 7, 'min_samples_leaf': 1, 'max_features': None, 'bootstrap': False, 'class_weight': 'balanced_subsample'}\n"
     ]
    },
    {
     "name": "stderr",
     "output_type": "stream",
     "text": [
      "[I 2025-02-17 20:18:43,239] Trial 36 finished with value: 0.9189762659379762 and parameters: {'n_estimators': 196, 'max_depth': 11, 'min_samples_split': 2, 'min_samples_leaf': 2, 'max_features': None, 'bootstrap': True, 'class_weight': None}. Best is trial 27 with value: 0.920938934406589.\n",
      "[I 2025-02-17 20:18:50,557] Trial 37 finished with value: 0.9072582987385364 and parameters: {'n_estimators': 105, 'max_depth': 15, 'min_samples_split': 4, 'min_samples_leaf': 3, 'max_features': None, 'bootstrap': False, 'class_weight': 'balanced'}. Best is trial 27 with value: 0.920938934406589.\n",
      "[I 2025-02-17 20:18:57,335] Trial 38 finished with value: 0.9190631222074123 and parameters: {'n_estimators': 156, 'max_depth': 13, 'min_samples_split': 9, 'min_samples_leaf': 2, 'max_features': None, 'bootstrap': True, 'class_weight': None}. Best is trial 27 with value: 0.920938934406589.\n",
      "[I 2025-02-17 20:19:01,069] Trial 39 finished with value: 0.9158248994968042 and parameters: {'n_estimators': 257, 'max_depth': 11, 'min_samples_split': 6, 'min_samples_leaf': 1, 'max_features': 'sqrt', 'bootstrap': False, 'class_weight': 'balanced_subsample'}. Best is trial 27 with value: 0.920938934406589.\n",
      "[I 2025-02-17 20:19:04,587] Trial 40 finished with value: 0.9193583977327044 and parameters: {'n_estimators': 82, 'max_depth': 14, 'min_samples_split': 2, 'min_samples_leaf': 3, 'max_features': None, 'bootstrap': True, 'class_weight': 'balanced'}. Best is trial 27 with value: 0.920938934406589.\n"
     ]
    },
    {
     "name": "stdout",
     "output_type": "stream",
     "text": [
      "Trial  40 | F1: 0.9194 | Params: {'n_estimators': 82, 'max_depth': 14, 'min_samples_split': 2, 'min_samples_leaf': 3, 'max_features': None, 'bootstrap': True, 'class_weight': 'balanced'}\n"
     ]
    },
    {
     "name": "stderr",
     "output_type": "stream",
     "text": [
      "[I 2025-02-17 20:19:07,181] Trial 41 finished with value: 0.9198326322021324 and parameters: {'n_estimators': 53, 'max_depth': 15, 'min_samples_split': 3, 'min_samples_leaf': 3, 'max_features': None, 'bootstrap': True, 'class_weight': None}. Best is trial 27 with value: 0.920938934406589.\n",
      "[I 2025-02-17 20:19:11,055] Trial 42 finished with value: 0.920188458951373 and parameters: {'n_estimators': 80, 'max_depth': 15, 'min_samples_split': 4, 'min_samples_leaf': 2, 'max_features': None, 'bootstrap': True, 'class_weight': None}. Best is trial 27 with value: 0.920938934406589.\n",
      "[I 2025-02-17 20:19:15,784] Trial 43 finished with value: 0.9196474087451149 and parameters: {'n_estimators': 105, 'max_depth': 14, 'min_samples_split': 3, 'min_samples_leaf': 2, 'max_features': None, 'bootstrap': True, 'class_weight': None}. Best is trial 27 with value: 0.920938934406589.\n",
      "[I 2025-02-17 20:19:19,589] Trial 44 finished with value: 0.9201620941216867 and parameters: {'n_estimators': 82, 'max_depth': 14, 'min_samples_split': 4, 'min_samples_leaf': 1, 'max_features': None, 'bootstrap': True, 'class_weight': None}. Best is trial 27 with value: 0.920938934406589.\n",
      "[I 2025-02-17 20:19:20,901] Trial 45 finished with value: 0.9184130890181081 and parameters: {'n_estimators': 83, 'max_depth': 14, 'min_samples_split': 4, 'min_samples_leaf': 1, 'max_features': 'log2', 'bootstrap': False, 'class_weight': None}. Best is trial 27 with value: 0.920938934406589.\n"
     ]
    },
    {
     "name": "stdout",
     "output_type": "stream",
     "text": [
      "Trial  45 | F1: 0.9184 | Params: {'n_estimators': 83, 'max_depth': 14, 'min_samples_split': 4, 'min_samples_leaf': 1, 'max_features': 'log2', 'bootstrap': False, 'class_weight': None}\n"
     ]
    },
    {
     "name": "stderr",
     "output_type": "stream",
     "text": [
      "[I 2025-02-17 20:19:25,635] Trial 46 finished with value: 0.9191491703795064 and parameters: {'n_estimators': 108, 'max_depth': 13, 'min_samples_split': 7, 'min_samples_leaf': 2, 'max_features': None, 'bootstrap': True, 'class_weight': None}. Best is trial 27 with value: 0.920938934406589.\n",
      "[I 2025-02-17 20:19:32,015] Trial 47 finished with value: 0.9187810210953943 and parameters: {'n_estimators': 165, 'max_depth': 10, 'min_samples_split': 8, 'min_samples_leaf': 1, 'max_features': None, 'bootstrap': True, 'class_weight': None}. Best is trial 27 with value: 0.920938934406589.\n",
      "[I 2025-02-17 20:19:35,688] Trial 48 finished with value: 0.9194740288535178 and parameters: {'n_estimators': 78, 'max_depth': 14, 'min_samples_split': 6, 'min_samples_leaf': 2, 'max_features': None, 'bootstrap': True, 'class_weight': None}. Best is trial 27 with value: 0.920938934406589.\n",
      "[I 2025-02-17 20:19:45,539] Trial 49 finished with value: 0.9211327754998432 and parameters: {'n_estimators': 212, 'max_depth': 15, 'min_samples_split': 2, 'min_samples_leaf': 1, 'max_features': None, 'bootstrap': True, 'class_weight': None}. Best is trial 49 with value: 0.9211327754998432.\n"
     ]
    }
   ],
   "source": [
    "study = optuna.create_study(direction='maximize')\n",
    "study.optimize(objective, n_trials=50, timeout=3600)"
   ]
  },
  {
   "cell_type": "code",
   "execution_count": 270,
   "metadata": {},
   "outputs": [
    {
     "name": "stdout",
     "output_type": "stream",
     "text": [
      "\n",
      "Best trial:\n",
      "  F1: 0.9211\n",
      "  Params:\n",
      "    n_estimators: 212\n",
      "    max_depth: 15\n",
      "    min_samples_split: 2\n",
      "    min_samples_leaf: 1\n",
      "    max_features: None\n",
      "    bootstrap: True\n",
      "    class_weight: None\n"
     ]
    }
   ],
   "source": [
    "print(\"\\nBest trial:\")\n",
    "trial = study.best_trial\n",
    "print(f\"  F1: {trial.value:.4f}\")\n",
    "print(\"  Params:\")\n",
    "for key, value in trial.params.items():\n",
    "    print(f\"    {key}: {value}\")"
   ]
  },
  {
   "cell_type": "code",
   "execution_count": 271,
   "metadata": {},
   "outputs": [
    {
     "name": "stdout",
     "output_type": "stream",
     "text": [
      "\n",
      "Test F1: 0.9217\n"
     ]
    }
   ],
   "source": [
    "best_params = study.best_params\n",
    "final_model = RandomForestClassifier(\n",
    "    **best_params,\n",
    "    random_state=42,\n",
    "    n_jobs=-1\n",
    ").fit(X_train, y_train)\n",
    "\n",
    "# Оценка\n",
    "test_preds = final_model.predict(X_test)\n",
    "final_f1 = f1_score(y_test, test_preds, average='macro')\n",
    "print(f\"\\nTest F1: {final_f1:.4f}\")"
   ]
  },
  {
   "cell_type": "code",
   "execution_count": 272,
   "metadata": {},
   "outputs": [
    {
     "data": {
      "image/png": "[encoded data removed]",
      "text/plain": [
       "<Figure size 640x480 with 2 Axes>"
      ]
     },
     "metadata": {},
     "output_type": "display_data"
    }
   ],
   "source": [
    "cm_rfc = confusion_matrix(y_test, test_preds)\n",
    "disp = ConfusionMatrixDisplay(confusion_matrix=cm_rfc)\n",
    "disp.plot()\n",
    "plt.show()"
   ]
  },
  {
   "cell_type": "code",
   "execution_count": null,
   "metadata": {},
   "outputs": [],
   "source": []
  }
 ],
 "metadata": {
  "kernelspec": {
   "display_name": ".venv",
   "language": "python",
   "name": "python3"
  },
  "language_info": {
   "codemirror_mode": {
    "name": "ipython",
    "version": 3
   },
   "file_extension": ".py",
   "mimetype": "text/x-python",
   "name": "python",
   "nbconvert_exporter": "python",
   "pygments_lexer": "ipython3",
   "version": "3.12.3"
  }
 },
 "nbformat": 4,
 "nbformat_minor": 2
}
